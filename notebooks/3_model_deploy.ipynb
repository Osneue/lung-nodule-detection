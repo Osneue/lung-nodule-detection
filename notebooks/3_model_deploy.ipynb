{
 "cells": [
  {
   "cell_type": "code",
   "execution_count": 1,
   "id": "50f31b57-15d0-41d9-a685-695b8043ff6f",
   "metadata": {},
   "outputs": [
    {
     "name": "stderr",
     "output_type": "stream",
     "text": [
      "2025-05-21 08:36:23.707343: E external/local_xla/xla/stream_executor/cuda/cuda_dnn.cc:9261] Unable to register cuDNN factory: Attempting to register factory for plugin cuDNN when one has already been registered\n",
      "2025-05-21 08:36:23.707398: E external/local_xla/xla/stream_executor/cuda/cuda_fft.cc:607] Unable to register cuFFT factory: Attempting to register factory for plugin cuFFT when one has already been registered\n",
      "2025-05-21 08:36:23.708738: E external/local_xla/xla/stream_executor/cuda/cuda_blas.cc:1515] Unable to register cuBLAS factory: Attempting to register factory for plugin cuBLAS when one has already been registered\n",
      "2025-05-21 08:36:23.717046: I tensorflow/core/platform/cpu_feature_guard.cc:182] This TensorFlow binary is optimized to use available CPU instructions in performance-critical operations.\n",
      "To enable the following instructions: AVX2 FMA, in other operations, rebuild TensorFlow with the appropriate compiler flags.\n",
      "2025-05-21 08:36:24.522363: W tensorflow/compiler/tf2tensorrt/utils/py_utils.cc:38] TF-TRT Warning: Could not find TensorRT\n"
     ]
    }
   ],
   "source": [
    "import os\n",
    "import sys\n",
    "import torch\n",
    "import random\n",
    "import numpy as np\n",
    "import matplotlib.pyplot as plt\n",
    "%matplotlib inline\n",
    "\n",
    "use_cuda = torch.cuda.is_available()\n",
    "device = torch.device(\"cuda\" if use_cuda else \"cpu\")\n",
    "\n",
    "# 获取当前工作目录\n",
    "current_path = os.getcwd()\n",
    "\n",
    "# 获取当前目录的最后一个字符串（即最后一个文件夹名）\n",
    "last_directory = os.path.basename(current_path)\n",
    "\n",
    "# 检查是否是 notebook\n",
    "if last_directory == 'notebooks':\n",
    "    # 切换到上一级目录\n",
    "    os.chdir('..')\n",
    "\n",
    "#print(f\"切换到目录: {os.getcwd()}\")\n",
    "\n",
    "sys.path.append('src')  # 将模块所在的路径添加到 sys.path\n",
    "\n",
    "from util.logconf import logging\n",
    "from app.infer.eval_seg import SegmentationTestingApp\n",
    "\n",
    "log = logging.getLogger('nb')"
   ]
  },
  {
   "cell_type": "code",
   "execution_count": 2,
   "id": "bddd1aa0-7894-4dea-92c9-00fd60552939",
   "metadata": {},
   "outputs": [],
   "source": [
    "# 设置随机数种子方便复现实验结果\n",
    "def set_random_seed(seed=42):\n",
    "    random.seed(seed)\n",
    "    np.random.seed(seed)\n",
    "    torch.manual_seed(seed)\n",
    "    torch.cuda.manual_seed_all(seed)\n",
    "    torch.backends.cudnn.deterministic = True\n",
    "    torch.backends.cudnn.benchmark = False\n",
    "    #torch.set_num_threads(1)\n",
    "\n",
    "set_random_seed(42)"
   ]
  },
  {
   "cell_type": "code",
   "execution_count": 3,
   "id": "8178b157-ed04-45d0-ab36-22079b63e607",
   "metadata": {},
   "outputs": [],
   "source": [
    "# 定义一个辅助函数用于启动应用\n",
    "def run(app, *argv):\n",
    "    argv = list(argv)\n",
    "    log.info(\"Running: {}({!r}).main()\".format(app.__name__, argv))\n",
    "    app(argv).main()\n",
    "    log.info(\"Finished: {}.{!r}).main()\".format(app.__name__, argv))"
   ]
  },
  {
   "cell_type": "code",
   "execution_count": 4,
   "id": "6d79840b-0022-4d3f-9059-4aa1ea668a99",
   "metadata": {},
   "outputs": [
    {
     "name": "stderr",
     "output_type": "stream",
     "text": [
      "2025-05-20 23:50:53,084 INFO     pid:3399200 nb:004:run Running: SegmentationTestingApp(['--num-workers=1', '--platform=pytorch', '--model-path=data/models/seg/seg_2025-04-30_18.55.29_seg.3500000.state']).main()\n",
      "2025-05-20 23:50:53,420 INFO     pid:3399200 app.infer.testing_seg:143:initPytorchModel Using CUDA; 1 devices.\n",
      "2025-05-20 23:50:53,434 INFO     pid:3399200 app.infer.testing_seg:172:main Starting SegmentationTestingApp, Namespace(platform='pytorch', model_path='data/models/seg/seg_2025-04-30_18.55.29_seg.3500000.state', verbose=False, target=None, device_id=None, batch_size=16, num_workers=1)\n",
      "2025-05-20 23:50:59,668 INFO     pid:3399200 core.dsets_seg:273:__init__ <core.dsets_seg.Luna2dSegmentationDataset object at 0x7ff8e022d640>: 89 validation series, 1122 slices, 154 nodules\n",
      "2025-05-20 23:50:59,669 INFO     pid:3399200 app.infer.testing_seg:178:main 71 batches of size 16*1\n",
      "2025-05-20 23:50:59,682 WARNING  pid:3399200 util.util:221:enumerateWithEstimate E0 Validation  ----/71, starting\n",
      "2025-05-20 23:51:07,786 INFO     pid:3399200 util.util:238:enumerateWithEstimate E0 Validation     4/71, done at 2025-05-20 23:52:32, 0:01:30\n",
      "2025-05-20 23:51:38,132 INFO     pid:3399200 util.util:238:enumerateWithEstimate E0 Validation     8/71, done at 2025-05-20 23:56:13, 0:05:10\n",
      "2025-05-20 23:51:47,104 INFO     pid:3399200 util.util:238:enumerateWithEstimate E0 Validation    16/71, done at 2025-05-20 23:54:17, 0:03:14\n",
      "2025-05-20 23:53:09,013 INFO     pid:3399200 util.util:238:enumerateWithEstimate E0 Validation    32/71, done at 2025-05-20 23:55:39, 0:04:36\n",
      "2025-05-20 23:55:53,893 INFO     pid:3399200 util.util:238:enumerateWithEstimate E0 Validation    64/71, done at 2025-05-20 23:56:21, 0:05:18\n",
      "2025-05-20 23:56:11,629 WARNING  pid:3399200 util.util:251:enumerateWithEstimate E0 Validation  ----/71, done at 2025-05-20 23:56:11\n",
      "2025-05-20 23:56:11,875 INFO     pid:3399200 app.infer.testing_seg:258:logMetrics E0 SegmentationTestingApp\n",
      "2025-05-20 23:56:11,881 INFO     pid:3399200 app.infer.testing_seg:288:logMetrics E0 val      0.8396 loss, 0.0639 precision, 0.7667 recall, 0.1180 f1 score\n",
      "2025-05-20 23:56:11,882 INFO     pid:3399200 app.infer.testing_seg:298:logMetrics E0 val_all  0.8396 loss,  76.7% tp,  23.3% fn,    1122.6% fp\n",
      "2025-05-20 23:56:11,888 INFO     pid:3399200 nb:006:run Finished: SegmentationTestingApp.['--num-workers=1', '--platform=pytorch', '--model-path=data/models/seg/seg_2025-04-30_18.55.29_seg.3500000.state']).main()\n"
     ]
    }
   ],
   "source": [
    "run(SegmentationTestingApp, \"--num-workers=1\", \n",
    "    \"--platform=pytorch\",\n",
    "    \"--model-path=data/models/seg/seg_2025-04-30_18.55.29_seg.3500000.state\"\n",
    ")"
   ]
  },
  {
   "cell_type": "code",
   "execution_count": 5,
   "id": "b5389417-9075-4b3d-9dc3-535f255f5fe1",
   "metadata": {},
   "outputs": [
    {
     "name": "stderr",
     "output_type": "stream",
     "text": [
      "2025-05-20 23:56:11,903 INFO     pid:3399200 nb:004:run Running: SegmentationTestingApp(['--num-workers=1', '--platform=rknn', '--model-path=deployment/models/seg_model.rknn', '--target=rk3588', '--verbose']).main()\n",
      "I rknn-toolkit2 version: 2.3.2\n",
      "adb: unable to connect for root: closed\n",
      "I target set by user is: rk3588\n"
     ]
    },
    {
     "name": "stdout",
     "output_type": "stream",
     "text": [
      "--> Init runtime environment\n"
     ]
    },
    {
     "name": "stderr",
     "output_type": "stream",
     "text": [
      "I Get hardware info: target_platform = rk3588, os = Linux, aarch = aarch64\n",
      "I Check RK3588 board npu runtime version\n",
      "I Starting ntp or adb, target is RK3588\n",
      "I Start adb...\n",
      "I Connect to Device success!\n"
     ]
    },
    {
     "name": "stdout",
     "output_type": "stream",
     "text": [
      "I NPUTransfer(3399200): Starting NPU Transfer Client, Transfer version 2.2.2 (12abf2a@2024-09-02T03:22:41)\n",
      "I NPUTransfer(3399200): TransferBuffer: min aligned size: 1024\n",
      "D RKNNAPI: ==============================================\u001b[0m\n",
      "D RKNNAPI: RKNN VERSION:\u001b[0m\n",
      "D RKNNAPI:   API: 2.3.2 (1842325 build@2025-03-30T09:55:23)\u001b[0m\n",
      "D RKNNAPI:   DRV: rknn_server: 2.3.2 (1842325 build@2025-03-30T09:54:34)\u001b[0m\n",
      "D RKNNAPI:   DRV: rknnrt: 2.3.2 (429f97ae6b@2025-04-09T09:09:27)\u001b[0m\n",
      "D RKNNAPI: ==============================================\u001b[0m\n"
     ]
    },
    {
     "name": "stderr",
     "output_type": "stream",
     "text": [
      "2025-05-20 23:56:14,446 INFO     pid:3399200 app.infer.testing_seg:172:main Starting SegmentationTestingApp, Namespace(platform='rknn', model_path='deployment/models/seg_model.rknn', verbose=True, target='rk3588', device_id=None, batch_size=1, num_workers=1)\n",
      "2025-05-20 23:56:14,612 INFO     pid:3399200 core.dsets_seg:273:__init__ <core.dsets_seg.Luna2dSegmentationDataset object at 0x7ff8e022da00>: 89 validation series, 1122 slices, 154 nodules\n",
      "2025-05-20 23:56:14,613 INFO     pid:3399200 app.infer.testing_seg:178:main 1122 batches of size 1*1\n",
      "2025-05-20 23:56:14,615 WARNING  pid:3399200 util.util:221:enumerateWithEstimate E0 Validation  ----/1122, starting\n"
     ]
    },
    {
     "name": "stdout",
     "output_type": "stream",
     "text": [
      "D RKNNAPI: Input tensors:\u001b[0m\n",
      "D RKNNAPI:   index=0, name=input, n_dims=4, dims=[1, 512, 512, 7], n_elems=1835008, size=3670016, w_stride = 0, size_with_stride = 0, fmt=NHWC, type=FP16, qnt_type=NONE, zp=0, scale=1.000000\u001b[0m\n",
      "D RKNNAPI: Output tensors:\u001b[0m\n",
      "done\n",
      "Model-deployment/models/seg_model.rknn is rknn model, starting val\n",
      "D RKNNAPI:   index=0, name=output, n_dims=4, dims=[1, 1, 512, 512], n_elems=262144, size=524288, w_stride = 0, size_with_stride = 0, fmt=NCHW, type=FP16, qnt_type=NONE, zp=0, scale=1.000000\u001b[0m\n"
     ]
    },
    {
     "name": "stderr",
     "output_type": "stream",
     "text": [
      "2025-05-20 23:56:34,090 INFO     pid:3399200 util.util:238:enumerateWithEstimate E0 Validation     4/1122, done at 2025-05-21 00:25:48, 0:29:20\n",
      "2025-05-20 23:56:51,553 INFO     pid:3399200 util.util:238:enumerateWithEstimate E0 Validation    16/1122, done at 2025-05-21 00:24:11, 0:27:43\n",
      "2025-05-20 23:58:40,680 INFO     pid:3399200 util.util:238:enumerateWithEstimate E0 Validation    64/1122, done at 2025-05-21 00:35:15, 0:38:47\n",
      "2025-05-21 00:02:48,933 INFO     pid:3399200 util.util:238:enumerateWithEstimate E0 Validation   256/1122, done at 2025-05-21 00:24:16, 0:27:48\n",
      "2025-05-21 00:22:28,910 INFO     pid:3399200 util.util:238:enumerateWithEstimate E0 Validation  1024/1122, done at 2025-05-21 00:24:56, 0:28:28\n",
      "2025-05-21 00:24:54,128 WARNING  pid:3399200 util.util:251:enumerateWithEstimate E0 Validation  ----/1122, done at 2025-05-21 00:24:54\n",
      "2025-05-21 00:24:54,130 INFO     pid:3399200 app.infer.testing_seg:258:logMetrics E0 SegmentationTestingApp\n",
      "2025-05-21 00:24:54,131 INFO     pid:3399200 app.infer.testing_seg:288:logMetrics E0 val      0.8932 loss, 0.0640 precision, 0.7666 recall, 0.1182 f1 score\n",
      "2025-05-21 00:24:54,132 INFO     pid:3399200 app.infer.testing_seg:298:logMetrics E0 val_all  0.8932 loss,  76.7% tp,  23.3% fn,    1120.5% fp\n",
      "2025-05-21 00:24:54,357 INFO     pid:3399200 nb:006:run Finished: SegmentationTestingApp.['--num-workers=1', '--platform=rknn', '--model-path=deployment/models/seg_model.rknn', '--target=rk3588', '--verbose']).main()\n"
     ]
    }
   ],
   "source": [
    "run(SegmentationTestingApp, \"--num-workers=1\", \n",
    "    \"--platform=rknn\",\n",
    "    \"--model-path=deployment/models/seg_model.rknn\",\n",
    "    \"--target=rk3588\",\n",
    "    \"--verbose\"\n",
    ")"
   ]
  },
  {
   "cell_type": "code",
   "execution_count": null,
   "id": "e38130bd-30fc-43c5-bfa1-56c56d707fb4",
   "metadata": {},
   "outputs": [],
   "source": []
  }
 ],
 "metadata": {
  "kernelspec": {
   "display_name": "Python 3 (ipykernel)",
   "language": "python",
   "name": "python3"
  },
  "language_info": {
   "codemirror_mode": {
    "name": "ipython",
    "version": 3
   },
   "file_extension": ".py",
   "mimetype": "text/x-python",
   "name": "python",
   "nbconvert_exporter": "python",
   "pygments_lexer": "ipython3",
   "version": "3.9.21"
  }
 },
 "nbformat": 4,
 "nbformat_minor": 5
}
