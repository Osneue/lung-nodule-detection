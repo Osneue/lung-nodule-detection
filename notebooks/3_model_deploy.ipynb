{
 "cells": [
  {
   "cell_type": "markdown",
   "id": "d61bd77d-c034-4f19-9494-8f69d8bf2f66",
   "metadata": {},
   "source": [
    "# **Lung-Nodule-Detection: Part-3 Model Deployment**"
   ]
  },
  {
   "cell_type": "markdown",
   "id": "3421dda7-3aa9-451e-ad9d-734b89d2d639",
   "metadata": {},
   "source": [
    "## 目标\n",
    "\n",
    "在Part-3部分，分别 **部署** 分割模型和分类模型 到 ***RK3588S*** 平台，并 **验证** 运行结果的正确性 。\n"
   ]
  },
  {
   "cell_type": "markdown",
   "id": "b157151d-8439-4784-9392-b2b5216bb512",
   "metadata": {},
   "source": [
    "## 内容\n",
    "\n",
    "本节主要由2部分组成\n",
    "\n",
    "- 导出训练好的模型为 **ONNX** 格式，再转换成 ***RK3588S*** 的 ***NPU*** 支持的 ***RKNN*** 格式\n",
    "- 分别部署分割模型和分类模型 到 ***RK3588S*** 平台，并与 ***PC*** 运行结果比对"
   ]
  },
  {
   "cell_type": "markdown",
   "id": "9497e8bc-9a1d-4265-993f-a93578fdfd43",
   "metadata": {},
   "source": [
    "## 备注\n",
    "\n",
    "由于分类模型使用了 ***Conv3d*** 算子，而 ***RKNN*** 不支持 **3D卷积**，所以在作分类模型的格式转换时，会 **报错** 。  \n",
    "有以下两种解决办法：\n",
    "\n",
    "- 修改模型架构，改用 ***Conv2d*** 实现 ***Conv3d*** 的等价操作\n",
    "- 分类模型不使用 ***RKNPU***，改为 ***ONNX Runtime*** + ***GPU (OpenCL)***\n",
    "\n",
    "**TODO**: 由于本项目着重 **嵌入式 + AI** 的结合，重点在 **部署**，所以拟采用 ***ONNX Runtime*** + ***GPU (OpenCL)*** 的方案"
   ]
  },
  {
   "cell_type": "markdown",
   "id": "c6cdb7b1-a689-4ba5-9fd8-c70a3d3a75da",
   "metadata": {},
   "source": [
    "## 设置\n",
    "**必须**先执行一次设置代码块"
   ]
  },
  {
   "cell_type": "code",
   "execution_count": 1,
   "id": "50f31b57-15d0-41d9-a685-695b8043ff6f",
   "metadata": {},
   "outputs": [
    {
     "name": "stderr",
     "output_type": "stream",
     "text": [
      "2025-05-26 21:43:15.338237: E external/local_xla/xla/stream_executor/cuda/cuda_dnn.cc:9261] Unable to register cuDNN factory: Attempting to register factory for plugin cuDNN when one has already been registered\n",
      "2025-05-26 21:43:15.338288: E external/local_xla/xla/stream_executor/cuda/cuda_fft.cc:607] Unable to register cuFFT factory: Attempting to register factory for plugin cuFFT when one has already been registered\n",
      "2025-05-26 21:43:15.339374: E external/local_xla/xla/stream_executor/cuda/cuda_blas.cc:1515] Unable to register cuBLAS factory: Attempting to register factory for plugin cuBLAS when one has already been registered\n",
      "2025-05-26 21:43:15.346264: I tensorflow/core/platform/cpu_feature_guard.cc:182] This TensorFlow binary is optimized to use available CPU instructions in performance-critical operations.\n",
      "To enable the following instructions: AVX2 FMA, in other operations, rebuild TensorFlow with the appropriate compiler flags.\n",
      "2025-05-26 21:43:16.182727: W tensorflow/compiler/tf2tensorrt/utils/py_utils.cc:38] TF-TRT Warning: Could not find TensorRT\n"
     ]
    }
   ],
   "source": [
    "import os\n",
    "import sys\n",
    "import torch\n",
    "import random\n",
    "import numpy as np\n",
    "import matplotlib.pyplot as plt\n",
    "%matplotlib inline\n",
    "\n",
    "use_cuda = torch.cuda.is_available()\n",
    "device = torch.device(\"cuda\" if use_cuda else \"cpu\")\n",
    "\n",
    "# 获取当前工作目录\n",
    "current_path = os.getcwd()\n",
    "\n",
    "# 获取当前目录的最后一个字符串（即最后一个文件夹名）\n",
    "last_directory = os.path.basename(current_path)\n",
    "\n",
    "# 检查是否是 notebook\n",
    "if last_directory == 'notebooks':\n",
    "    # 切换到上一级目录\n",
    "    os.chdir('..')\n",
    "\n",
    "#print(f\"切换到目录: {os.getcwd()}\")\n",
    "\n",
    "sys.path.append('src')  # 将模块所在的路径添加到 sys.path\n",
    "\n",
    "from util.logconf import logging\n",
    "from app.infer.eval_seg import SegmentationTestingApp\n",
    "from deployment.export_onnx import *\n",
    "from deployment.convert_rknn import *\n",
    "\n",
    "log = logging.getLogger('nb')"
   ]
  },
  {
   "cell_type": "code",
   "execution_count": 2,
   "id": "bddd1aa0-7894-4dea-92c9-00fd60552939",
   "metadata": {},
   "outputs": [],
   "source": [
    "# 设置随机数种子方便复现实验结果\n",
    "def set_random_seed(seed=42):\n",
    "    random.seed(seed)\n",
    "    np.random.seed(seed)\n",
    "    torch.manual_seed(seed)\n",
    "    torch.cuda.manual_seed_all(seed)\n",
    "    torch.backends.cudnn.deterministic = True\n",
    "    torch.backends.cudnn.benchmark = False\n",
    "    #torch.set_num_threads(1)\n",
    "\n",
    "set_random_seed(42)"
   ]
  },
  {
   "cell_type": "code",
   "execution_count": 3,
   "id": "8178b157-ed04-45d0-ab36-22079b63e607",
   "metadata": {},
   "outputs": [],
   "source": [
    "# 定义一个辅助函数用于启动应用\n",
    "def run(app, *argv):\n",
    "    argv = list(argv)\n",
    "    log.info(\"Running: {}({!r}).main()\".format(app.__name__, argv))\n",
    "    app(argv).main()\n",
    "    log.info(\"Finished: {}.{!r}).main()\".format(app.__name__, argv))"
   ]
  },
  {
   "cell_type": "markdown",
   "id": "a86d9492-58b8-4dbb-a44b-6ec060762fc5",
   "metadata": {},
   "source": [
    "## 导出并转换为RKNN模型"
   ]
  },
  {
   "cell_type": "code",
   "execution_count": 4,
   "id": "b8b5efb7-d74e-49ba-b630-123d964ea72e",
   "metadata": {},
   "outputs": [
    {
     "name": "stdout",
     "output_type": "stream",
     "text": [
      "export to deployment/models/seg_model.onnx\n"
     ]
    }
   ],
   "source": [
    "# 导出分割模型为ONNX格式\n",
    "export_onnx([\"--import-path=data/models/seg/seg_2025-04-30_18.55.29_seg.3500000.state\",\n",
    "            \"--input-shape\", \"1\", \"7\", \"512\", \"512\", \"--model-type=seg\"])"
   ]
  },
  {
   "cell_type": "code",
   "execution_count": 5,
   "id": "51d138f0-a9de-425e-94e7-fc879410b3c9",
   "metadata": {},
   "outputs": [
    {
     "name": "stderr",
     "output_type": "stream",
     "text": [
      "I rknn-toolkit2 version: 2.3.2\n"
     ]
    },
    {
     "name": "stdout",
     "output_type": "stream",
     "text": [
      "--> Config model\n",
      "done\n",
      "--> Loading model\n"
     ]
    },
    {
     "name": "stderr",
     "output_type": "stream",
     "text": [
      "I Loading : 100%|████████████████████████████████████████████████| 70/70 [00:00<00:00, 85523.24it/s]\n",
      "\u001b[1;33mW\u001b[0m \u001b[1;33mload_onnx: The config.mean_values is None, zeros will be set for input 0!\u001b[0m\n",
      "\u001b[1;33mW\u001b[0m \u001b[1;33mload_onnx: The config.std_values is None, ones will be set for input 0!\u001b[0m\n",
      "\u001b[1;33mW\u001b[0m \u001b[1;33mbuild: The dataset='' is ignored because do_quantization = False!\u001b[0m\n"
     ]
    },
    {
     "name": "stdout",
     "output_type": "stream",
     "text": [
      "done\n",
      "--> Building model\n"
     ]
    },
    {
     "name": "stderr",
     "output_type": "stream",
     "text": [
      "I OpFusing 2 : 100%|████████████████████████████████████████████| 100/100 [00:00<00:00, 2159.23it/s]"
     ]
    },
    {
     "name": "stdout",
     "output_type": "stream",
     "text": [
      "\n",
      "\n"
     ]
    },
    {
     "name": "stderr",
     "output_type": "stream",
     "text": [
      "I OpFusing 2 : 100%|█████████████████████████████████████████████| 100/100 [00:00<00:00, 232.48it/s]\n",
      "I rknn building ...\n",
      "I rknn building done.\n"
     ]
    },
    {
     "name": "stdout",
     "output_type": "stream",
     "text": [
      "done\n",
      "--> Export rknn model\n",
      "done\n"
     ]
    }
   ],
   "source": [
    "# 导出分割模型为ONNX格式\n",
    "convert_main([\"--import-path=deployment/models/seg_model.onnx\", \"--model-type=seg\", \"--platform=rk3588\"])"
   ]
  },
  {
   "cell_type": "code",
   "execution_count": 6,
   "id": "150c9f8c-07c0-45f4-80c6-0155dce46bcc",
   "metadata": {},
   "outputs": [
    {
     "name": "stdout",
     "output_type": "stream",
     "text": [
      "export to deployment/models/cls_model.onnx\n"
     ]
    }
   ],
   "source": [
    "# 导出分类模型为ONNX格式\n",
    "export_onnx([\"--import-path=data/models/nodule-cls/cls_2025-05-01_10.27.09_nodule_cls.best.state\",\n",
    "            \"--input-shape\", \"1\", \"1\", \"32\", \"48\", \"48\", \"--model-type=cls\"])"
   ]
  },
  {
   "cell_type": "code",
   "execution_count": 7,
   "id": "e28c4154-1794-4e38-b920-24493c7bb661",
   "metadata": {},
   "outputs": [],
   "source": [
    "# 导出分类模型为ONNX格式\n",
    "# ATTENTION!!! 取消注释下面的代码会导致 ipykernel 崩溃，原因见本节开篇备注\n",
    "# convert_main([\"--import-path=deployment/models/cls_model.onnx\", \"--model-type=cls\", \"--platform=rk3588\"])"
   ]
  },
  {
   "cell_type": "markdown",
   "id": "b5e406e3-8fb8-4316-b401-594d9ad495f0",
   "metadata": {},
   "source": [
    "## 部署分割模型到RK-NPU"
   ]
  },
  {
   "cell_type": "code",
   "execution_count": 8,
   "id": "6d79840b-0022-4d3f-9059-4aa1ea668a99",
   "metadata": {},
   "outputs": [
    {
     "name": "stderr",
     "output_type": "stream",
     "text": [
      "2025-05-26 21:43:19,622 INFO     pid:1453421 nb:004:run Running: SegmentationTestingApp(['--num-workers=0', '--platform=pytorch', '--model-path=data/models/seg/seg_2025-04-30_18.55.29_seg.3500000.state', '--verbose']).main()\n",
      "2025-05-26 21:43:19,692 INFO     pid:1453421 app.infer.eval_seg:158:initPytorchModel Using CUDA; 1 devices.\n",
      "2025-05-26 21:43:19,698 INFO     pid:1453421 app.infer.eval_seg:202:main Starting SegmentationTestingApp, Namespace(platform='pytorch', model_path='data/models/seg/seg_2025-04-30_18.55.29_seg.3500000.state', verbose=True, target=None, device_id=None, batch_size=16, num_workers=0)\n",
      "2025-05-26 21:43:26,583 INFO     pid:1453421 app.infer.eval_seg:206:main 71 batches of size 16*1\n",
      "2025-05-26 21:43:26,599 WARNING  pid:1453421 util.util:221:enumerateWithEstimate E0 Validation  ----/71, starting\n",
      "2025-05-26 21:43:36,367 INFO     pid:1453421 util.util:238:enumerateWithEstimate E0 Validation     4/71, done at 2025-05-26 21:45:45, 0:02:18\n",
      "2025-05-26 21:43:46,613 INFO     pid:1453421 util.util:238:enumerateWithEstimate E0 Validation     8/71, done at 2025-05-26 21:46:04, 0:02:37\n",
      "2025-05-26 21:43:59,410 INFO     pid:1453421 util.util:238:enumerateWithEstimate E0 Validation    16/71, done at 2025-05-26 21:45:43, 0:02:17\n",
      "2025-05-26 21:44:15,449 INFO     pid:1453421 util.util:238:enumerateWithEstimate E0 Validation    32/71, done at 2025-05-26 21:45:11, 0:01:45\n",
      "2025-05-26 21:44:53,307 INFO     pid:1453421 util.util:238:enumerateWithEstimate E0 Validation    64/71, done at 2025-05-26 21:45:01, 0:01:34\n",
      "2025-05-26 21:45:01,650 WARNING  pid:1453421 util.util:251:enumerateWithEstimate E0 Validation  ----/71, done at 2025-05-26 21:45:01\n",
      "2025-05-26 21:45:01,865 INFO     pid:1453421 app.infer.eval_seg:289:logMetrics E0 SegmentationTestingApp\n",
      "2025-05-26 21:45:01,884 INFO     pid:1453421 app.infer.eval_seg:319:logMetrics E0 val      0.8396 loss, 0.0639 precision, 0.7667 recall, 0.1180 f1 score\n",
      "2025-05-26 21:45:01,885 INFO     pid:1453421 app.infer.eval_seg:329:logMetrics E0 val_all  0.8396 loss,  76.7% tp,  23.3% fn,    1122.6% fp\n",
      "2025-05-26 21:45:01,887 INFO     pid:1453421 nb:006:run Finished: SegmentationTestingApp.['--num-workers=0', '--platform=pytorch', '--model-path=data/models/seg/seg_2025-04-30_18.55.29_seg.3500000.state', '--verbose']).main()\n"
     ]
    }
   ],
   "source": [
    "# PC的运行结果\n",
    "run(SegmentationTestingApp, \"--num-workers=0\", \n",
    "    \"--platform=pytorch\",\n",
    "    \"--model-path=data/models/seg/seg_2025-04-30_18.55.29_seg.3500000.state\",\n",
    "    \"--verbose\"\n",
    ")"
   ]
  },
  {
   "cell_type": "code",
   "execution_count": 5,
   "id": "b5389417-9075-4b3d-9dc3-535f255f5fe1",
   "metadata": {},
   "outputs": [
    {
     "name": "stderr",
     "output_type": "stream",
     "text": [
      "2025-05-20 23:56:11,903 INFO     pid:3399200 nb:004:run Running: SegmentationTestingApp(['--num-workers=1', '--platform=rknn', '--model-path=deployment/models/seg_model.rknn', '--target=rk3588', '--verbose']).main()\n",
      "I rknn-toolkit2 version: 2.3.2\n",
      "adb: unable to connect for root: closed\n",
      "I target set by user is: rk3588\n"
     ]
    },
    {
     "name": "stdout",
     "output_type": "stream",
     "text": [
      "--> Init runtime environment\n"
     ]
    },
    {
     "name": "stderr",
     "output_type": "stream",
     "text": [
      "I Get hardware info: target_platform = rk3588, os = Linux, aarch = aarch64\n",
      "I Check RK3588 board npu runtime version\n",
      "I Starting ntp or adb, target is RK3588\n",
      "I Start adb...\n",
      "I Connect to Device success!\n"
     ]
    },
    {
     "name": "stdout",
     "output_type": "stream",
     "text": [
      "I NPUTransfer(3399200): Starting NPU Transfer Client, Transfer version 2.2.2 (12abf2a@2024-09-02T03:22:41)\n",
      "I NPUTransfer(3399200): TransferBuffer: min aligned size: 1024\n",
      "D RKNNAPI: ==============================================\u001b[0m\n",
      "D RKNNAPI: RKNN VERSION:\u001b[0m\n",
      "D RKNNAPI:   API: 2.3.2 (1842325 build@2025-03-30T09:55:23)\u001b[0m\n",
      "D RKNNAPI:   DRV: rknn_server: 2.3.2 (1842325 build@2025-03-30T09:54:34)\u001b[0m\n",
      "D RKNNAPI:   DRV: rknnrt: 2.3.2 (429f97ae6b@2025-04-09T09:09:27)\u001b[0m\n",
      "D RKNNAPI: ==============================================\u001b[0m\n"
     ]
    },
    {
     "name": "stderr",
     "output_type": "stream",
     "text": [
      "2025-05-20 23:56:14,446 INFO     pid:3399200 app.infer.testing_seg:172:main Starting SegmentationTestingApp, Namespace(platform='rknn', model_path='deployment/models/seg_model.rknn', verbose=True, target='rk3588', device_id=None, batch_size=1, num_workers=1)\n",
      "2025-05-20 23:56:14,612 INFO     pid:3399200 core.dsets_seg:273:__init__ <core.dsets_seg.Luna2dSegmentationDataset object at 0x7ff8e022da00>: 89 validation series, 1122 slices, 154 nodules\n",
      "2025-05-20 23:56:14,613 INFO     pid:3399200 app.infer.testing_seg:178:main 1122 batches of size 1*1\n",
      "2025-05-20 23:56:14,615 WARNING  pid:3399200 util.util:221:enumerateWithEstimate E0 Validation  ----/1122, starting\n"
     ]
    },
    {
     "name": "stdout",
     "output_type": "stream",
     "text": [
      "D RKNNAPI: Input tensors:\u001b[0m\n",
      "D RKNNAPI:   index=0, name=input, n_dims=4, dims=[1, 512, 512, 7], n_elems=1835008, size=3670016, w_stride = 0, size_with_stride = 0, fmt=NHWC, type=FP16, qnt_type=NONE, zp=0, scale=1.000000\u001b[0m\n",
      "D RKNNAPI: Output tensors:\u001b[0m\n",
      "done\n",
      "Model-deployment/models/seg_model.rknn is rknn model, starting val\n",
      "D RKNNAPI:   index=0, name=output, n_dims=4, dims=[1, 1, 512, 512], n_elems=262144, size=524288, w_stride = 0, size_with_stride = 0, fmt=NCHW, type=FP16, qnt_type=NONE, zp=0, scale=1.000000\u001b[0m\n"
     ]
    },
    {
     "name": "stderr",
     "output_type": "stream",
     "text": [
      "2025-05-20 23:56:34,090 INFO     pid:3399200 util.util:238:enumerateWithEstimate E0 Validation     4/1122, done at 2025-05-21 00:25:48, 0:29:20\n",
      "2025-05-20 23:56:51,553 INFO     pid:3399200 util.util:238:enumerateWithEstimate E0 Validation    16/1122, done at 2025-05-21 00:24:11, 0:27:43\n",
      "2025-05-20 23:58:40,680 INFO     pid:3399200 util.util:238:enumerateWithEstimate E0 Validation    64/1122, done at 2025-05-21 00:35:15, 0:38:47\n",
      "2025-05-21 00:02:48,933 INFO     pid:3399200 util.util:238:enumerateWithEstimate E0 Validation   256/1122, done at 2025-05-21 00:24:16, 0:27:48\n",
      "2025-05-21 00:22:28,910 INFO     pid:3399200 util.util:238:enumerateWithEstimate E0 Validation  1024/1122, done at 2025-05-21 00:24:56, 0:28:28\n",
      "2025-05-21 00:24:54,128 WARNING  pid:3399200 util.util:251:enumerateWithEstimate E0 Validation  ----/1122, done at 2025-05-21 00:24:54\n",
      "2025-05-21 00:24:54,130 INFO     pid:3399200 app.infer.testing_seg:258:logMetrics E0 SegmentationTestingApp\n",
      "2025-05-21 00:24:54,131 INFO     pid:3399200 app.infer.testing_seg:288:logMetrics E0 val      0.8932 loss, 0.0640 precision, 0.7666 recall, 0.1182 f1 score\n",
      "2025-05-21 00:24:54,132 INFO     pid:3399200 app.infer.testing_seg:298:logMetrics E0 val_all  0.8932 loss,  76.7% tp,  23.3% fn,    1120.5% fp\n",
      "2025-05-21 00:24:54,357 INFO     pid:3399200 nb:006:run Finished: SegmentationTestingApp.['--num-workers=1', '--platform=rknn', '--model-path=deployment/models/seg_model.rknn', '--target=rk3588', '--verbose']).main()\n"
     ]
    }
   ],
   "source": [
    "# RK-NPU 的运行结果\n",
    "run(SegmentationTestingApp, \"--num-workers=0\", \n",
    "    \"--platform=rknn\",\n",
    "    \"--model-path=deployment/models/seg_model.rknn\",\n",
    "    \"--target=rk3588\",\n",
    "    \"--verbose\"\n",
    ")"
   ]
  },
  {
   "cell_type": "markdown",
   "id": "f2eb6306-f22b-46e9-b3c8-11f976d4225b",
   "metadata": {},
   "source": [
    "### PC 与 NPU 的结果对比\n",
    "\n",
    "|platform|loss|tp|fn|fp|\n",
    "|-|-|-|-|-|\n",
    "|PC|0.8396|76.7%|23.3%|1122.6%|\n",
    "|RK3588S-NPU|0.8932|76.7%|23.3%|1120.5%|"
   ]
  },
  {
   "cell_type": "code",
   "execution_count": null,
   "id": "a1f218c3-9908-4308-92ca-853572a0a313",
   "metadata": {},
   "outputs": [],
   "source": []
  }
 ],
 "metadata": {
  "kernelspec": {
   "display_name": "Python 3 (ipykernel)",
   "language": "python",
   "name": "python3"
  },
  "language_info": {
   "codemirror_mode": {
    "name": "ipython",
    "version": 3
   },
   "file_extension": ".py",
   "mimetype": "text/x-python",
   "name": "python",
   "nbconvert_exporter": "python",
   "pygments_lexer": "ipython3",
   "version": "3.9.21"
  }
 },
 "nbformat": 4,
 "nbformat_minor": 5
}
