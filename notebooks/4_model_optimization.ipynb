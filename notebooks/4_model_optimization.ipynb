{
 "cells": [
  {
   "cell_type": "markdown",
   "id": "678a1f8e-1780-45ed-a50c-2c8bc171f7c1",
   "metadata": {},
   "source": [
    "# **Lung-Nodule-Detection: Part-4 Model Optimization**"
   ]
  },
  {
   "cell_type": "markdown",
   "id": "f40b5a75-d2df-4959-a1a5-a79eecc4c161",
   "metadata": {},
   "source": [
    "## 目标\n",
    "\n",
    "在Part-4部分，应用 **剪枝** 和 **量化** 的模型优化方法，**统计** 优化前后模型的相关参数。具体目标如下：\n",
    "\n",
    "- 深入理解 **剪枝** 的原理，掌握 ***channel pruning*** 技术（***U-Net*** 的 **跳跃连接** 对剪枝带来的 **复杂度提升**）\n",
    "- 深入理解 **量化** 的原理，掌握 ***Post-Training Quantization (PTQ)*** 和 ***Quantization-Aware Training (QAT)*** 技术\n",
    "- 通过统计优化前后的相关参数，直观体会 **模型优化** 带来的 **巨大性能提升**，理解其 **重要性**"
   ]
  },
  {
   "cell_type": "markdown",
   "id": "c36ac425-135d-4321-8fbf-353eb7a1a061",
   "metadata": {},
   "source": [
    "## 内容\n",
    "\n",
    "本节主要由 3 部分组成\n",
    "\n",
    "- 对 ***U-Net*** 模型进行 **剪枝** 优化，在 ***PC*** 和 ***RK3588S*** 上分别进行部署测试，并统计相关参数。\n",
    "- 对 ***U-Net*** 模型进行 **量化** 优化，在 ***PC*** 和 ***RK3588S*** 上分别进行部署测试，并统计相关参数。\n",
    "- 组合 **剪枝 + 量化** 两种优化手段"
   ]
  },
  {
   "cell_type": "markdown",
   "id": "ae051de3-ddd7-4dc2-a3ca-f8cddcad6cbb",
   "metadata": {
    "jp-MarkdownHeadingCollapsed": true
   },
   "source": [
    "## 设置\n",
    "**必须**先执行一次设置代码块"
   ]
  },
  {
   "cell_type": "code",
   "execution_count": 1,
   "id": "5ba323ef-b2f9-40f8-addc-d3c741c37a32",
   "metadata": {},
   "outputs": [
    {
     "name": "stderr",
     "output_type": "stream",
     "text": [
      "2025-06-03 21:49:18.217988: E external/local_xla/xla/stream_executor/cuda/cuda_dnn.cc:9261] Unable to register cuDNN factory: Attempting to register factory for plugin cuDNN when one has already been registered\n",
      "2025-06-03 21:49:18.218091: E external/local_xla/xla/stream_executor/cuda/cuda_fft.cc:607] Unable to register cuFFT factory: Attempting to register factory for plugin cuFFT when one has already been registered\n",
      "2025-06-03 21:49:18.314289: E external/local_xla/xla/stream_executor/cuda/cuda_blas.cc:1515] Unable to register cuBLAS factory: Attempting to register factory for plugin cuBLAS when one has already been registered\n",
      "2025-06-03 21:49:18.516528: I tensorflow/core/platform/cpu_feature_guard.cc:182] This TensorFlow binary is optimized to use available CPU instructions in performance-critical operations.\n",
      "To enable the following instructions: AVX2 FMA, in other operations, rebuild TensorFlow with the appropriate compiler flags.\n",
      "2025-06-03 21:49:20.451350: W tensorflow/compiler/tf2tensorrt/utils/py_utils.cc:38] TF-TRT Warning: Could not find TensorRT\n"
     ]
    }
   ],
   "source": [
    "import os\n",
    "import sys\n",
    "import torch\n",
    "import random\n",
    "import copy\n",
    "import time\n",
    "import numpy as np\n",
    "import matplotlib.pyplot as plt\n",
    "from typing import Union, List\n",
    "%matplotlib inline\n",
    "\n",
    "use_cuda = torch.cuda.is_available()\n",
    "device = torch.device(\"cuda\" if use_cuda else \"cpu\")\n",
    "\n",
    "# 获取当前工作目录\n",
    "current_path = os.getcwd()\n",
    "\n",
    "# 获取当前目录的最后一个字符串（即最后一个文件夹名）\n",
    "last_directory = os.path.basename(current_path)\n",
    "\n",
    "# 检查是否是 notebook\n",
    "if last_directory == 'notebooks':\n",
    "    # 切换到上一级目录\n",
    "    os.chdir('..')\n",
    "\n",
    "#print(f\"切换到目录: {os.getcwd()}\")\n",
    "\n",
    "sys.path.append('src')  # 将模块所在的路径添加到 sys.path\n",
    "\n",
    "from util.logconf import logging\n",
    "from util.profile import *\n",
    "from optimization.pruning import *\n",
    "from optimization.fx_quantization import *\n",
    "from app.infer.eval_seg import SegmentationTestingApp\n",
    "from app.train.training_seg import SegmentationTrainingApp\n",
    "from deployment.export_onnx import *\n",
    "from deployment.convert_rknn import *\n",
    "from core.dsets_seg import TrainingLuna2dSegmentationDataset\n",
    "from core.model_seg import UNetWrapper\n",
    "\n",
    "log = logging.getLogger('nb')\n",
    "Byte = 8\n",
    "KiB = 1024 * Byte\n",
    "MiB = 1024 * KiB\n",
    "GiB = 1024 * MiB"
   ]
  },
  {
   "cell_type": "code",
   "execution_count": 2,
   "id": "10beddfd-75a3-4b99-bfa7-caa0484f46cd",
   "metadata": {},
   "outputs": [],
   "source": [
    "# 设置随机数种子方便复现实验结果\n",
    "def set_random_seed(seed=42):\n",
    "    random.seed(seed)\n",
    "    np.random.seed(seed)\n",
    "    torch.manual_seed(seed)\n",
    "    torch.cuda.manual_seed_all(seed)\n",
    "    torch.backends.cudnn.deterministic = True\n",
    "    torch.backends.cudnn.benchmark = False\n",
    "    #torch.set_num_threads(1)\n",
    "\n",
    "set_random_seed(42)"
   ]
  },
  {
   "cell_type": "code",
   "execution_count": 3,
   "id": "0895f008-9d41-4b08-9926-b3e1782c12d7",
   "metadata": {},
   "outputs": [],
   "source": [
    "# 定义一个辅助函数用于启动应用\n",
    "def run(app, *argv):\n",
    "    argv = list(argv)\n",
    "    log.info(\"Running: {}({!r}).main()\".format(app.__name__, argv))\n",
    "    app(argv).main()\n",
    "    log.info(\"Finished: {}.{!r}).main()\".format(app.__name__, argv))"
   ]
  },
  {
   "cell_type": "code",
   "execution_count": 4,
   "id": "605a48c8-f807-4ebd-9684-d8de5546922a",
   "metadata": {},
   "outputs": [],
   "source": [
    "def train(model, num_epochs=5):\n",
    "    arg_epochs = f\"--epochs={num_epochs}\"\n",
    "    seg_training_app = SegmentationTrainingApp([arg_epochs, \"--num-workers=0\", '--augmented', '--finetune'], model)\n",
    "    return seg_training_app.main()"
   ]
  },
  {
   "cell_type": "code",
   "execution_count": 5,
   "id": "c18e7d2e-6a54-4b16-835b-74291744b2a0",
   "metadata": {},
   "outputs": [],
   "source": [
    "def evaluate(model, on_rk3588=False, target='rk3588'):\n",
    "    if on_rk3588:\n",
    "        assert isinstance(model, str)\n",
    "        seg_app = SegmentationTestingApp([\"--num-workers=0\", \n",
    "                    \"--platform=rknn\",\n",
    "                    f\"--model-path={model}\",\n",
    "                    f\"--target={target}\",\n",
    "                    \"--verbose\"], None)\n",
    "    else:\n",
    "        assert isinstance(model, nn.Module)\n",
    "        seg_app = SegmentationTestingApp([\"--platform=pytorch\", \"--num-workers=0\"], model)\n",
    "    return seg_app.eval()"
   ]
  },
  {
   "cell_type": "code",
   "execution_count": 6,
   "id": "0b53e3fa-2ebc-4442-adc9-1e732ece497b",
   "metadata": {},
   "outputs": [],
   "source": [
    "def load_prunned_model(model_path, channel_pruning_ratio):\n",
    "    model = UNetWrapper(\n",
    "            in_channels=7,\n",
    "            n_classes=1,\n",
    "            depth=3,\n",
    "            wf=4,\n",
    "            padding=True,\n",
    "            batch_norm=True,\n",
    "            up_mode='upconv',\n",
    "        )\n",
    "    sorted_model = apply_channel_sorting_with_skip(model)\n",
    "    pruned_model = channel_prune(sorted_model, channel_pruning_ratio)\n",
    "    state_dict = torch.load(model_path, weights_only=True, map_location='cpu')\n",
    "    pruned_model.load_state_dict(state_dict['model_state'])\n",
    "    return pruned_model"
   ]
  },
  {
   "cell_type": "code",
   "execution_count": 7,
   "id": "1ddb40b1-9370-4933-9639-4483ec793097",
   "metadata": {},
   "outputs": [],
   "source": [
    "def eval_perf_mem_on_rk3588(model_path):\n",
    "    argv = [\"--num-workers=0\", \n",
    "    \"--platform=rknn\",\n",
    "    \"--model-path={}\".format(model_path),\n",
    "    \"--target=rk3588\",\n",
    "    \"--perf-debug\",\n",
    "    \"--eval-mem\",\n",
    "    \"--verbose\"]\n",
    "    #print(argv)\n",
    "    app = SegmentationTestingApp(argv)\n",
    "    app.eval_perf_mem()"
   ]
  },
  {
   "cell_type": "code",
   "execution_count": 8,
   "id": "ce79f77c-1e15-4284-bb25-b22e07fc6d88",
   "metadata": {},
   "outputs": [],
   "source": [
    "channel_pruning_ratio = 0.5  # pruned-out ratio"
   ]
  },
  {
   "cell_type": "markdown",
   "id": "770536ec-8649-4566-a18d-fb612d9c36e3",
   "metadata": {
    "jp-MarkdownHeadingCollapsed": true
   },
   "source": [
    "## U-Net 的剪枝 (Pruning) 优化 - Channel Pruning"
   ]
  },
  {
   "cell_type": "markdown",
   "id": "cce34e71-f0d0-40f9-b689-de3876591e9b",
   "metadata": {},
   "source": [
    "***Pruning*** 一般分为 ***fine-grained pruning*** 和 ***coarse-grained pruning*** 。\n",
    "\n",
    "从 ***fine-grained*** 到 ***coarse-grained*** ，伴随着 ***weight*** 的 **压缩率从高到低** ，与此同时，***weight*** 的形状从 **不规则** 逐渐趋向 **规则** ，意味着越来越方便计算。  \n",
    "\n",
    "***fine-grained pruning*** 虽然可以提供更高的压缩率，但会使得 ***weight*** 变为 **稀疏矩阵** ，稀疏矩阵的加速计算需要 **特殊硬件** 的支持，如 ***NVIDIA*** 的 ***Tensor core*** 支持 **2:4** 的稀疏矩阵。\n",
    "\n",
    "本实验基于 ***RK3588S*** 的 ***NPU*** 单元，不支持稀疏矩阵的加速，故而采用 ***coarse-grained pruning (channel pruning)***，这种 ***prunning*** 方式适用于一般硬件的加速计算。\n",
    "\n",
    "![pruning_granularity.png](../images/pruning_granularity.png)"
   ]
  },
  {
   "cell_type": "markdown",
   "id": "5ad0540a-f000-4486-aa5e-6e611c7a8d42",
   "metadata": {},
   "source": [
    "本实验采用的 Prunning 原则为 ***Magnitude-based pruning*** , 即 **绝对值越大的数值被视为越重要** ，保留重要的数值，移除不重要的数值，这样对模型的影响最小。\n",
    "\n",
    "为了实现上述思想，我们先对权重矩阵的通道进行 **重新排序** ，计算各通道的重要性，然后从高到低依次排序。重排后的模型性能应该与原模型性能几乎完全一致。"
   ]
  },
  {
   "cell_type": "code",
   "execution_count": 9,
   "id": "49616ed8-affa-4826-951e-d35ea26a1bb8",
   "metadata": {},
   "outputs": [
    {
     "name": "stdout",
     "output_type": "stream",
     "text": [
      "Before sorting...\n"
     ]
    },
    {
     "data": {
      "application/vnd.jupyter.widget-view+json": {
       "model_id": "8a7416b79f9a4044a84b6b9d265815a2",
       "version_major": 2,
       "version_minor": 0
      },
      "text/plain": [
       "eval:   0%|          | 0/71 [00:00<?, ?it/s]"
      ]
     },
     "metadata": {},
     "output_type": "display_data"
    },
    {
     "name": "stdout",
     "output_type": "stream",
     "text": [
      "{'loss/all': 0.8396452, 'percent_all/tp': 76.66908502578735, 'percent_all/fn': 23.330913484096527, 'percent_all/fp': 1122.6085662841797, 'pr/precision': 0.06392939, 'pr/recall': 0.76669085, 'pr/f1_score': 0.11801801801801802}\n",
      "After sorting...\n"
     ]
    },
    {
     "data": {
      "application/vnd.jupyter.widget-view+json": {
       "model_id": "e44517728b3449e0849771a12aaf5413",
       "version_major": 2,
       "version_minor": 0
      },
      "text/plain": [
       "eval:   0%|          | 0/71 [00:00<?, ?it/s]"
      ]
     },
     "metadata": {},
     "output_type": "display_data"
    },
    {
     "name": "stdout",
     "output_type": "stream",
     "text": [
      "{'loss/all': 0.83964515, 'percent_all/tp': 76.66908502578735, 'percent_all/fn': 23.330913484096527, 'percent_all/fp': 1122.6080894470215, 'pr/precision': 0.063929416, 'pr/recall': 0.76669085, 'pr/f1_score': 0.11801806336853744}\n",
      "* Check passed.\n"
     ]
    }
   ],
   "source": [
    "print('Before sorting...')\n",
    "origin_model = load_model()\n",
    "dense_model_metrics = evaluate(origin_model)\n",
    "print(dense_model_metrics)\n",
    "\n",
    "print('After sorting...')\n",
    "sorted_model = apply_channel_sorting_with_skip(origin_model)\n",
    "sorted_model_metrics = evaluate(sorted_model)\n",
    "print(sorted_model_metrics)\n",
    "\n",
    "# make sure accuracy does not change after sorting, since it is\n",
    "# equivalent transform\n",
    "tp_diff = abs(dense_model_metrics['percent_all/tp'] - sorted_model_metrics['percent_all/tp'])\n",
    "fn_diff = abs(dense_model_metrics['percent_all/fn'] - sorted_model_metrics['percent_all/fn'])\n",
    "fp_diff = abs(dense_model_metrics['percent_all/fp'] - sorted_model_metrics['percent_all/fp'])\n",
    "assert tp_diff < 0.1 and fn_diff < 0.1 and fp_diff < 0.1\n",
    "print('* Check passed.')\n",
    "\n",
    "#TODO: 输出issues报告，UNet残差连接结构给channel pruning带来的挑战"
   ]
  },
  {
   "cell_type": "markdown",
   "id": "ea1e368a-d665-4147-8ded-5f4f87f7163b",
   "metadata": {},
   "source": [
    "实现按 channel 重要性重新排序的功能后，我们开始实现 channel_prune 的函数。根据 channel_purning_ratio ，计算每个通道应该保留的通道数量，删除后面多余的通道。channel_pruning_ratio = 0 时，即没有删除任何通道； channel_pruning_ratio = 1 时，即删除所有通道。"
   ]
  },
  {
   "cell_type": "code",
   "execution_count": 10,
   "id": "b0183644-8407-4812-9b3c-074616887643",
   "metadata": {},
   "outputs": [
    {
     "name": "stdout",
     "output_type": "stream",
     "text": [
      "dense model has size=0.45 MiB\n",
      "pruned model has size=0.12 MiB\n"
     ]
    }
   ],
   "source": [
    "model = load_model()\n",
    "pruned_model = channel_prune(model, channel_pruning_ratio)\n",
    "\n",
    "dense_model_size = get_model_size(model)\n",
    "pruned_model_size = get_model_size(pruned_model)\n",
    "\n",
    "print(f\"dense model has size={dense_model_size/MiB:.2f} MiB\")\n",
    "print(f\"pruned model has size={pruned_model_size/MiB:.2f} MiB\")\n",
    "\n",
    "dumpy_input = torch.randn(1,7,512,512).to(device)\n",
    "dumpuy_output = pruned_model(dumpy_input)"
   ]
  },
  {
   "cell_type": "markdown",
   "id": "03892d4a-1065-406d-a47c-6a9c99eba5e2",
   "metadata": {},
   "source": [
    "结合 ***apply_channel_sorting_with_skip*** 和 ***channel_prune*** 两个函数，即可实现 ***Magnitude-based channel pruning*** 。"
   ]
  },
  {
   "cell_type": "code",
   "execution_count": 11,
   "id": "c187ee1b-460e-4169-95c1-6369a9c83ac6",
   "metadata": {},
   "outputs": [
    {
     "name": "stdout",
     "output_type": "stream",
     "text": [
      " * Original model...\n"
     ]
    },
    {
     "data": {
      "application/vnd.jupyter.widget-view+json": {
       "model_id": "3d286e420f5d4c0b85c45713a8eb316a",
       "version_major": 2,
       "version_minor": 0
      },
      "text/plain": [
       "eval:   0%|          | 0/71 [00:00<?, ?it/s]"
      ]
     },
     "metadata": {},
     "output_type": "display_data"
    },
    {
     "name": "stdout",
     "output_type": "stream",
     "text": [
      "{'loss/all': 0.8396452, 'percent_all/tp': 76.66908502578735, 'percent_all/fn': 23.330913484096527, 'percent_all/fp': 1122.6085662841797, 'pr/precision': 0.06392939, 'pr/recall': 0.76669085, 'pr/f1_score': 0.11801801801801802}\n",
      " * Without sorting...\n"
     ]
    },
    {
     "data": {
      "application/vnd.jupyter.widget-view+json": {
       "model_id": "c780334a3b7749d88df813ec388b2bd4",
       "version_major": 2,
       "version_minor": 0
      },
      "text/plain": [
       "eval:   0%|          | 0/71 [00:00<?, ?it/s]"
      ]
     },
     "metadata": {},
     "output_type": "display_data"
    },
    {
     "name": "stdout",
     "output_type": "stream",
     "text": [
      "{'loss/all': 0.9951413, 'percent_all/tp': 63.174790143966675, 'percent_all/fn': 36.825209856033325, 'percent_all/fp': 27915.390014648438, 'pr/precision': 0.002257971, 'pr/recall': 0.6317479, 'pr/f1_score': 0.004499859107176718}\n",
      " * With sorting...\n"
     ]
    },
    {
     "data": {
      "application/vnd.jupyter.widget-view+json": {
       "model_id": "0f98ed93ff9841d58fd5dea5bae762f0",
       "version_major": 2,
       "version_minor": 0
      },
      "text/plain": [
       "eval:   0%|          | 0/71 [00:00<?, ?it/s]"
      ]
     },
     "metadata": {},
     "output_type": "display_data"
    },
    {
     "name": "stdout",
     "output_type": "stream",
     "text": [
      "{'loss/all': 0.9816362, 'percent_all/tp': 0.1237117568962276, 'percent_all/fn': 99.87629055976868, 'percent_all/fp': 23.119786381721497, 'pr/precision': 0.0053224247, 'pr/recall': 0.0012371176, 'pr/f1_score': 0.00200759893685519}\n"
     ]
    }
   ],
   "source": [
    "print(\" * Original model...\")\n",
    "model = load_model()\n",
    "metrics_dict = evaluate(model)\n",
    "print(metrics_dict)\n",
    "\n",
    "print(\" * Without sorting...\")\n",
    "pruned_model = channel_prune(model, channel_pruning_ratio)\n",
    "metrics_dict = evaluate(pruned_model)\n",
    "print(metrics_dict)\n",
    "\n",
    "print(\" * With sorting...\")\n",
    "sorted_model = apply_channel_sorting_with_skip(model)\n",
    "pruned_model = channel_prune(sorted_model, channel_pruning_ratio)\n",
    "metrics_dict = evaluate(pruned_model)\n",
    "print(metrics_dict)"
   ]
  },
  {
   "cell_type": "markdown",
   "id": "336f93a4-2cc2-41e3-b3ca-179ef9c88458",
   "metadata": {},
   "source": [
    "可以看到，channel_pruning 之后，模型对阳性的预测大幅度下降，更倾向于预测为阴性。尤其是 sorting 之后再 chanenl_purne 的模型，fn = 100%，这说明对阳性的预测隐藏于 **细节（小权重）** 之中，而删除这些小权重之后，模型失去了对阳性的预测能力。\n",
    "\n",
    "|model|loss|tp|fn|fp|\n",
    "|-|-|-|-|-|\n",
    "|original|0.8396|76.7%|23.3%|1122.6%|\n",
    "|pruned without sorting|0.9951|63.2%|36.8%|27915.4%|\n",
    "|pruned with sorting|0.9816|0.1%|99.9%|23.1%|\n",
    "\n",
    "我们期待后续的 **微调** 步骤，可以恢复模型的精度，帮助重新识别细节特征。"
   ]
  },
  {
   "cell_type": "code",
   "execution_count": 12,
   "id": "aca4c1cc-535f-4441-8b61-67e14ca71972",
   "metadata": {
    "scrolled": true
   },
   "outputs": [
    {
     "name": "stderr",
     "output_type": "stream",
     "text": [
      "2025-06-01 15:48:35,540 INFO     pid:191535 app.train.training_seg:165:initModel Using CUDA; 1 devices.\n",
      "2025-06-01 15:48:49,682 INFO     pid:191535 app.train.training_seg:229:main Starting SegmentationTrainingApp, Namespace(batch_size=16, num_workers=0, epochs=5, augmented=True, augment_flip=False, augment_offset=False, augment_scale=False, augment_rotate=False, augment_noise=False, tb_prefix='seg', comment='none', finetune=True)\n",
      "2025-06-01 15:48:51,117 INFO     pid:191535 core.dsets_seg:283:__init__ <core.dsets_seg.TrainingLuna2dSegmentationDataset object at 0x72de0bb98c10>: 799 training series, 8343 slices, 1028 nodules\n",
      "2025-06-01 15:48:51,209 INFO     pid:191535 core.dsets_seg:283:__init__ <core.dsets_seg.Luna2dSegmentationDataset object at 0x72deec4ba2b0>: 89 validation series, 1122 slices, 154 nodules\n",
      "2025-06-01 15:48:51,211 INFO     pid:191535 app.train.training_seg:240:main Epoch 1 of 5, 6250/71 batches of size 16*1\n",
      "2025-06-01 15:48:51,552 WARNING  pid:191535 util.util:221:enumerateWithEstimate E1 Training ----/6250, starting\n",
      "2025-06-01 15:48:52,959 INFO     pid:191535 util.util:238:enumerateWithEstimate E1 Training    4/6250, done at 2025-06-01 16:18:08, 0:29:17\n",
      "2025-06-01 15:48:54,314 INFO     pid:191535 util.util:238:enumerateWithEstimate E1 Training   16/6250, done at 2025-06-01 16:05:46, 0:16:55\n",
      "2025-06-01 15:48:58,670 INFO     pid:191535 util.util:238:enumerateWithEstimate E1 Training   64/6250, done at 2025-06-01 16:00:15, 0:11:24\n",
      "2025-06-01 15:49:02,467 INFO     pid:191535 util.util:238:enumerateWithEstimate E1 Training  256/6250, done at 2025-06-01 15:53:16, 0:04:25\n",
      "2025-06-01 15:49:16,396 INFO     pid:191535 util.util:238:enumerateWithEstimate E1 Training 1024/6250, done at 2025-06-01 15:51:23, 0:02:31\n",
      "2025-06-01 15:50:14,830 INFO     pid:191535 util.util:238:enumerateWithEstimate E1 Training 4096/6250, done at 2025-06-01 15:50:58, 0:02:07\n",
      "2025-06-01 15:50:58,657 WARNING  pid:191535 util.util:251:enumerateWithEstimate E1 Training ----/6250, done at 2025-06-01 15:50:58\n",
      "2025-06-01 15:50:58,662 INFO     pid:191535 app.train.training_seg:427:logMetrics E1 SegmentationTrainingApp\n",
      "2025-06-01 15:50:58,664 INFO     pid:191535 app.train.training_seg:457:logMetrics E1 trn      0.3762 loss, 0.4381 precision, 0.8531 recall, 0.5790 f1 score\n",
      "2025-06-01 15:50:58,665 INFO     pid:191535 app.train.training_seg:467:logMetrics E1 trn_all  0.3762 loss,  85.3% tp,  14.7% fn,     109.4% fp\n",
      "2025-06-01 15:50:58,666 WARNING  pid:191535 util.util:221:enumerateWithEstimate E1 Validation  ----/71, starting\n",
      "2025-06-01 15:51:05,196 INFO     pid:191535 util.util:238:enumerateWithEstimate E1 Validation     4/71, done at 2025-06-01 15:52:31, 0:01:32\n",
      "2025-06-01 15:51:08,416 INFO     pid:191535 util.util:238:enumerateWithEstimate E1 Validation     8/71, done at 2025-06-01 15:52:15, 0:01:16\n",
      "2025-06-01 15:51:12,867 INFO     pid:191535 util.util:238:enumerateWithEstimate E1 Validation    16/71, done at 2025-06-01 15:51:57, 0:00:59\n",
      "2025-06-01 15:51:23,530 INFO     pid:191535 util.util:238:enumerateWithEstimate E1 Validation    32/71, done at 2025-06-01 15:51:52, 0:00:53\n",
      "2025-06-01 15:51:47,655 INFO     pid:191535 util.util:238:enumerateWithEstimate E1 Validation    64/71, done at 2025-06-01 15:51:52, 0:00:53\n",
      "2025-06-01 15:51:53,506 WARNING  pid:191535 util.util:251:enumerateWithEstimate E1 Validation  ----/71, done at 2025-06-01 15:51:53\n",
      "2025-06-01 15:51:53,695 INFO     pid:191535 app.train.training_seg:427:logMetrics E1 SegmentationTrainingApp\n",
      "2025-06-01 15:51:53,697 INFO     pid:191535 app.train.training_seg:457:logMetrics E1 val      0.9500 loss, 0.0218 precision, 0.7721 recall, 0.0424 f1 score\n",
      "2025-06-01 15:51:53,698 INFO     pid:191535 app.train.training_seg:467:logMetrics E1 val_all  0.9500 loss,  77.2% tp,  22.8% fn,    3461.8% fp\n",
      "2025-06-01 15:51:53,782 INFO     pid:191535 app.train.training_seg:545:saveModel Saved model params to data-unversioned/models/seg/seg-prunned-finetuned_2025-06-01_15.48.35_none.100000.state\n",
      "2025-06-01 15:51:53,786 INFO     pid:191535 app.train.training_seg:557:saveModel SHA1: 34d48c6c0dc27b3886135a33c7152474b5a110c5\n",
      "2025-06-01 15:51:53,787 INFO     pid:191535 app.train.training_seg:240:main Epoch 2 of 5, 6250/71 batches of size 16*1\n",
      "2025-06-01 15:51:54,079 WARNING  pid:191535 util.util:221:enumerateWithEstimate E2 Training ----/6250, starting\n",
      "2025-06-01 15:51:54,330 INFO     pid:191535 util.util:238:enumerateWithEstimate E2 Training    4/6250, done at 2025-06-01 15:57:06, 0:05:12\n",
      "2025-06-01 15:51:54,643 INFO     pid:191535 util.util:238:enumerateWithEstimate E2 Training   16/6250, done at 2025-06-01 15:55:21, 0:03:26\n",
      "2025-06-01 15:51:55,672 INFO     pid:191535 util.util:238:enumerateWithEstimate E2 Training   64/6250, done at 2025-06-01 15:54:27, 0:02:33\n",
      "2025-06-01 15:51:59,341 INFO     pid:191535 util.util:238:enumerateWithEstimate E2 Training  256/6250, done at 2025-06-01 15:54:02, 0:02:07\n",
      "2025-06-01 15:52:14,335 INFO     pid:191535 util.util:238:enumerateWithEstimate E2 Training 1024/6250, done at 2025-06-01 15:53:57, 0:02:03\n",
      "2025-06-01 15:53:14,228 INFO     pid:191535 util.util:238:enumerateWithEstimate E2 Training 4096/6250, done at 2025-06-01 15:53:56, 0:02:02\n",
      "2025-06-01 15:53:57,072 WARNING  pid:191535 util.util:251:enumerateWithEstimate E2 Training ----/6250, done at 2025-06-01 15:53:57\n",
      "2025-06-01 15:53:57,076 INFO     pid:191535 app.train.training_seg:427:logMetrics E2 SegmentationTrainingApp\n",
      "2025-06-01 15:53:57,078 INFO     pid:191535 app.train.training_seg:457:logMetrics E2 trn      0.2463 loss, 0.6266 precision, 0.8611 recall, 0.7254 f1 score\n",
      "2025-06-01 15:53:57,078 INFO     pid:191535 app.train.training_seg:467:logMetrics E2 trn_all  0.2463 loss,  86.1% tp,  13.9% fn,      51.3% fp\n",
      "2025-06-01 15:53:57,080 WARNING  pid:191535 util.util:221:enumerateWithEstimate E2 Validation  ----/71, starting\n",
      "2025-06-01 15:54:03,648 INFO     pid:191535 util.util:238:enumerateWithEstimate E2 Validation     4/71, done at 2025-06-01 15:55:30, 0:01:33\n",
      "2025-06-01 15:54:06,783 INFO     pid:191535 util.util:238:enumerateWithEstimate E2 Validation     8/71, done at 2025-06-01 15:55:13, 0:01:16\n",
      "2025-06-01 15:54:10,348 INFO     pid:191535 util.util:238:enumerateWithEstimate E2 Validation    16/71, done at 2025-06-01 15:54:52, 0:00:55\n",
      "2025-06-01 15:54:22,605 INFO     pid:191535 util.util:238:enumerateWithEstimate E2 Validation    32/71, done at 2025-06-01 15:54:51, 0:00:54\n",
      "2025-06-01 15:54:54,280 INFO     pid:191535 util.util:238:enumerateWithEstimate E2 Validation    64/71, done at 2025-06-01 15:54:59, 0:01:02\n",
      "2025-06-01 15:54:59,375 WARNING  pid:191535 util.util:251:enumerateWithEstimate E2 Validation  ----/71, done at 2025-06-01 15:54:59\n",
      "2025-06-01 15:54:59,565 INFO     pid:191535 app.train.training_seg:427:logMetrics E2 SegmentationTrainingApp\n",
      "2025-06-01 15:54:59,567 INFO     pid:191535 app.train.training_seg:457:logMetrics E2 val      0.9035 loss, 0.0401 precision, 0.7529 recall, 0.0761 f1 score\n",
      "2025-06-01 15:54:59,567 INFO     pid:191535 app.train.training_seg:467:logMetrics E2 val_all  0.9035 loss,  75.3% tp,  24.7% fn,    1804.3% fp\n",
      "2025-06-01 15:54:59,633 INFO     pid:191535 app.train.training_seg:545:saveModel Saved model params to data-unversioned/models/seg/seg-prunned-finetuned_2025-06-01_15.48.35_none.200000.state\n",
      "2025-06-01 15:54:59,636 INFO     pid:191535 app.train.training_seg:557:saveModel SHA1: ba86a9a2f6537a26cfd25dceddd048f267eca9c8\n",
      "2025-06-01 15:54:59,637 INFO     pid:191535 app.train.training_seg:240:main Epoch 3 of 5, 6250/71 batches of size 16*1\n",
      "2025-06-01 15:54:59,947 WARNING  pid:191535 util.util:221:enumerateWithEstimate E3 Training ----/6250, starting\n",
      "2025-06-01 15:55:00,607 INFO     pid:191535 util.util:238:enumerateWithEstimate E3 Training    4/6250, done at 2025-06-01 16:08:42, 0:13:42\n",
      "2025-06-01 15:55:01,689 INFO     pid:191535 util.util:238:enumerateWithEstimate E3 Training   16/6250, done at 2025-06-01 16:05:40, 0:10:40\n",
      "2025-06-01 15:55:05,392 INFO     pid:191535 util.util:238:enumerateWithEstimate E3 Training   64/6250, done at 2025-06-01 16:03:43, 0:08:43\n",
      "2025-06-01 15:55:09,186 INFO     pid:191535 util.util:238:enumerateWithEstimate E3 Training  256/6250, done at 2025-06-01 15:58:44, 0:03:44\n",
      "2025-06-01 15:55:23,825 INFO     pid:191535 util.util:238:enumerateWithEstimate E3 Training 1024/6250, done at 2025-06-01 15:57:25, 0:02:25\n",
      "2025-06-01 15:56:25,821 INFO     pid:191535 util.util:238:enumerateWithEstimate E3 Training 4096/6250, done at 2025-06-01 15:57:10, 0:02:10\n",
      "2025-06-01 15:57:08,128 WARNING  pid:191535 util.util:251:enumerateWithEstimate E3 Training ----/6250, done at 2025-06-01 15:57:08\n",
      "2025-06-01 15:57:08,134 INFO     pid:191535 app.train.training_seg:427:logMetrics E3 SegmentationTrainingApp\n",
      "2025-06-01 15:57:08,136 INFO     pid:191535 app.train.training_seg:457:logMetrics E3 trn      0.2260 loss, 0.6483 precision, 0.8719 recall, 0.7436 f1 score\n",
      "2025-06-01 15:57:08,137 INFO     pid:191535 app.train.training_seg:467:logMetrics E3 trn_all  0.2260 loss,  87.2% tp,  12.8% fn,      47.3% fp\n",
      "2025-06-01 15:57:08,138 WARNING  pid:191535 util.util:221:enumerateWithEstimate E3 Validation  ----/71, starting\n",
      "2025-06-01 15:57:16,506 INFO     pid:191535 util.util:238:enumerateWithEstimate E3 Validation     4/71, done at 2025-06-01 15:59:06, 0:01:58\n",
      "2025-06-01 15:57:19,822 INFO     pid:191535 util.util:238:enumerateWithEstimate E3 Validation     8/71, done at 2025-06-01 15:58:40, 0:01:32\n",
      "2025-06-01 15:57:24,121 INFO     pid:191535 util.util:238:enumerateWithEstimate E3 Validation    16/71, done at 2025-06-01 15:58:14, 0:01:06\n",
      "2025-06-01 15:57:35,732 INFO     pid:191535 util.util:238:enumerateWithEstimate E3 Validation    32/71, done at 2025-06-01 15:58:07, 0:00:59\n",
      "2025-06-01 15:58:07,850 INFO     pid:191535 util.util:238:enumerateWithEstimate E3 Validation    64/71, done at 2025-06-01 15:58:13, 0:01:05\n",
      "2025-06-01 15:58:13,274 WARNING  pid:191535 util.util:251:enumerateWithEstimate E3 Validation  ----/71, done at 2025-06-01 15:58:13\n",
      "2025-06-01 15:58:13,470 INFO     pid:191535 app.train.training_seg:427:logMetrics E3 SegmentationTrainingApp\n",
      "2025-06-01 15:58:13,472 INFO     pid:191535 app.train.training_seg:457:logMetrics E3 val      0.9185 loss, 0.0343 precision, 0.7873 recall, 0.0657 f1 score\n",
      "2025-06-01 15:58:13,472 INFO     pid:191535 app.train.training_seg:467:logMetrics E3 val_all  0.9185 loss,  78.7% tp,  21.3% fn,    2216.8% fp\n",
      "2025-06-01 15:58:13,537 INFO     pid:191535 app.train.training_seg:545:saveModel Saved model params to data-unversioned/models/seg/seg-prunned-finetuned_2025-06-01_15.48.35_none.300000.state\n",
      "2025-06-01 15:58:13,541 INFO     pid:191535 app.train.training_seg:557:saveModel SHA1: cbbe79d4975d600fb7ad4099d19bc710f3363127\n",
      "2025-06-01 15:58:13,542 INFO     pid:191535 app.train.training_seg:240:main Epoch 4 of 5, 6250/71 batches of size 16*1\n",
      "2025-06-01 15:58:13,870 WARNING  pid:191535 util.util:221:enumerateWithEstimate E4 Training ----/6250, starting\n",
      "2025-06-01 15:58:14,670 INFO     pid:191535 util.util:238:enumerateWithEstimate E4 Training    4/6250, done at 2025-06-01 16:14:52, 0:16:38\n",
      "2025-06-01 15:58:15,939 INFO     pid:191535 util.util:238:enumerateWithEstimate E4 Training   16/6250, done at 2025-06-01 16:10:54, 0:12:40\n",
      "2025-06-01 15:58:20,005 INFO     pid:191535 util.util:238:enumerateWithEstimate E4 Training   64/6250, done at 2025-06-01 16:08:03, 0:09:49\n",
      "2025-06-01 15:58:23,797 INFO     pid:191535 util.util:238:enumerateWithEstimate E4 Training  256/6250, done at 2025-06-01 16:02:15, 0:04:01\n",
      "2025-06-01 15:58:38,878 INFO     pid:191535 util.util:238:enumerateWithEstimate E4 Training 1024/6250, done at 2025-06-01 16:00:46, 0:02:32\n",
      "2025-06-01 15:59:40,406 INFO     pid:191535 util.util:238:enumerateWithEstimate E4 Training 4096/6250, done at 2025-06-01 16:00:25, 0:02:12\n",
      "2025-06-01 16:00:23,080 WARNING  pid:191535 util.util:251:enumerateWithEstimate E4 Training ----/6250, done at 2025-06-01 16:00:23\n",
      "2025-06-01 16:00:23,085 INFO     pid:191535 app.train.training_seg:427:logMetrics E4 SegmentationTrainingApp\n",
      "2025-06-01 16:00:23,087 INFO     pid:191535 app.train.training_seg:457:logMetrics E4 trn      0.2167 loss, 0.6604 precision, 0.8790 recall, 0.7542 f1 score\n",
      "2025-06-01 16:00:23,087 INFO     pid:191535 app.train.training_seg:467:logMetrics E4 trn_all  0.2167 loss,  87.9% tp,  12.1% fn,      45.2% fp\n",
      "2025-06-01 16:00:23,089 WARNING  pid:191535 util.util:221:enumerateWithEstimate E4 Validation  ----/71, starting\n",
      "2025-06-01 16:00:30,883 INFO     pid:191535 util.util:238:enumerateWithEstimate E4 Validation     4/71, done at 2025-06-01 16:02:13, 0:01:50\n",
      "2025-06-01 16:00:34,109 INFO     pid:191535 util.util:238:enumerateWithEstimate E4 Validation     8/71, done at 2025-06-01 16:01:50, 0:01:26\n",
      "2025-06-01 16:00:38,501 INFO     pid:191535 util.util:238:enumerateWithEstimate E4 Validation    16/71, done at 2025-06-01 16:01:27, 0:01:04\n",
      "2025-06-01 16:00:51,192 INFO     pid:191535 util.util:238:enumerateWithEstimate E4 Validation    32/71, done at 2025-06-01 16:01:23, 0:01:00\n",
      "2025-06-01 16:01:24,773 INFO     pid:191535 util.util:238:enumerateWithEstimate E4 Validation    64/71, done at 2025-06-01 16:01:30, 0:01:07\n",
      "2025-06-01 16:01:30,040 WARNING  pid:191535 util.util:251:enumerateWithEstimate E4 Validation  ----/71, done at 2025-06-01 16:01:30\n",
      "2025-06-01 16:01:30,231 INFO     pid:191535 app.train.training_seg:427:logMetrics E4 SegmentationTrainingApp\n",
      "2025-06-01 16:01:30,233 INFO     pid:191535 app.train.training_seg:457:logMetrics E4 val      0.8716 loss, 0.0500 precision, 0.7513 recall, 0.0938 f1 score\n",
      "2025-06-01 16:01:30,233 INFO     pid:191535 app.train.training_seg:467:logMetrics E4 val_all  0.8716 loss,  75.1% tp,  24.9% fn,    1427.3% fp\n",
      "2025-06-01 16:01:30,429 INFO     pid:191535 app.train.training_seg:545:saveModel Saved model params to data-unversioned/models/seg/seg-prunned-finetuned_2025-06-01_15.48.35_none.400000.state\n",
      "2025-06-01 16:01:30,434 INFO     pid:191535 app.train.training_seg:557:saveModel SHA1: faf92c3c638e05dfd118fc7d92194009684a5df8\n",
      "2025-06-01 16:01:30,437 INFO     pid:191535 app.train.training_seg:240:main Epoch 5 of 5, 6250/71 batches of size 16*1\n",
      "2025-06-01 16:01:30,728 WARNING  pid:191535 util.util:221:enumerateWithEstimate E5 Training ----/6250, starting\n",
      "2025-06-01 16:01:31,654 INFO     pid:191535 util.util:238:enumerateWithEstimate E5 Training    4/6250, done at 2025-06-01 16:20:47, 0:19:16\n",
      "2025-06-01 16:01:33,013 INFO     pid:191535 util.util:238:enumerateWithEstimate E5 Training   16/6250, done at 2025-06-01 16:15:30, 0:13:59\n",
      "2025-06-01 16:01:37,143 INFO     pid:191535 util.util:238:enumerateWithEstimate E5 Training   64/6250, done at 2025-06-01 16:11:47, 0:10:16\n",
      "2025-06-01 16:01:40,617 INFO     pid:191535 util.util:238:enumerateWithEstimate E5 Training  256/6250, done at 2025-06-01 16:05:31, 0:04:00\n",
      "2025-06-01 16:01:55,874 INFO     pid:191535 util.util:238:enumerateWithEstimate E5 Training 1024/6250, done at 2025-06-01 16:04:04, 0:02:33\n",
      "2025-06-01 16:02:56,698 INFO     pid:191535 util.util:238:enumerateWithEstimate E5 Training 4096/6250, done at 2025-06-01 16:03:41, 0:02:11\n",
      "2025-06-01 16:03:38,645 WARNING  pid:191535 util.util:251:enumerateWithEstimate E5 Training ----/6250, done at 2025-06-01 16:03:38\n",
      "2025-06-01 16:03:38,649 INFO     pid:191535 app.train.training_seg:427:logMetrics E5 SegmentationTrainingApp\n",
      "2025-06-01 16:03:38,651 INFO     pid:191535 app.train.training_seg:457:logMetrics E5 trn      0.2127 loss, 0.6702 precision, 0.8797 recall, 0.7608 f1 score\n",
      "2025-06-01 16:03:38,652 INFO     pid:191535 app.train.training_seg:467:logMetrics E5 trn_all  0.2127 loss,  88.0% tp,  12.0% fn,      43.3% fp\n",
      "2025-06-01 16:03:38,653 WARNING  pid:191535 util.util:221:enumerateWithEstimate E5 Validation  ----/71, starting\n",
      "2025-06-01 16:03:46,771 INFO     pid:191535 util.util:238:enumerateWithEstimate E5 Validation     4/71, done at 2025-06-01 16:05:33, 0:01:55\n",
      "2025-06-01 16:03:49,912 INFO     pid:191535 util.util:238:enumerateWithEstimate E5 Validation     8/71, done at 2025-06-01 16:05:07, 0:01:28\n",
      "2025-06-01 16:03:54,133 INFO     pid:191535 util.util:238:enumerateWithEstimate E5 Validation    16/71, done at 2025-06-01 16:04:43, 0:01:04\n",
      "2025-06-01 16:04:06,246 INFO     pid:191535 util.util:238:enumerateWithEstimate E5 Validation    32/71, done at 2025-06-01 16:04:38, 0:00:59\n",
      "2025-06-01 16:04:34,835 INFO     pid:191535 util.util:238:enumerateWithEstimate E5 Validation    64/71, done at 2025-06-01 16:04:40, 0:01:01\n",
      "2025-06-01 16:04:40,712 WARNING  pid:191535 util.util:251:enumerateWithEstimate E5 Validation  ----/71, done at 2025-06-01 16:04:40\n",
      "2025-06-01 16:04:40,905 INFO     pid:191535 app.train.training_seg:427:logMetrics E5 SegmentationTrainingApp\n",
      "2025-06-01 16:04:40,908 INFO     pid:191535 app.train.training_seg:457:logMetrics E5 val      0.8663 loss, 0.0551 precision, 0.7535 recall, 0.1026 f1 score\n",
      "2025-06-01 16:04:40,909 INFO     pid:191535 app.train.training_seg:467:logMetrics E5 val_all  0.8663 loss,  75.3% tp,  24.7% fn,    1292.7% fp\n",
      "2025-06-01 16:04:41,037 INFO     pid:191535 app.train.training_seg:545:saveModel Saved model params to data-unversioned/models/seg/seg-prunned-finetuned_2025-06-01_15.48.35_none.500000.state\n",
      "2025-06-01 16:04:41,044 INFO     pid:191535 app.train.training_seg:557:saveModel SHA1: 57df0d4dd6e41569506e71b8d4f67180571011c8\n"
     ]
    }
   ],
   "source": [
    "num_finetune_epochs = 5\n",
    "finetuned_pruned_models = train(pruned_model, num_finetune_epochs)"
   ]
  },
  {
   "cell_type": "markdown",
   "id": "384d8e52-b82f-44cb-8340-e829f5f9c165",
   "metadata": {},
   "source": [
    "对模型进行微调后，可以恢复到原有的精度。一般来说，channel pruning 比 fine-grained pruning 更难以微调来恢复精度。但是，channel pruning 可以在不依赖对稀疏矩阵特殊支持的情况下，在一般的硬件上获得更快的计算。\n",
    "\n",
    "|model|loss|tp|fn|fp|\n",
    "|-|-|-|-|-|\n",
    "|original|0.8396|76.7%|23.3%|1122.6%|\n",
    "|finetuned, ***epoch-3***|0.9185|78.7%|21.3%|2216.8%|\n",
    "|finetuned, ***epoch-5***|0.8663|75.3%|24.7%|1292.7%|\n",
    "\n",
    "我们选择 ***epoch-5*** 为最佳模型，基本维持召回率的同时，并没有使得 fp 的百分比上升太多。"
   ]
  },
  {
   "cell_type": "code",
   "execution_count": 13,
   "id": "619a1649-60d3-4884-bb27-9ec3e1868d34",
   "metadata": {},
   "outputs": [
    {
     "data": {
      "application/vnd.jupyter.widget-view+json": {
       "model_id": "c8f8caada86b45198c554f4887f6e6bb",
       "version_major": 2,
       "version_minor": 0
      },
      "text/plain": [
       "eval:   0%|          | 0/71 [00:00<?, ?it/s]"
      ]
     },
     "metadata": {},
     "output_type": "display_data"
    },
    {
     "data": {
      "text/plain": [
       "{'loss/all': 0.8662549,\n",
       " 'percent_all/tp': 75.34506320953369,\n",
       " 'percent_all/fn': 24.65493679046631,\n",
       " 'percent_all/fp': 1292.7061080932617,\n",
       " 'pr/precision': 0.05507474,\n",
       " 'pr/recall': 0.75345063,\n",
       " 'pr/f1_score': 0.10264637051546263}"
      ]
     },
     "execution_count": 13,
     "metadata": {},
     "output_type": "execute_result"
    }
   ],
   "source": [
    "finetuned_pruned_model = load_prunned_model(\"data/models/seg/seg-prunned-finetuned_2025-06-01_14.40.54_none.500000.state\", channel_pruning_ratio)\n",
    "finetuned_pruned_model = finetuned_pruned_model.to('cuda')\n",
    "evaluate(finetuned_pruned_model)"
   ]
  },
  {
   "cell_type": "markdown",
   "id": "122b47d6-b666-479a-9eb2-04c522c8496b",
   "metadata": {},
   "source": [
    "测量 pruning 优化后模型的 ***latency / MACs / params*** 3个参数，并与优化前进行对比。"
   ]
  },
  {
   "cell_type": "code",
   "execution_count": 14,
   "id": "f1f94fbd-5d0f-4c30-ad77-df9ab8b0ff49",
   "metadata": {},
   "outputs": [],
   "source": [
    "# helper functions to measure latency of a regular PyTorch models.\n",
    "#   Unlike fine-grained pruning, channel pruning\n",
    "#   can directly leads to model size reduction and speed up.\n",
    "@torch.no_grad()\n",
    "def measure_latency(model, dummy_input, n_warmup=20, n_test=100):\n",
    "    model.eval()\n",
    "    # warmup\n",
    "    for _ in range(n_warmup):\n",
    "        _ = model(dummy_input)\n",
    "    # real test\n",
    "    t1 = time.time()\n",
    "    for _ in range(n_test):\n",
    "        _ = model(dummy_input)\n",
    "    t2 = time.time()\n",
    "    return (t2 - t1) / n_test  # average latency"
   ]
  },
  {
   "cell_type": "code",
   "execution_count": 15,
   "id": "5728e8e9-f833-4f34-a83a-a4a752011d79",
   "metadata": {},
   "outputs": [],
   "source": [
    "def show_perf_diff(model, pruned_model):\n",
    "    table_template = \"{:<15} {:<15} {:<15} {:<15}\"\n",
    "    print (table_template.format('', 'Original','Pruned','Reduction Ratio'))\n",
    "    \n",
    "    # 1. measure the latency of the original model and the pruned model on GPU\n",
    "    dummy_input = torch.randn(1, 7, 512, 512).to('cuda')\n",
    "    pruned_model = pruned_model.to('cuda')\n",
    "    model = model.to('cuda')\n",
    "    \n",
    "    pruned_latency = measure_latency(pruned_model, dummy_input)\n",
    "    original_latency = measure_latency(model, dummy_input)\n",
    "    print(table_template.format('Latency (ms)',\n",
    "                                round(original_latency * 1000, 1),\n",
    "                                round(pruned_latency * 1000, 1),\n",
    "                                round(original_latency / pruned_latency, 1)))\n",
    "    \n",
    "    # 2. measure the computation (MACs)\n",
    "    original_macs = get_model_macs(model, dummy_input)\n",
    "    pruned_macs = get_model_macs(pruned_model, dummy_input)\n",
    "    print(table_template.format('MACs (M)',\n",
    "                                round(original_macs / 1e6),\n",
    "                                round(pruned_macs / 1e6),\n",
    "                                round(original_macs / pruned_macs, 1)))\n",
    "    \n",
    "    # 3. measure the model size (params)\n",
    "    original_param = get_num_parameters(model)\n",
    "    pruned_param = get_num_parameters(pruned_model)\n",
    "    print(table_template.format('Param (M)',\n",
    "                                round(original_param / 1e6, 2),\n",
    "                                round(pruned_param / 1e6, 2),\n",
    "                                round(original_param / pruned_param, 1)))"
   ]
  },
  {
   "cell_type": "code",
   "execution_count": 16,
   "id": "2619913e-9322-4197-ba51-ec0937513778",
   "metadata": {},
   "outputs": [
    {
     "name": "stdout",
     "output_type": "stream",
     "text": [
      "                Original        Pruned          Reduction Ratio\n",
      "Latency (ms)    21.2            16.2            1.3            \n",
      "MACs (M)        7413            2084            3.6            \n",
      "Param (M)       0.12            0.03            3.9            \n"
     ]
    }
   ],
   "source": [
    "show_perf_diff(load_model(), finetuned_pruned_model)"
   ]
  },
  {
   "cell_type": "markdown",
   "id": "3e681eaf-2cc8-49a5-a4d9-125bab82b36b",
   "metadata": {},
   "source": [
    "实际部署到 RK3588S-NPU 上运行，统计优化前后的 ***latency / memory(weight memory)*** 参数"
   ]
  },
  {
   "cell_type": "code",
   "execution_count": 17,
   "id": "e61220c9-7b0b-4f73-ae56-7643a0bc5a79",
   "metadata": {
    "scrolled": true
   },
   "outputs": [
    {
     "name": "stdout",
     "output_type": "stream",
     "text": [
      "export to optimization/models/seg_model.onnx\n"
     ]
    },
    {
     "name": "stderr",
     "output_type": "stream",
     "text": [
      "I rknn-toolkit2 version: 2.3.2\n"
     ]
    },
    {
     "name": "stdout",
     "output_type": "stream",
     "text": [
      "--> Config model\n",
      "is model pruning enabled:  False\n",
      "done\n",
      "--> Loading model\n"
     ]
    },
    {
     "name": "stderr",
     "output_type": "stream",
     "text": [
      "I Loading : 100%|█████████████████████████████████████████████████| 70/70 [00:00<00:00, 7552.44it/s]\n",
      "\u001b[1;33mW\u001b[0m \u001b[1;33mload_onnx: The config.mean_values is None, zeros will be set for input 0!\u001b[0m\n",
      "\u001b[1;33mW\u001b[0m \u001b[1;33mload_onnx: The config.std_values is None, ones will be set for input 0!\u001b[0m\n",
      "\u001b[1;33mW\u001b[0m \u001b[1;33mbuild: The dataset='./calib_data/dataset.txt' is ignored because do_quantization = False!\u001b[0m\n"
     ]
    },
    {
     "name": "stdout",
     "output_type": "stream",
     "text": [
      "done\n",
      "--> Building model\n"
     ]
    },
    {
     "name": "stderr",
     "output_type": "stream",
     "text": [
      "I OpFusing 2 : 100%|█████████████████████████████████████████████| 100/100 [00:00<00:00, 798.43it/s]"
     ]
    },
    {
     "name": "stdout",
     "output_type": "stream",
     "text": [
      "\n",
      "\n"
     ]
    },
    {
     "name": "stderr",
     "output_type": "stream",
     "text": [
      "I OpFusing 2 : 100%|█████████████████████████████████████████████| 100/100 [00:00<00:00, 188.85it/s]\n",
      "I rknn building ...\n",
      "I rknn building done.\n",
      "I rknn-toolkit2 version: 2.3.2\n"
     ]
    },
    {
     "name": "stdout",
     "output_type": "stream",
     "text": [
      "done\n",
      "--> Export rknn model\n",
      "done\n"
     ]
    },
    {
     "name": "stderr",
     "output_type": "stream",
     "text": [
      "I target set by user is: rk3588\n",
      "adb: unable to connect for root: closed\n"
     ]
    },
    {
     "name": "stdout",
     "output_type": "stream",
     "text": [
      "--> Init runtime environment\n"
     ]
    },
    {
     "name": "stderr",
     "output_type": "stream",
     "text": [
      "I Get hardware info: target_platform = rk3588, os = Linux, aarch = aarch64\n",
      "I Check RK3588 board npu runtime version\n",
      "I Starting ntp or adb, target is RK3588\n",
      "I Start adb...\n",
      "I Connect to Device success!\n",
      "I Flag perf_debug has been set, it will affect the performance of inference!\n",
      "I Flag eval_mem has been set, it will affect the performance of inference!\n"
     ]
    },
    {
     "name": "stdout",
     "output_type": "stream",
     "text": [
      "I NPUTransfer(191535): Starting NPU Transfer Client, Transfer version 2.2.2 (12abf2a@2024-09-02T03:22:41)\n",
      "I NPUTransfer(191535): TransferBuffer: min aligned size: 1024\n",
      "D RKNNAPI: ==============================================\u001b[0m\n",
      "D RKNNAPI: RKNN VERSION:\u001b[0m\n",
      "D RKNNAPI:   API: 2.3.2 (1842325 build@2025-03-30T09:55:23)\u001b[0m\n",
      "D RKNNAPI:   DRV: rknn_server: 2.3.2 (1842325 build@2025-03-30T09:54:34)\u001b[0m\n",
      "D RKNNAPI:   DRV: rknnrt: 2.3.2 (429f97ae6b@2025-04-09T09:09:27)\u001b[0m\n",
      "D RKNNAPI: ==============================================\u001b[0m\n",
      "D RKNNAPI: Input tensors:\u001b[0m\n",
      "done\n",
      "Model-optimization/models/seg_model.rknn is rknn model, starting val\n",
      "--> Eval perf\n",
      "D RKNNAPI:   index=0, name=input, n_dims=4, dims=[1, 512, 512, 7], n_elems=1835008, size=3670016, w_stride = 0, size_with_stride = 0, fmt=NHWC, type=FP16, qnt_type=NONE, zp=0, scale=1.000000\u001b[0m\n",
      "D RKNNAPI: Output tensors:\u001b[0m\n",
      "D RKNNAPI:   index=0, name=output, n_dims=4, dims=[1, 1, 512, 512], n_elems=262144, size=524288, w_stride = 0, size_with_stride = 0, fmt=NCHW, type=FP16, qnt_type=NONE, zp=0, scale=1.000000\u001b[0m\n",
      "CPU Current Frequency List:\n",
      "    - 1800000\n",
      "    - 2256000\n",
      "    - 2304000\n",
      "NPU Current Frequency List:\n",
      "    - 1000000000\n",
      "DDR Current Frequency List:\n",
      "    - 1560000000\n",
      "\n",
      "\u001b[1;33mWarning: The performance result is just for debugging, may worse than actual performance!\u001b[0m\n",
      "------------------------------------------------------------------------------------------------------------------------------------------------------------------------------------------------------------------------------\n",
      "                                                                          Network Layer Information Table                                                                                \n",
      "------------------------------------------------------------------------------------------------------------------------------------------------------------------------------------------------------------------------------\n",
      "ID   OpType             DataType Target InputShape                               OutputShape            Cycles(DDR/NPU/Total)    Time(us)     MacUsage(%)          WorkLoad(0/1/2)      RW(KB)       FullName        \n",
      "------------------------------------------------------------------------------------------------------------------------------------------------------------------------------------------------------------------------------\n",
      "1    InputOperator      FLOAT16  CPU    \\                                        (1,7,512,512)          0/0/0                    4                                 0.0%/0.0%/0.0%       0            InputOperator:input\n",
      "2    BatchNormalization FLOAT16  NPU    (1,7,512,512),(7),(7),(7),(7)            (1,7,512,512)          0/0/0                    797                               100.0%/0.0%/0.0%     4096         BatchNormalization:/input_batchnorm/BatchNormalization\n",
      "3    ConvRelu           FLOAT16  NPU    (1,7,512,512),(16,7,3,3),(16)            (1,16,512,512)         720312/2359296/2359296   2707         19.07/0.00/0.00      100.0%/0.0%/0.0%     4098         Conv:/unet/down_path.0/block/block.0/Conv\n",
      "4    BatchNormalization FLOAT16  NPU    (1,16,512,512),(16),(16),(16),(16)       (1,16,512,512)         0/0/0                    1488                              100.0%/0.0%/0.0%     8192         BatchNormalization:/unet/down_path.0/block/block.2/BatchNormalization\n",
      "5    ConvRelu           FLOAT16  NPU    (1,16,512,512),(16,16,3,3),(16)          (1,16,512,512)         960502/2359296/2359296   3105         37.99/0.00/0.00      100.0%/0.0%/0.0%     8196         Conv:/unet/down_path.0/block/block.3/Conv\n",
      "6    BatchNormalization FLOAT16  NPU    (1,16,512,512),(16),(16),(16),(16)       (1,16,512,512)         0/0/0                    1489                              100.0%/0.0%/0.0%     8192         BatchNormalization:/unet/down_path.0/block/block.5/BatchNormalization\n",
      "7    AveragePool        FLOAT16  NPU    (1,16,512,512)                           (1,16,256,256)         0/0/0                    4254                              100.0%/0.0%/0.0%     8192         AveragePool:/unet/AveragePool\n",
      "8    ConvRelu           FLOAT16  NPU    (1,16,256,256),(32,16,3,3),(32)          (1,32,256,256)         360623/1179648/1179648   1383         42.65/0.00/0.00      100.0%/0.0%/0.0%     2057         Conv:/unet/down_path.1/block/block.0/Conv\n",
      "9    BatchNormalization FLOAT16  NPU    (1,32,256,256),(32),(32),(32),(32)       (1,32,256,256)         0/0/0                    781                               100.0%/0.0%/0.0%     4096         BatchNormalization:/unet/down_path.1/block/block.2/BatchNormalization\n",
      "10   ConvRelu           FLOAT16  NPU    (1,32,256,256),(32,32,3,3),(32)          (1,32,256,256)         481180/1179648/1179648   1579         74.71/0.00/0.00      100.0%/0.0%/0.0%     4114         Conv:/unet/down_path.1/block/block.3/Conv\n",
      "11   BatchNormalization FLOAT16  NPU    (1,32,256,256),(32),(32),(32),(32)       (1,32,256,256)         0/0/0                    780                               100.0%/0.0%/0.0%     4096         BatchNormalization:/unet/down_path.1/block/block.5/BatchNormalization\n",
      "12   AveragePool        FLOAT16  NPU    (1,32,256,256)                           (1,32,128,128)         0/0/0                    2155                              100.0%/0.0%/0.0%     4096         AveragePool:/unet/AveragePool_1\n",
      "13   ConvRelu           FLOAT16  NPU    (1,32,128,128),(64,32,3,3),(64)          (1,64,128,128)         182169/589824/589824     723          81.58/0.00/0.00      100.0%/0.0%/0.0%     1060         Conv:/unet/down_path.2/block/block.0/Conv\n",
      "14   BatchNormalization FLOAT16  NPU    (1,64,128,128),(64),(64),(64),(64)       (1,64,128,128)         0/0/0                    434                               100.0%/0.0%/0.0%     2048         BatchNormalization:/unet/down_path.2/block/block.2/BatchNormalization\n",
      "15   ConvRelu           FLOAT16  NPU    (1,64,128,128),(64,64,3,3),(64)          (1,64,128,128)         244294/1179648/1179648   1396         84.50/0.00/0.00      100.0%/0.0%/0.0%     2120         Conv:/unet/down_path.2/block/block.3/Conv\n",
      "16   BatchNormalization FLOAT16  NPU    (1,64,128,128),(64),(64),(64),(64)       (1,64,128,128)         0/0/0                    417                               100.0%/0.0%/0.0%     2048         BatchNormalization:/unet/down_path.2/block/block.5/BatchNormalization\n",
      "17   ConvTranspose      FLOAT16  NPU    (1,64,128,128),(64,32,2,2),(32)          (1,32,256,256)         361033/1048576/1048576   1246         84.16/0.00/0.00      100.0%/0.0%/0.0%     2064         ConvTranspose:/unet/up_path.0/up/ConvTranspose\n",
      "18   Concat             FLOAT16  NPU    (1,32,256,256),(1,32,256,256)            (1,64,256,256)         0/0/0                    1488                              100.0%/0.0%/0.0%     8192         Concat:/unet/up_path.0/Concat\n",
      "19   ConvRelu           FLOAT16  NPU    (1,64,256,256),(32,64,3,3),(32)          (1,32,256,256)         722294/2359296/2359296   3206         73.59/0.00/0.00      100.0%/0.0%/0.0%     8228         Conv:/unet/up_path.0/conv_block/block/block.0/Conv\n",
      "20   BatchNormalization FLOAT16  NPU    (1,32,256,256),(32),(32),(32),(32)       (1,32,256,256)         0/0/0                    780                               100.0%/0.0%/0.0%     4096         BatchNormalization:/unet/up_path.0/conv_block/block/block.2/BatchNormalization\n",
      "21   ConvRelu           FLOAT16  NPU    (1,32,256,256),(32,32,3,3),(32)          (1,32,256,256)         481180/1179648/1179648   1587         74.33/0.00/0.00      100.0%/0.0%/0.0%     4114         Conv:/unet/up_path.0/conv_block/block/block.3/Conv\n",
      "22   BatchNormalization FLOAT16  NPU    (1,32,256,256),(32),(32),(32),(32)       (1,32,256,256)         0/0/0                    778                               100.0%/0.0%/0.0%     4096         BatchNormalization:/unet/up_path.0/conv_block/block/block.5/BatchNormalization\n",
      "23   ConvTranspose      FLOAT16  NPU    (1,32,256,256),(32,16,2,2),(16)          (1,16,512,512)         720414/1048576/1048576   1452         72.22/0.00/0.00      100.0%/0.0%/0.0%     4100         ConvTranspose:/unet/up_path.1/up/ConvTranspose\n",
      "24   Concat             FLOAT16  NPU    (1,16,512,512),(1,16,512,512)            (1,32,512,512)         0/0/0                    2887                              100.0%/0.0%/0.0%     16384        Concat:/unet/up_path.1/Concat\n",
      "25   ConvRelu           FLOAT16  NPU    (1,32,512,512),(16,32,3,3),(16)          (1,16,512,512)         1440883/2359296/2359296  4060         58.11/0.00/0.00      100.0%/0.0%/0.0%     16393        Conv:/unet/up_path.1/conv_block/block/block.0/Conv\n",
      "26   BatchNormalization FLOAT16  NPU    (1,16,512,512),(16),(16),(16),(16)       (1,16,512,512)         0/0/0                    1505                              100.0%/0.0%/0.0%     8192         BatchNormalization:/unet/up_path.1/conv_block/block/block.2/BatchNormalization\n",
      "27   ConvRelu           FLOAT16  NPU    (1,16,512,512),(16,16,3,3),(16)          (1,16,512,512)         960502/2359296/2359296   3121         37.80/0.00/0.00      100.0%/0.0%/0.0%     8196         Conv:/unet/up_path.1/conv_block/block/block.3/Conv\n",
      "28   ConvSigmoid        FLOAT16  NPU    (1,16,512,512),(1,16,1,1),(1)            (1,1,512,512)          1440358/524288/1440358   2785         0.29/0.00/0.00       100.0%/0.0%/0.0%     8192         Conv:/unet/last/Conv\n",
      "29   OutputOperator     FLOAT16  CPU    (1,1,512,512)                            \\                      0/0/0                    692                               0.0%/0.0%/0.0%       16384        OutputOperator:output\n",
      "------------------------------------------------------------------------------------------------------------------------------------------------------------------------------------------------------------------------------\n",
      "Total Operator Elapsed Per Frame Time(us): 49079\n",
      "Total Memory Read/Write Per Frame Size(KB): 175338.42\n",
      "------------------------------------------------------------------------------------------------------------------------------------------------------------------------------------------------------------------------------\n",
      "---------------------------------------------------------------------------------------------------\n",
      "                                 Operator Time Consuming Ranking Table            \n",
      "---------------------------------------------------------------------------------------------------\n",
      "OpType             CallNumber   CPUTime(us)  GPUTime(us)  NPUTime(us)  TotalTime(us)  TimeRatio(%)  \n",
      "---------------------------------------------------------------------------------------------------\n",
      "ConvRelu           10           0            0            22867        22867          46.59%        \n",
      "BatchNormalization 10           0            0            9249         9249           18.85%        \n",
      "AveragePool        2            0            0            6409         6409           13.06%        \n",
      "Concat             2            0            0            4375         4375           8.91%         \n",
      "ConvSigmoid        1            0            0            2785         2785           5.67%         \n",
      "ConvTranspose      2            0            0            2698         2698           5.50%         \n",
      "OutputOperator     1            692          0            0            692            1.41%         \n",
      "InputOperator      1            4            0            0            4              0.01%         \n",
      "---------------------------------------------------------------------------------------------------\n",
      "Total                           696          0            48383        49079         \n",
      "---------------------------------------------------------------------------------------------------\n",
      "\n",
      "--> Eval memory\n",
      "======================================================\n",
      "            Memory Profile Info Dump                  \n",
      "======================================================\n",
      "NPU model memory detail(bytes):\n",
      "    Weight Memory: 236.81 KiB\n",
      "    Internal Tensor Memory: 40.00 MiB\n",
      "    Other Memory: 711.19 KiB\n",
      "    Total Memory: 40.93 MiB\n",
      "\n",
      "INFO: When evaluating memory usage, we need consider  \n",
      "the size of model, current model size is: 1005.18 KiB       \n",
      "======================================================\n",
      "\n"
     ]
    }
   ],
   "source": [
    "# original model perf on NPU\n",
    "\n",
    "# 导出分割模型为ONNX格式\n",
    "export_onnx([\"--import-path=data/models/seg/seg_2025-04-30_18.55.29_seg.3500000.state\", \n",
    "             \"--export-path=optimization/models\",\n",
    "            \"--input-shape\", \"1\", \"7\", \"512\", \"512\", \"--model-type=seg\"])\n",
    "\n",
    "# 将 ONNX 转换成 RKNN\n",
    "convert_main([\"--import-path=optimization/models/seg_model.onnx\", \"--export-path=optimization/models\", \"--model-type=seg\", \"--platform=rk3588\"])\n",
    "\n",
    "# 评估性能和内存\n",
    "eval_perf_mem_on_rk3588(\"optimization/models/seg_model.rknn\")\n",
    "\n",
    "# 评估召回率，这一项在 3_model_deploy.ipynb 中已经做过\n",
    "# evaluate(\"optimization/models/seg_model.rknn\", on_rk3588=True)"
   ]
  },
  {
   "cell_type": "code",
   "execution_count": 18,
   "id": "0ee5665a-9a62-4275-968e-0f30db5fb43f",
   "metadata": {
    "scrolled": true
   },
   "outputs": [
    {
     "name": "stderr",
     "output_type": "stream",
     "text": [
      "I rknn-toolkit2 version: 2.3.2\n"
     ]
    },
    {
     "name": "stdout",
     "output_type": "stream",
     "text": [
      "export to optimization/models/seg_model.onnx\n",
      "--> Config model\n",
      "is model pruning enabled:  True\n",
      "done\n",
      "--> Loading model\n"
     ]
    },
    {
     "name": "stderr",
     "output_type": "stream",
     "text": [
      "I Loading : 100%|████████████████████████████████████████████████| 70/70 [00:00<00:00, 80504.88it/s]\n",
      "\u001b[1;33mW\u001b[0m \u001b[1;33mload_onnx: The config.mean_values is None, zeros will be set for input 0!\u001b[0m\n",
      "\u001b[1;33mW\u001b[0m \u001b[1;33mload_onnx: The config.std_values is None, ones will be set for input 0!\u001b[0m\n",
      "\u001b[1;33mW\u001b[0m \u001b[1;33mbuild: The dataset='./calib_data/dataset.txt' is ignored because do_quantization = False!\u001b[0m\n"
     ]
    },
    {
     "name": "stdout",
     "output_type": "stream",
     "text": [
      "done\n",
      "--> Building model\n"
     ]
    },
    {
     "name": "stderr",
     "output_type": "stream",
     "text": [
      "I OpFusing 2 : 100%|████████████████████████████████████████████| 100/100 [00:00<00:00, 2032.80it/s]"
     ]
    },
    {
     "name": "stdout",
     "output_type": "stream",
     "text": [
      "\n",
      "\n"
     ]
    },
    {
     "name": "stderr",
     "output_type": "stream",
     "text": [
      "I OpFusing 2 : 100%|█████████████████████████████████████████████| 100/100 [00:00<00:00, 218.39it/s]\n",
      "I rknn building ...\n",
      "I rknn building done.\n"
     ]
    },
    {
     "name": "stdout",
     "output_type": "stream",
     "text": [
      "done\n",
      "--> Export rknn model\n",
      "done\n"
     ]
    }
   ],
   "source": [
    "# auto-pruned model perf on NPU \n",
    "\n",
    "# 导出分割模型为ONNX格式\n",
    "export_onnx([\"--import-path=data/models/seg/seg_2025-04-30_18.55.29_seg.3500000.state\", \n",
    "             \"--export-path=optimization/models\",\n",
    "            \"--input-shape\", \"1\", \"7\", \"512\", \"512\", \"--model-type=seg\"])\n",
    "\n",
    "# 将 ONNX 转换成 RKNN\n",
    "convert_main([\"--import-path=optimization/models/seg_model.onnx\", \"--export-path=optimization/models\", \"--model-type=seg\", \"--platform=rk3588\", \n",
    "             \"--pruning\"])\n",
    "\n",
    "# 因为原模型的稀疏化程度不够，实际SDK自带的 pruning 算法根本没有运行，所以这里不再调用 eval_perf_mem_on_rk3588\n",
    "#eval_perf_mem_on_rk3588(\"optimization/models/seg_model.rknn\")"
   ]
  },
  {
   "cell_type": "code",
   "execution_count": 19,
   "id": "eac6b267-a6f0-4d1f-a875-08beb7cf8ed5",
   "metadata": {
    "scrolled": true
   },
   "outputs": [
    {
     "name": "stderr",
     "output_type": "stream",
     "text": [
      "I rknn-toolkit2 version: 2.3.2\n"
     ]
    },
    {
     "name": "stdout",
     "output_type": "stream",
     "text": [
      "export to optimization/models/seg_model.onnx\n",
      "--> Config model\n",
      "is model pruning enabled:  False\n",
      "done\n",
      "--> Loading model\n"
     ]
    },
    {
     "name": "stderr",
     "output_type": "stream",
     "text": [
      "I Loading : 100%|███████████████████████████████████████████████| 70/70 [00:00<00:00, 114108.54it/s]\n",
      "\u001b[1;33mW\u001b[0m \u001b[1;33mload_onnx: The config.mean_values is None, zeros will be set for input 0!\u001b[0m\n",
      "\u001b[1;33mW\u001b[0m \u001b[1;33mload_onnx: The config.std_values is None, ones will be set for input 0!\u001b[0m\n",
      "\u001b[1;33mW\u001b[0m \u001b[1;33mbuild: The dataset='./calib_data/dataset.txt' is ignored because do_quantization = False!\u001b[0m\n"
     ]
    },
    {
     "name": "stdout",
     "output_type": "stream",
     "text": [
      "done\n",
      "--> Building model\n"
     ]
    },
    {
     "name": "stderr",
     "output_type": "stream",
     "text": [
      "I OpFusing 2 : 100%|████████████████████████████████████████████| 100/100 [00:00<00:00, 1949.72it/s]"
     ]
    },
    {
     "name": "stdout",
     "output_type": "stream",
     "text": [
      "\n",
      "\n"
     ]
    },
    {
     "name": "stderr",
     "output_type": "stream",
     "text": [
      "I OpFusing 2 : 100%|█████████████████████████████████████████████| 100/100 [00:00<00:00, 379.78it/s]\n",
      "I rknn building ...\n",
      "I rknn building done.\n",
      "I rknn-toolkit2 version: 2.3.2\n",
      "adb: unable to connect for root: closed\n",
      "I target set by user is: rk3588\n"
     ]
    },
    {
     "name": "stdout",
     "output_type": "stream",
     "text": [
      "done\n",
      "--> Export rknn model\n",
      "done\n",
      "--> Init runtime environment\n"
     ]
    },
    {
     "name": "stderr",
     "output_type": "stream",
     "text": [
      "I Get hardware info: target_platform = rk3588, os = Linux, aarch = aarch64\n",
      "I Check RK3588 board npu runtime version\n",
      "I Starting ntp or adb, target is RK3588\n",
      "I Start adb...\n",
      "I Connect to Device success!\n",
      "I Flag perf_debug has been set, it will affect the performance of inference!\n",
      "I Flag eval_mem has been set, it will affect the performance of inference!\n"
     ]
    },
    {
     "name": "stdout",
     "output_type": "stream",
     "text": [
      "I NPUTransfer(191535): Starting NPU Transfer Client, Transfer version 2.2.2 (12abf2a@2024-09-02T03:22:41)\n",
      "I NPUTransfer(191535): TransferBuffer: min aligned size: 1024\n",
      "D RKNNAPI: ==============================================\u001b[0m\n",
      "D RKNNAPI: RKNN VERSION:\u001b[0m\n",
      "D RKNNAPI:   API: 2.3.2 (1842325 build@2025-03-30T09:55:23)\u001b[0m\n",
      "D RKNNAPI:   DRV: rknn_server: 2.3.2 (1842325 build@2025-03-30T09:54:34)\u001b[0m\n",
      "D RKNNAPI:   DRV: rknnrt: 2.3.2 (429f97ae6b@2025-04-09T09:09:27)\u001b[0m\n",
      "D RKNNAPI: ==============================================\u001b[0m\n",
      "D RKNNAPI: Input tensors:\u001b[0m\n",
      "done\n",
      "Model-optimization/models/seg_model.rknn is rknn model, starting val\n",
      "--> Eval perf\n",
      "D RKNNAPI:   index=0, name=input, n_dims=4, dims=[1, 512, 512, 7], n_elems=1835008, size=3670016, w_stride = 0, size_with_stride = 0, fmt=NHWC, type=FP16, qnt_type=NONE, zp=0, scale=1.000000\u001b[0m\n",
      "D RKNNAPI: Output tensors:\u001b[0m\n",
      "D RKNNAPI:   index=0, name=output, n_dims=4, dims=[1, 1, 512, 512], n_elems=262144, size=524288, w_stride = 0, size_with_stride = 0, fmt=NCHW, type=FP16, qnt_type=NONE, zp=0, scale=1.000000\u001b[0m\n",
      "CPU Current Frequency List:\n",
      "    - 1800000\n",
      "    - 2256000\n",
      "    - 2304000\n",
      "NPU Current Frequency List:\n",
      "    - 1000000000\n",
      "DDR Current Frequency List:\n",
      "    - 1560000000\n",
      "\n",
      "\u001b[1;33mWarning: The performance result is just for debugging, may worse than actual performance!\u001b[0m\n",
      "------------------------------------------------------------------------------------------------------------------------------------------------------------------------------------------------------------------------------\n",
      "                                                                          Network Layer Information Table                                                                                \n",
      "------------------------------------------------------------------------------------------------------------------------------------------------------------------------------------------------------------------------------\n",
      "ID   OpType             DataType Target InputShape                               OutputShape            Cycles(DDR/NPU/Total)    Time(us)     MacUsage(%)          WorkLoad(0/1/2)      RW(KB)       FullName        \n",
      "------------------------------------------------------------------------------------------------------------------------------------------------------------------------------------------------------------------------------\n",
      "1    InputOperator      FLOAT16  CPU    \\                                        (1,7,512,512)          0/0/0                    5                                 0.0%/0.0%/0.0%       0            InputOperator:input\n",
      "2    BatchNormalization FLOAT16  NPU    (1,7,512,512),(7),(7),(7),(7)            (1,7,512,512)          0/0/0                    788                               100.0%/0.0%/0.0%     4096         BatchNormalization:/input_batchnorm/BatchNormalization\n",
      "3    ConvRelu           FLOAT16  NPU    (1,7,512,512),(8,7,3,3),(8)              (1,8,512,512)          480187/2359296/2359296   2706         9.54/0.00/0.00       100.0%/0.0%/0.0%     4097         Conv:/unet/down_path.0/block/block.0/Conv\n",
      "4    BatchNormalization FLOAT16  NPU    (1,8,512,512),(8),(8),(8),(8)            (1,8,512,512)          0/0/0                    767                               100.0%/0.0%/0.0%     4096         BatchNormalization:/unet/down_path.0/block/block.2/BatchNormalization\n",
      "5    ConvRelu           FLOAT16  NPU    (1,8,512,512),(8,8,3,3),(8)              (1,8,512,512)          480187/2359296/2359296   2704         10.91/0.00/0.00      100.0%/0.0%/0.0%     4097         Conv:/unet/down_path.0/block/block.3/Conv\n",
      "6    BatchNormalization FLOAT16  NPU    (1,8,512,512),(8),(8),(8),(8)            (1,8,512,512)          0/0/0                    723                               100.0%/0.0%/0.0%     4096         BatchNormalization:/unet/down_path.0/block/block.5/BatchNormalization\n",
      "7    AveragePool        FLOAT16  NPU    (1,8,512,512)                            (1,8,256,256)          0/0/0                    2154                              100.0%/0.0%/0.0%     4096         AveragePool:/unet/AveragePool\n",
      "8    ConvRelu           FLOAT16  NPU    (1,8,256,256),(16,8,3,3),(16)            (1,16,256,256)         180180/589824/589824     712          20.71/0.00/0.00      100.0%/0.0%/0.0%     1026         Conv:/unet/down_path.1/block/block.0/Conv\n",
      "9    BatchNormalization FLOAT16  NPU    (1,16,256,256),(16),(16),(16),(16)       (1,16,256,256)         0/0/0                    415                               100.0%/0.0%/0.0%     2048         BatchNormalization:/unet/down_path.1/block/block.2/BatchNormalization\n",
      "10   ConvRelu           FLOAT16  NPU    (1,16,256,256),(16,16,3,3),(16)          (1,16,256,256)         240326/589824/589824     749          39.37/0.00/0.00      100.0%/0.0%/0.0%     2052         Conv:/unet/down_path.1/block/block.3/Conv\n",
      "11   BatchNormalization FLOAT16  NPU    (1,16,256,256),(16),(16),(16),(16)       (1,16,256,256)         0/0/0                    370                               100.0%/0.0%/0.0%     2048         BatchNormalization:/unet/down_path.1/block/block.5/BatchNormalization\n",
      "12   AveragePool        FLOAT16  NPU    (1,16,256,256)                           (1,16,128,128)         0/0/0                    1064                              100.0%/0.0%/0.0%     2048         AveragePool:/unet/AveragePool_1\n",
      "13   ConvRelu           FLOAT16  NPU    (1,16,128,128),(32,16,3,3),(32)          (1,32,128,128)         90557/294912/294912      384          38.40/0.00/0.00      100.0%/0.0%/0.0%     521          Conv:/unet/down_path.2/block/block.0/Conv\n",
      "14   BatchNormalization FLOAT16  NPU    (1,32,128,128),(32),(32),(32),(32)       (1,32,128,128)         0/0/0                    234                               100.0%/0.0%/0.0%     1024         BatchNormalization:/unet/down_path.2/block/block.2/BatchNormalization\n",
      "15   ConvRelu           FLOAT16  NPU    (1,32,128,128),(32,32,3,3),(32)          (1,32,128,128)         121092/294912/294912     422          69.88/0.00/0.00      100.0%/0.0%/0.0%     1042         Conv:/unet/down_path.2/block/block.3/Conv\n",
      "16   BatchNormalization FLOAT16  NPU    (1,32,128,128),(32),(32),(32),(32)       (1,32,128,128)         0/0/0                    231                               100.0%/0.0%/0.0%     1024         BatchNormalization:/unet/down_path.2/block/block.5/BatchNormalization\n",
      "17   ConvTranspose      FLOAT16  NPU    (1,32,128,128),(32,16,2,2),(16)          (1,16,256,256)         180283/262144/262144     363          72.22/0.00/0.00      100.0%/0.0%/0.0%     1028         ConvTranspose:/unet/up_path.0/up/ConvTranspose\n",
      "18   Concat             FLOAT16  NPU    (1,16,256,256),(1,16,256,256)            (1,32,256,256)         0/0/0                    704                               100.0%/0.0%/0.0%     4096         Concat:/unet/up_path.0/Concat\n",
      "19   ConvRelu           FLOAT16  NPU    (1,32,256,256),(16,32,3,3),(16)          (1,16,256,256)         360620/589824/589824     948          62.22/0.00/0.00      100.0%/0.0%/0.0%     4105         Conv:/unet/up_path.0/conv_block/block/block.0/Conv\n",
      "20   BatchNormalization FLOAT16  NPU    (1,16,256,256),(16),(16),(16),(16)       (1,16,256,256)         0/0/0                    370                               100.0%/0.0%/0.0%     2048         BatchNormalization:/unet/up_path.0/conv_block/block/block.2/BatchNormalization\n",
      "21   ConvRelu           FLOAT16  NPU    (1,16,256,256),(16,16,3,3),(16)          (1,16,256,256)         240326/589824/589824     749          39.37/0.00/0.00      100.0%/0.0%/0.0%     2052         Conv:/unet/up_path.0/conv_block/block/block.3/Conv\n",
      "22   BatchNormalization FLOAT16  NPU    (1,16,256,256),(16),(16),(16),(16)       (1,16,256,256)         0/0/0                    370                               100.0%/0.0%/0.0%     2048         BatchNormalization:/unet/up_path.0/conv_block/block/block.5/BatchNormalization\n",
      "23   ConvTranspose      FLOAT16  NPU    (1,16,256,256),(16,8,2,2),(8)            (1,8,512,512)          360151/1048576/1048576   1247         21.02/0.00/0.00      100.0%/0.0%/0.0%     2049         ConvTranspose:/unet/up_path.1/up/ConvTranspose\n",
      "24   Concat             FLOAT16  NPU    (1,8,512,512),(1,8,512,512)              (1,16,512,512)         0/0/0                    1437                              100.0%/0.0%/0.0%     8192         Concat:/unet/up_path.1/Concat\n",
      "25   ConvRelu           FLOAT16  NPU    (1,16,512,512),(8,16,3,3),(8)            (1,8,512,512)          720312/2359296/2359296   3101         19.02/0.00/0.00      100.0%/0.0%/0.0%     8194         Conv:/unet/up_path.1/conv_block/block/block.0/Conv\n",
      "26   BatchNormalization FLOAT16  NPU    (1,8,512,512),(8),(8),(8),(8)            (1,8,512,512)          0/0/0                    766                               100.0%/0.0%/0.0%     4096         BatchNormalization:/unet/up_path.1/conv_block/block/block.2/BatchNormalization\n",
      "27   ConvRelu           FLOAT16  NPU    (1,8,512,512),(16,8,3,3),(16)            (1,16,512,512)         720312/2359296/2359296   2670         22.09/0.00/0.00      100.0%/0.0%/0.0%     4098         Conv:/unet/up_path.1/conv_block/block/block.3/Conv\n",
      "28   ConvSigmoid        FLOAT16  NPU    (1,16,512,512),(1,16,1,1),(1)            (1,1,512,512)          1440358/524288/1440358   2767         0.30/0.00/0.00       100.0%/0.0%/0.0%     8192         Conv:/unet/last/Conv\n",
      "29   OutputOperator     FLOAT16  CPU    (1,1,512,512)                            \\                      0/0/0                    251                               0.0%/0.0%/0.0%       16384        OutputOperator:output\n",
      "------------------------------------------------------------------------------------------------------------------------------------------------------------------------------------------------------------------------------\n",
      "Total Operator Elapsed Per Frame Time(us): 30171\n",
      "Total Memory Read/Write Per Frame Size(KB): 103997.83\n",
      "------------------------------------------------------------------------------------------------------------------------------------------------------------------------------------------------------------------------------\n",
      "---------------------------------------------------------------------------------------------------\n",
      "                                 Operator Time Consuming Ranking Table            \n",
      "---------------------------------------------------------------------------------------------------\n",
      "OpType             CallNumber   CPUTime(us)  GPUTime(us)  NPUTime(us)  TotalTime(us)  TimeRatio(%)  \n",
      "---------------------------------------------------------------------------------------------------\n",
      "ConvRelu           10           0            0            15145        15145          50.20%        \n",
      "BatchNormalization 10           0            0            5034         5034           16.68%        \n",
      "AveragePool        2            0            0            3218         3218           10.67%        \n",
      "ConvSigmoid        1            0            0            2767         2767           9.17%         \n",
      "Concat             2            0            0            2141         2141           7.10%         \n",
      "ConvTranspose      2            0            0            1610         1610           5.34%         \n",
      "OutputOperator     1            251          0            0            251            0.83%         \n",
      "InputOperator      1            5            0            0            5              0.02%         \n",
      "---------------------------------------------------------------------------------------------------\n",
      "Total                           256          0            29915        30171         \n",
      "---------------------------------------------------------------------------------------------------\n",
      "\n",
      "--> Eval memory\n",
      "======================================================\n",
      "            Memory Profile Info Dump                  \n",
      "======================================================\n",
      "NPU model memory detail(bytes):\n",
      "    Weight Memory: 64.75 KiB\n",
      "    Internal Tensor Memory: 24.00 MiB\n",
      "    Other Memory: 403.25 KiB\n",
      "    Total Memory: 24.46 MiB\n",
      "\n",
      "INFO: When evaluating memory usage, we need consider  \n",
      "the size of model, current model size is: 514.05 KiB       \n",
      "======================================================\n",
      "\n"
     ]
    }
   ],
   "source": [
    "# self-pruned model perf on NPU\n",
    "\n",
    "# 导出模型为ONNX格式\n",
    "finetuned_pruned_model.to(\"cpu\")\n",
    "export_onnx([\"--export-path=optimization/models\",\n",
    "             \"--input-shape\", \"1\", \"7\", \"512\", \"512\", \"--model-type=seg\"],\n",
    "             finetuned_pruned_model)\n",
    "finetuned_pruned_model = finetuned_pruned_model.to(\"cuda\")\n",
    "\n",
    "# 将 ONNX 转换成 RKNN\n",
    "convert_main([\"--import-path=optimization/models/seg_model.onnx\", \n",
    "              \"--export-path=optimization/models\", \"--model-type=seg\", \"--platform=rk3588\"])\n",
    "\n",
    "# 评估性能和内存\n",
    "eval_perf_mem_on_rk3588(\"optimization/models/seg_model.rknn\")"
   ]
  },
  {
   "cell_type": "code",
   "execution_count": 20,
   "id": "264a50ef-1855-44db-914c-bddbab7f158a",
   "metadata": {},
   "outputs": [
    {
     "name": "stderr",
     "output_type": "stream",
     "text": [
      "I rknn-toolkit2 version: 2.3.2\n"
     ]
    },
    {
     "name": "stdout",
     "output_type": "stream",
     "text": [
      "--> Init runtime environment\n"
     ]
    },
    {
     "name": "stderr",
     "output_type": "stream",
     "text": [
      "adb: unable to connect for root: closed\n",
      "I target set by user is: rk3588\n",
      "I Get hardware info: target_platform = rk3588, os = Linux, aarch = aarch64\n",
      "I Check RK3588 board npu runtime version\n",
      "I Starting ntp or adb, target is RK3588\n",
      "I Start adb...\n",
      "I Connect to Device success!\n"
     ]
    },
    {
     "name": "stdout",
     "output_type": "stream",
     "text": [
      "I NPUTransfer(191535): Starting NPU Transfer Client, Transfer version 2.2.2 (12abf2a@2024-09-02T03:22:41)\n",
      "I NPUTransfer(191535): TransferBuffer: min aligned size: 1024\n",
      "D RKNNAPI: ==============================================\u001b[0m\n",
      "D RKNNAPI: RKNN VERSION:\u001b[0m\n",
      "D RKNNAPI:   API: 2.3.2 (1842325 build@2025-03-30T09:55:23)\u001b[0m\n",
      "D RKNNAPI:   DRV: rknn_server: 2.3.2 (1842325 build@2025-03-30T09:54:34)\u001b[0m\n",
      "D RKNNAPI:   DRV: rknnrt: 2.3.2 (429f97ae6b@2025-04-09T09:09:27)\u001b[0m\n",
      "D RKNNAPI: ==============================================\u001b[0m\n",
      "D RKNNAPI: Input tensors:\u001b[0m\n",
      "done\n",
      "Model-optimization/models/seg_model.rknn is rknn model, starting val\n",
      "D RKNNAPI:   index=0, name=input, n_dims=4, dims=[1, 512, 512, 7], n_elems=1835008, size=3670016, w_stride = 0, size_with_stride = 0, fmt=NHWC, type=FP16, qnt_type=NONE, zp=0, scale=1.000000\u001b[0m\n",
      "D RKNNAPI: Output tensors:\u001b[0m\n",
      "D RKNNAPI:   index=0, name=output, n_dims=4, dims=[1, 1, 512, 512], n_elems=262144, size=524288, w_stride = 0, size_with_stride = 0, fmt=NCHW, type=FP16, qnt_type=NONE, zp=0, scale=1.000000\u001b[0m\n"
     ]
    },
    {
     "name": "stderr",
     "output_type": "stream",
     "text": [
      "2025-06-01 16:05:57,818 INFO     pid:191535 app.infer.eval_seg:209:eval 1122 batches of size 1*1\n"
     ]
    },
    {
     "data": {
      "application/vnd.jupyter.widget-view+json": {
       "model_id": "f0fae3d557764c3c8cb6f255a63bd55e",
       "version_major": 2,
       "version_minor": 0
      },
      "text/plain": [
       "eval:   0%|          | 0/1122 [00:00<?, ?it/s]"
      ]
     },
     "metadata": {},
     "output_type": "display_data"
    },
    {
     "name": "stderr",
     "output_type": "stream",
     "text": [
      "2025-06-01 16:22:25,152 INFO     pid:191535 app.infer.eval_seg:308:logMetrics E0 SegmentationTestingApp\n",
      "2025-06-01 16:22:25,171 INFO     pid:191535 app.infer.eval_seg:338:logMetrics E0 val      0.9068 loss, 0.0552 precision, 0.7532 recall, 0.1029 f1 score\n",
      "2025-06-01 16:22:25,172 INFO     pid:191535 app.infer.eval_seg:348:logMetrics E0 val_all  0.9068 loss,  75.3% tp,  24.7% fn,    1288.3% fp\n"
     ]
    },
    {
     "data": {
      "text/plain": [
       "{'loss/all': 0.9067731,\n",
       " 'percent_all/tp': 75.31746029853821,\n",
       " 'percent_all/fn': 24.68254119157791,\n",
       " 'percent_all/fp': 1288.2683753967285,\n",
       " 'pr/precision': 0.05523485,\n",
       " 'pr/recall': 0.7531746,\n",
       " 'pr/f1_score': 0.10292182106133957}"
      ]
     },
     "execution_count": 20,
     "metadata": {},
     "output_type": "execute_result"
    }
   ],
   "source": [
    "# 评估召回率\n",
    "evaluate(\"optimization/models/seg_model.rknn\", on_rk3588=True)"
   ]
  },
  {
   "cell_type": "markdown",
   "id": "fac2874b-b5d9-487b-8c33-da53c0cb35e4",
   "metadata": {},
   "source": [
    "对比一下剪枝前后，部署在 NPU 上运行的关键指标\n",
    "\n",
    "||original|pruned|reduction ratio|accuracy drop|\n",
    "|-|-|-|-|-|\n",
    "|recall|76.7%|75.3%|/|-1.4%|\n",
    "|model size (KiB)|1005.18|514.05|1.96x|/|\n",
    "|latency (us)|49079|30171|1.63x|/|"
   ]
  },
  {
   "cell_type": "code",
   "execution_count": 18,
   "id": "5e3b9811-2f50-4240-9291-36e2a9addcbd",
   "metadata": {},
   "outputs": [
    {
     "data": {
      "image/png": "[encoded data removed]",
      "text/plain": [
       "<Figure size 1000x1000 with 15 Axes>"
      ]
     },
     "metadata": {},
     "output_type": "display_data"
    }
   ],
   "source": [
    "#plot_weight_distribution(model)"
   ]
  },
  {
   "cell_type": "code",
   "execution_count": 19,
   "id": "4a3572ee-709a-4e7d-be6a-4fd6541e8aa9",
   "metadata": {},
   "outputs": [
    {
     "data": {
      "image/png": "[encoded data removed]",
      "text/plain": [
       "<Figure size 1600x1000 with 1 Axes>"
      ]
     },
     "metadata": {},
     "output_type": "display_data"
    }
   ],
   "source": [
    "#plot_num_parameters_distribution(model)"
   ]
  },
  {
   "cell_type": "markdown",
   "id": "b0bfb1e0-da4a-477b-bedd-432b5f125d74",
   "metadata": {
    "jp-MarkdownHeadingCollapsed": true
   },
   "source": [
    "## U-Net 的量化(Quantization) - Int8"
   ]
  },
  {
   "cell_type": "markdown",
   "id": "60bb9e2a-dfde-4ef9-b4c5-3636da910384",
   "metadata": {},
   "source": [
    "Quantization 有 2 种类别：\n",
    "- K-Means-based Quantization\n",
    "- Linear Quantization\n",
    "\n",
    "K-Means-based Quantization 一般更易保持模型精度，但不利于硬件加速。通常在 4bit 下仍可保持一定精度，超过 4bit 精度损失过大，有 8x 的压缩率。（全连接层通常在 2bit 下仍可保持精度）。\n",
    "\n",
    "Linear Quantization 通过使用 Int8 量化，有利于硬件加速，便于部署。由于精度损失，通常配合 QAT 技术恢复模型精度。\n",
    "\n",
    "本实验需要部署到 RK3588S 开发板上，选择使用 Linear + QAT 的方案。"
   ]
  },
  {
   "cell_type": "markdown",
   "id": "d4966dc1-b13d-46db-9ac5-68d4e4c9bff7",
   "metadata": {},
   "source": [
    "RKNN-Toolkit2 (Rockchip 配套的模型调优工具) 支持 Int8 量化，并提供如下 3 种量化算法：\n",
    "- Normal量化算法运行速度快，适用于一般场景。\n",
    "- KL-Divergence量化算法运行速度略慢于Normal量化算法，对于存在非均匀分布的部分模型能够改善量化\n",
    "精度，部分场景下能够缓解少数异常值造成的量化精度丢失问题。\n",
    "- MMSE量化算法运行速度较慢，内存消耗大，相比KL_Divergence量化算法能够更好的缓解异常值造成的\n",
    "量化精度丢失问题。对于量化友好的模型可尝试使用MMSE量化算法来提高量化精度，因为在多数场景\n",
    "下MMSE量化精度要高于Normal和KL-Divergence量化算法。\n",
    "\n",
    "本实验选择 Int8 + Normal 的量化方案，先看看效果。"
   ]
  },
  {
   "cell_type": "markdown",
   "id": "5d842885-3590-4749-a027-7ecc395b70d5",
   "metadata": {},
   "source": [
    "首先，我们需要从训练集里挑选出 **量化校正集**，量化校正集中结节直径大小的分布，应该与训练集中的结界直径大小分布相同。"
   ]
  },
  {
   "cell_type": "code",
   "execution_count": 21,
   "id": "2e80a841-086c-4b1e-9e23-bf802d008992",
   "metadata": {},
   "outputs": [
    {
     "name": "stderr",
     "output_type": "stream",
     "text": [
      "2025-06-01 16:30:45,387 INFO     pid:191535 core.dsets_seg:283:__init__ <core.dsets_seg.TrainingLuna2dSegmentationDataset object at 0x72de0dd8ccd0>: 799 training series, 8343 slices, 1028 nodules\n"
     ]
    },
    {
     "data": {
      "application/vnd.jupyter.widget-view+json": {
       "model_id": "ade6e5c643d24b75b1091c519de08eea",
       "version_major": 2,
       "version_minor": 0
      },
      "text/plain": [
       "calib-data:   0%|          | 0/103 [00:00<?, ?it/s]"
      ]
     },
     "metadata": {},
     "output_type": "display_data"
    },
    {
     "name": "stderr",
     "output_type": "stream",
     "text": [
      "2025-06-01 16:32:12,214 INFO     pid:191535 core.dsets_seg:380:save_calibration_set Save calibration dataset completed.\n"
     ]
    }
   ],
   "source": [
    "# 创建量化校正集\n",
    "train_ds = TrainingLuna2dSegmentationDataset(\n",
    "            val_stride=10,\n",
    "            isValSet_bool=False,\n",
    "            contextSlices_count=3,\n",
    "            save_calib=True,\n",
    "            calib_count=100,\n",
    "            calib_dir='./calib_data'\n",
    "        )"
   ]
  },
  {
   "cell_type": "markdown",
   "id": "c5eaa0d2-384b-48de-8af6-d8ae236c7053",
   "metadata": {},
   "source": [
    "有了量化校正集之后，我们设置好量化数据类型(Int8)+量化算法(Normal)，对原始模型进行量化并导出为 RKNN 模型"
   ]
  },
  {
   "cell_type": "code",
   "execution_count": 22,
   "id": "aff76c2b-e12d-41ea-9d5f-9cfdbbf0fcff",
   "metadata": {
    "scrolled": true
   },
   "outputs": [
    {
     "name": "stderr",
     "output_type": "stream",
     "text": [
      "I rknn-toolkit2 version: 2.3.2\n"
     ]
    },
    {
     "name": "stdout",
     "output_type": "stream",
     "text": [
      "export to optimization/models/seg_model.onnx\n",
      "--> Config model\n",
      "is model pruning enabled:  False\n",
      "done\n",
      "--> Loading model\n"
     ]
    },
    {
     "name": "stderr",
     "output_type": "stream",
     "text": [
      "I Loading : 100%|████████████████████████████████████████████████| 70/70 [00:00<00:00, 23383.35it/s]\n",
      "\u001b[1;33mW\u001b[0m \u001b[1;33mload_onnx: The config.mean_values is None, zeros will be set for input 0!\u001b[0m\n",
      "\u001b[1;33mW\u001b[0m \u001b[1;33mload_onnx: The config.std_values is None, ones will be set for input 0!\u001b[0m\n"
     ]
    },
    {
     "name": "stdout",
     "output_type": "stream",
     "text": [
      "done\n",
      "--> Building model\n"
     ]
    },
    {
     "name": "stderr",
     "output_type": "stream",
     "text": [
      "I OpFusing 2 : 100%|█████████████████████████████████████████████| 100/100 [00:00<00:00, 962.55it/s]"
     ]
    },
    {
     "name": "stdout",
     "output_type": "stream",
     "text": [
      "\n",
      "\n"
     ]
    },
    {
     "name": "stderr",
     "output_type": "stream",
     "text": [
      "I OpFusing 2 : 100%|█████████████████████████████████████████████| 100/100 [00:00<00:00, 206.08it/s]\n",
      "I GraphPreparing : 100%|██████████████████████████████████████████| 38/38 [00:00<00:00, 5469.58it/s]\n",
      "I Quantizating 1/7: 100%|███████████████████████████████████████████| 38/38 [00:09<00:00,  4.03it/s]\n",
      "I Quantizating 2/7: 100%|███████████████████████████████████████████| 38/38 [00:08<00:00,  4.29it/s]\n",
      "I Quantizating 3/7: 100%|███████████████████████████████████████████| 38/38 [00:08<00:00,  4.27it/s]\n",
      "I Quantizating 4/7: 100%|███████████████████████████████████████████| 38/38 [00:08<00:00,  4.35it/s]\n",
      "I Quantizating 5/7: 100%|███████████████████████████████████████████| 38/38 [00:09<00:00,  4.17it/s]\n",
      "I Quantizating 6/7: 100%|███████████████████████████████████████████| 38/38 [00:09<00:00,  4.20it/s]\n",
      "I Quantizating 7/7: 100%|███████████████████████████████████████████| 38/38 [00:03<00:00, 10.54it/s]\n",
      "\u001b[1;33mW\u001b[0m \u001b[1;33mbuild: The default input dtype of 'input' is changed from 'float32' to 'int8' in rknn model for performance!\n",
      "                       Please take care of this change when deploy rknn model with Runtime API!\u001b[0m\n",
      "\u001b[1;33mW\u001b[0m \u001b[1;33mbuild: The default output dtype of 'output' is changed from 'float32' to 'int8' in rknn model for performance!\n",
      "                      Please take care of this change when deploy rknn model with Runtime API!\u001b[0m\n",
      "I rknn building ...\n",
      "I rknn building done.\n"
     ]
    },
    {
     "name": "stdout",
     "output_type": "stream",
     "text": [
      "done\n",
      "--> Export rknn model\n",
      "done\n"
     ]
    }
   ],
   "source": [
    "# 导出分割模型为ONNX格式\n",
    "export_onnx([\"--import-path=data/models/seg/seg_2025-04-30_18.55.29_seg.3500000.state\", \n",
    "             \"--export-path=optimization/models\",\n",
    "            \"--input-shape\", \"1\", \"7\", \"512\", \"512\", \"--model-type=seg\"])\n",
    "\n",
    "# 将 ONNX 转换成 RKNN，同时启用 INT8 + Normal 量化\n",
    "convert_main([\"--import-path=optimization/models/seg_model.onnx\",\n",
    "              \"--export-path=optimization/models\",\n",
    "              \"--model-type=seg\",\n",
    "              \"--platform=rk3588\",\n",
    "              \"--dtype=i8\",\n",
    "              \"--quantized-algorithm=normal\"\n",
    "              #\"--accuracy-analysis\"\n",
    "             ])"
   ]
  },
  {
   "cell_type": "code",
   "execution_count": 23,
   "id": "8f5cdac0-33c7-4038-a5a7-057bf07b5dff",
   "metadata": {
    "scrolled": true
   },
   "outputs": [
    {
     "name": "stderr",
     "output_type": "stream",
     "text": [
      "I rknn-toolkit2 version: 2.3.2\n",
      "adb: unable to connect for root: closed\n",
      "I target set by user is: rk3588\n"
     ]
    },
    {
     "name": "stdout",
     "output_type": "stream",
     "text": [
      "--> Init runtime environment\n"
     ]
    },
    {
     "name": "stderr",
     "output_type": "stream",
     "text": [
      "I Get hardware info: target_platform = rk3588, os = Linux, aarch = aarch64\n",
      "I Check RK3588 board npu runtime version\n",
      "I Starting ntp or adb, target is RK3588\n",
      "I Start adb...\n",
      "I Connect to Device success!\n",
      "I Flag perf_debug has been set, it will affect the performance of inference!\n",
      "I Flag eval_mem has been set, it will affect the performance of inference!\n"
     ]
    },
    {
     "name": "stdout",
     "output_type": "stream",
     "text": [
      "I NPUTransfer(191535): Starting NPU Transfer Client, Transfer version 2.2.2 (12abf2a@2024-09-02T03:22:41)\n",
      "I NPUTransfer(191535): TransferBuffer: min aligned size: 1024\n",
      "D RKNNAPI: ==============================================\u001b[0m\n",
      "D RKNNAPI: RKNN VERSION:\u001b[0m\n",
      "D RKNNAPI:   API: 2.3.2 (1842325 build@2025-03-30T09:55:23)\u001b[0m\n",
      "D RKNNAPI:   DRV: rknn_server: 2.3.2 (1842325 build@2025-03-30T09:54:34)\u001b[0m\n",
      "D RKNNAPI:   DRV: rknnrt: 2.3.2 (429f97ae6b@2025-04-09T09:09:27)\u001b[0m\n",
      "D RKNNAPI: ==============================================\u001b[0m\n",
      "D RKNNAPI: Input tensors:\u001b[0m\n",
      "D RKNNAPI:   index=0, name=input, n_dims=4, dims=[1, 512, 512, 7], n_elems=1835008, size=1835008, w_stride = 0, size_with_stride = 0, fmt=NHWC, type=INT8, qnt_type=AFFINE, zp=0, scale=7.843137\u001b[0m\n",
      "D RKNNAPI: Output tensors:\u001b[0m\n",
      "D RKNNAPI:   index=0, name=output, n_dims=4, dims=[1, 1, 512, 512], n_elems=262144, size=262144, w_stride = 0, size_with_stride = 0, fmt=NCHW, type=INT8, qnt_type=AFFINE, zp=-128, scale=0.003922\u001b[0m\n",
      "done\n",
      "Model-optimization/models/seg_model.rknn is rknn model, starting val\n",
      "--> Eval perf\n",
      "CPU Current Frequency List:\n",
      "    - 1800000\n",
      "    - 2256000\n",
      "    - 2304000\n",
      "NPU Current Frequency List:\n",
      "    - 1000000000\n",
      "DDR Current Frequency List:\n",
      "    - 1560000000\n",
      "\n",
      "\u001b[1;33mWarning: The performance result is just for debugging, may worse than actual performance!\u001b[0m\n",
      "------------------------------------------------------------------------------------------------------------------------------------------------------------------------------------------------------------------------------\n",
      "                                                                          Network Layer Information Table                                                                                \n",
      "------------------------------------------------------------------------------------------------------------------------------------------------------------------------------------------------------------------------------\n",
      "ID   OpType             DataType Target InputShape                               OutputShape            Cycles(DDR/NPU/Total)    Time(us)     MacUsage(%)          WorkLoad(0/1/2)      RW(KB)       FullName        \n",
      "------------------------------------------------------------------------------------------------------------------------------------------------------------------------------------------------------------------------------\n",
      "1    InputOperator      INT8     CPU    \\                                        (1,7,512,512)          0/0/0                    5                                 0.0%/0.0%/0.0%       0            InputOperator:input\n",
      "2    BatchNormalization INT8     NPU    (1,7,512,512),(7),(7),(7),(7)            (1,7,512,512)          0/0/0                    785                               100.0%/0.0%/0.0%     4096         BatchNormalization:/input_batchnorm/BatchNormalization\n",
      "3    ConvRelu           INT8     NPU    (1,7,512,512),(16,7,3,3),(16)            (1,16,512,512)         480264/2359296/2359296   2716         9.50/0.00/0.00       100.0%/0.0%/0.0%     4098         Conv:/unet/down_path.0/block/block.0/Conv\n",
      "4    BatchNormalization INT8     NPU    (1,16,512,512),(16),(16),(16),(16)       (1,16,512,512)         0/0/0                    730                               100.0%/0.0%/0.0%     4096         BatchNormalization:/unet/down_path.0/block/block.2/BatchNormalization\n",
      "5    ConvRelu           INT8     NPU    (1,16,512,512),(16,16,3,3),(16)          (1,16,512,512)         480264/2359296/2359296   2715         21.72/0.00/0.00      100.0%/0.0%/0.0%     4098         Conv:/unet/down_path.0/block/block.3/Conv\n",
      "6    BatchNormalization INT8     NPU    (1,16,512,512),(16),(16),(16),(16)       (1,16,512,512)         0/0/0                    772                               100.0%/0.0%/0.0%     4096         BatchNormalization:/unet/down_path.0/block/block.5/BatchNormalization\n",
      "7    AveragePool        INT8     NPU    (1,16,512,512)                           (1,16,256,256)         0/0/0                    1075                              100.0%/0.0%/0.0%     4096         AveragePool:/unet/AveragePool\n",
      "8    ConvRelu           INT8     NPU    (1,16,256,256),(32,16,3,3),(32)          (1,32,256,256)         180323/589824/589824     674          43.76/0.00/0.00      100.0%/0.0%/0.0%     1028         Conv:/unet/down_path.1/block/block.0/Conv\n",
      "9    BatchNormalization INT8     NPU    (1,32,256,256),(32),(32),(32),(32)       (1,32,256,256)         0/0/0                    417                               100.0%/0.0%/0.0%     2048         BatchNormalization:/unet/down_path.1/block/block.2/BatchNormalization\n",
      "10   ConvRelu           INT8     NPU    (1,32,256,256),(32,32,3,3),(32)          (1,32,256,256)         240601/589824/589824     793          74.38/0.00/0.00      100.0%/0.0%/0.0%     2057         Conv:/unet/down_path.1/block/block.3/Conv\n",
      "11   BatchNormalization INT8     NPU    (1,32,256,256),(32),(32),(32),(32)       (1,32,256,256)         0/0/0                    373                               100.0%/0.0%/0.0%     2048         BatchNormalization:/unet/down_path.1/block/block.5/BatchNormalization\n",
      "12   AveragePool        INT8     NPU    (1,32,256,256)                           (1,32,128,128)         0/0/0                    584                               100.0%/0.0%/0.0%     2048         AveragePool:/unet/AveragePool_1\n",
      "13   ConvRelu           INT8     NPU    (1,32,128,128),(64,32,3,3),(64)          (1,64,128,128)         91107/294912/294912      385          76.60/0.00/0.00      100.0%/0.0%/0.0%     530          Conv:/unet/down_path.2/block/block.0/Conv\n",
      "14   BatchNormalization INT8     NPU    (1,64,128,128),(64),(64),(64),(64)       (1,64,128,128)         0/0/0                    191                               100.0%/0.0%/0.0%     1024         BatchNormalization:/unet/down_path.2/block/block.2/BatchNormalization\n",
      "15   ConvRelu           INT8     NPU    (1,64,128,128),(64,64,3,3),(64)          (1,64,128,128)         122169/589824/589824     657          89.78/0.00/0.00      100.0%/0.0%/0.0%     1060         Conv:/unet/down_path.2/block/block.3/Conv\n",
      "16   BatchNormalization INT8     NPU    (1,64,128,128),(64),(64),(64),(64)       (1,64,128,128)         0/0/0                    192                               100.0%/0.0%/0.0%     1024         BatchNormalization:/unet/down_path.2/block/block.5/BatchNormalization\n",
      "17   ConvTranspose      INT8     NPU    (1,64,128,128),(64,32,2,2),(32)          (1,32,256,256)         180528/524288/524288     609          86.09/0.00/0.00      100.0%/0.0%/0.0%     1032         ConvTranspose:/unet/up_path.0/up/ConvTranspose\n",
      "18   Concat             INT8     NPU    (1,32,256,256),(1,32,256,256)            (1,64,256,256)         0/0/0                    716                               100.0%/0.0%/0.0%     4096         Concat:/unet/up_path.0/Concat\n",
      "19   ConvRelu           INT8     NPU    (1,64,256,256),(32,64,3,3),(32)          (1,32,256,256)         361158/1179648/1179648   1513         77.97/0.00/0.00      100.0%/0.0%/0.0%     4114         Conv:/unet/up_path.0/conv_block/block/block.0/Conv\n",
      "20   BatchNormalization INT8     NPU    (1,32,256,256),(32),(32),(32),(32)       (1,32,256,256)         0/0/0                    414                               100.0%/0.0%/0.0%     2048         BatchNormalization:/unet/up_path.0/conv_block/block/block.2/BatchNormalization\n",
      "21   ConvRelu           INT8     NPU    (1,32,256,256),(32,32,3,3),(32)          (1,32,256,256)         240601/589824/589824     754          78.23/0.00/0.00      100.0%/0.0%/0.0%     2057         Conv:/unet/up_path.0/conv_block/block/block.3/Conv\n",
      "22   BatchNormalization INT8     NPU    (1,32,256,256),(32),(32),(32),(32)       (1,32,256,256)         0/0/0                    373                               100.0%/0.0%/0.0%     2048         BatchNormalization:/unet/up_path.0/conv_block/block/block.5/BatchNormalization\n",
      "23   ConvTranspose      INT8     NPU    (1,32,256,256),(32,16,2,2),(16)          (1,16,512,512)         360220/1048576/1048576   1456         36.01/0.00/0.00      100.0%/0.0%/0.0%     2050         ConvTranspose:/unet/up_path.1/up/ConvTranspose\n",
      "24   Concat             INT8     NPU    (1,16,512,512),(1,16,512,512)            (1,32,512,512)         0/0/0                    1475                              100.0%/0.0%/0.0%     8192         Concat:/unet/up_path.1/Concat\n",
      "25   ConvRelu           INT8     NPU    (1,32,512,512),(16,32,3,3),(16)          (1,16,512,512)         720455/2359296/2359296   3117         37.85/0.00/0.00      100.0%/0.0%/0.0%     8196         Conv:/unet/up_path.1/conv_block/block/block.0/Conv\n",
      "26   BatchNormalization INT8     NPU    (1,16,512,512),(16),(16),(16),(16)       (1,16,512,512)         0/0/0                    731                               100.0%/0.0%/0.0%     4096         BatchNormalization:/unet/up_path.1/conv_block/block/block.2/BatchNormalization\n",
      "27   ConvRelu           INT8     NPU    (1,16,512,512),(16,16,3,3),(16)          (1,16,512,512)         480264/2359296/2359296   2717         21.71/0.00/0.00      100.0%/0.0%/0.0%     4098         Conv:/unet/up_path.1/conv_block/block/block.3/Conv\n",
      "28   ConvSigmoid        INT8     NPU    (1,16,512,512),(1,16,1,1),(1)            (1,1,512,512)          720185/1048576/1048576   4469         0.09/0.00/0.00       100.0%/0.0%/0.0%     4096         Conv:/unet/last/Conv\n",
      "29   OutputOperator     INT8     CPU    (1,1,512,512)                            \\                      0/0/0                    128                               0.0%/0.0%/0.0%       8192         OutputOperator:output\n",
      "------------------------------------------------------------------------------------------------------------------------------------------------------------------------------------------------------------------------------\n",
      "Total Operator Elapsed Per Frame Time(us): 31536\n",
      "Total Memory Read/Write Per Frame Size(KB): 91771.05\n",
      "------------------------------------------------------------------------------------------------------------------------------------------------------------------------------------------------------------------------------\n",
      "---------------------------------------------------------------------------------------------------\n",
      "                                 Operator Time Consuming Ranking Table            \n",
      "---------------------------------------------------------------------------------------------------\n",
      "OpType             CallNumber   CPUTime(us)  GPUTime(us)  NPUTime(us)  TotalTime(us)  TimeRatio(%)  \n",
      "---------------------------------------------------------------------------------------------------\n",
      "ConvRelu           10           0            0            16041        16041          50.87%        \n",
      "BatchNormalization 10           0            0            4978         4978           15.79%        \n",
      "ConvSigmoid        1            0            0            4469         4469           14.17%        \n",
      "Concat             2            0            0            2191         2191           6.95%         \n",
      "ConvTranspose      2            0            0            2065         2065           6.55%         \n",
      "AveragePool        2            0            0            1659         1659           5.26%         \n",
      "OutputOperator     1            128          0            0            128            0.41%         \n",
      "InputOperator      1            5            0            0            5              0.02%         \n",
      "---------------------------------------------------------------------------------------------------\n",
      "Total                           133          0            31403        31536         \n",
      "---------------------------------------------------------------------------------------------------\n",
      "\n",
      "--> Eval memory\n",
      "======================================================\n",
      "            Memory Profile Info Dump                  \n",
      "======================================================\n",
      "NPU model memory detail(bytes):\n",
      "    Weight Memory: 125.44 KiB\n",
      "    Internal Tensor Memory: 24.00 MiB\n",
      "    Other Memory: 386.56 KiB\n",
      "    Total Memory: 24.50 MiB\n",
      "\n",
      "INFO: When evaluating memory usage, we need consider  \n",
      "the size of model, current model size is: 561.83 KiB       \n",
      "======================================================\n",
      "\n"
     ]
    }
   ],
   "source": [
    "# 评估性能和内存\n",
    "eval_perf_mem_on_rk3588(\"optimization/models/seg_model.rknn\")"
   ]
  },
  {
   "cell_type": "code",
   "execution_count": 24,
   "id": "c72b1392-db39-4908-9272-89eac2073326",
   "metadata": {},
   "outputs": [
    {
     "name": "stderr",
     "output_type": "stream",
     "text": [
      "I rknn-toolkit2 version: 2.3.2\n"
     ]
    },
    {
     "name": "stdout",
     "output_type": "stream",
     "text": [
      "--> Init runtime environment\n"
     ]
    },
    {
     "name": "stderr",
     "output_type": "stream",
     "text": [
      "adb: unable to connect for root: closed\n",
      "I target set by user is: rk3588\n",
      "I Get hardware info: target_platform = rk3588, os = Linux, aarch = aarch64\n",
      "I Check RK3588 board npu runtime version\n",
      "I Starting ntp or adb, target is RK3588\n",
      "I Start adb...\n",
      "I Connect to Device success!\n"
     ]
    },
    {
     "name": "stdout",
     "output_type": "stream",
     "text": [
      "I NPUTransfer(191535): Starting NPU Transfer Client, Transfer version 2.2.2 (12abf2a@2024-09-02T03:22:41)\n",
      "I NPUTransfer(191535): TransferBuffer: min aligned size: 1024\n",
      "D RKNNAPI: ==============================================\u001b[0m\n",
      "D RKNNAPI: RKNN VERSION:\u001b[0m\n",
      "D RKNNAPI:   API: 2.3.2 (1842325 build@2025-03-30T09:55:23)\u001b[0m\n",
      "D RKNNAPI:   DRV: rknn_server: 2.3.2 (1842325 build@2025-03-30T09:54:34)\u001b[0m\n",
      "D RKNNAPI:   DRV: rknnrt: 2.3.2 (429f97ae6b@2025-04-09T09:09:27)\u001b[0m\n",
      "D RKNNAPI: ==============================================\u001b[0m\n"
     ]
    },
    {
     "name": "stderr",
     "output_type": "stream",
     "text": [
      "2025-06-01 16:33:19,115 INFO     pid:191535 app.infer.eval_seg:209:eval 1122 batches of size 1*1\n"
     ]
    },
    {
     "name": "stdout",
     "output_type": "stream",
     "text": [
      "D RKNNAPI: Input tensors:\u001b[0m\n",
      "done\n",
      "Model-optimization/models/seg_model.rknn is rknn model, starting val\n",
      "D RKNNAPI:   index=0, name=input, n_dims=4, dims=[1, 512, 512, 7], n_elems=1835008, size=1835008, w_stride = 0, size_with_stride = 0, fmt=NHWC, type=INT8, qnt_type=AFFINE, zp=0, scale=7.843137\u001b[0m\n",
      "D RKNNAPI: Output tensors:\u001b[0m\n",
      "D RKNNAPI:   index=0, name=output, n_dims=4, dims=[1, 1, 512, 512], n_elems=262144, size=262144, w_stride = 0, size_with_stride = 0, fmt=NCHW, type=INT8, qnt_type=AFFINE, zp=-128, scale=0.003922\u001b[0m\n"
     ]
    },
    {
     "data": {
      "application/vnd.jupyter.widget-view+json": {
       "model_id": "f895dbff37c8420d8780727bd51da7f9",
       "version_major": 2,
       "version_minor": 0
      },
      "text/plain": [
       "eval:   0%|          | 0/1122 [00:00<?, ?it/s]"
      ]
     },
     "metadata": {},
     "output_type": "display_data"
    },
    {
     "name": "stderr",
     "output_type": "stream",
     "text": [
      "2025-06-01 16:49:04,209 INFO     pid:191535 app.infer.eval_seg:308:logMetrics E0 SegmentationTestingApp\n",
      "2025-06-01 16:49:04,210 INFO     pid:191535 app.infer.eval_seg:338:logMetrics E0 val      0.9072 loss, 0.0383 precision, 0.7957 recall, 0.0730 f1 score\n",
      "2025-06-01 16:49:04,211 INFO     pid:191535 app.infer.eval_seg:348:logMetrics E0 val_all  0.9072 loss,  79.6% tp,  20.4% fn,    2000.2% fp\n"
     ]
    },
    {
     "data": {
      "text/plain": [
       "{'loss/all': 0.90717745,\n",
       " 'percent_all/tp': 79.57273721694946,\n",
       " 'percent_all/fn': 20.427265763282776,\n",
       " 'percent_all/fp': 2000.1733779907227,\n",
       " 'pr/precision': 0.038260795,\n",
       " 'pr/recall': 0.7957274,\n",
       " 'pr/f1_score': 0.07301101522298456}"
      ]
     },
     "execution_count": 24,
     "metadata": {},
     "output_type": "execute_result"
    }
   ],
   "source": [
    "# 评估召回率\n",
    "evaluate(\"optimization/models/seg_model.rknn\", on_rk3588=True)"
   ]
  },
  {
   "cell_type": "markdown",
   "id": "681d9913-501a-43b4-8a39-ba6c6f9cf996",
   "metadata": {},
   "source": [
    "对比一下量化前后，部署在 NPU 上运行的关键指标\n",
    "\n",
    "||original|quantized (int8)|reduction ratio|accuracy drop|\n",
    "|-|-|-|-|-|\n",
    "|recall|76.7%|79.6%|/|+2.9%|\n",
    "|model size (KiB)|1005.18|561.83|1.79x|/|\n",
    "|latency (us)|49079|31536|1.56x|/|"
   ]
  },
  {
   "cell_type": "markdown",
   "id": "91abb9ef-65bd-4f45-b7dc-7a18292c893f",
   "metadata": {
    "jp-MarkdownHeadingCollapsed": true
   },
   "source": [
    "## U-Net 的剪枝+量化"
   ]
  },
  {
   "cell_type": "markdown",
   "id": "7af1ca12-7bac-43e8-8386-9c8ab15851e5",
   "metadata": {},
   "source": [
    "原模型剪枝（50%）之后，微调可以恢复原有精度。原模型量化之后，也可以维持原有精度。\n",
    "\n",
    "在上述实验背景下，我们尝试结合剪枝和量化两种优化方法，看一下效果。"
   ]
  },
  {
   "cell_type": "code",
   "execution_count": 9,
   "id": "c9c2818b-788c-45c1-9503-a7a03a5742ca",
   "metadata": {},
   "outputs": [
    {
     "name": "stderr",
     "output_type": "stream",
     "text": [
      "2025-06-03 21:49:34,751 INFO     pid:1936418 core.dsets_seg:283:__init__ <core.dsets_seg.TrainingLuna2dSegmentationDataset object at 0x7cb7d47147c0>: 799 training series, 8343 slices, 1028 nodules\n"
     ]
    },
    {
     "data": {
      "application/vnd.jupyter.widget-view+json": {
       "model_id": "fdeb8b4241ec46eebf759f6e878f712b",
       "version_major": 2,
       "version_minor": 0
      },
      "text/plain": [
       "calib-data:   0%|          | 0/103 [00:00<?, ?it/s]"
      ]
     },
     "metadata": {},
     "output_type": "display_data"
    },
    {
     "name": "stderr",
     "output_type": "stream",
     "text": [
      "2025-06-03 21:50:36,873 INFO     pid:1936418 core.dsets_seg:396:save_calibration_set Save calibration dataset completed.\n"
     ]
    }
   ],
   "source": [
    "# 创建量化校正集\n",
    "train_ds = TrainingLuna2dSegmentationDataset(\n",
    "            val_stride=10,\n",
    "            isValSet_bool=False,\n",
    "            contextSlices_count=3,\n",
    "            save_calib=True,\n",
    "            calib_count=100,\n",
    "            calib_dir='./calib_data'\n",
    "        )"
   ]
  },
  {
   "cell_type": "code",
   "execution_count": 10,
   "id": "8a815e46-90d5-446d-aa74-28729988d817",
   "metadata": {},
   "outputs": [],
   "source": [
    "# 导入剪枝后的模型\n",
    "pruned_model = load_prunned_model(\"data/models/seg/seg-prunned-finetuned_2025-06-01_14.40.54_none.500000.state\", channel_pruning_ratio)\n",
    "pruned_model = pruned_model.to('cuda')"
   ]
  },
  {
   "cell_type": "code",
   "execution_count": 11,
   "id": "67dfa8d6-bb4c-433c-b3df-0aa152799ebe",
   "metadata": {
    "scrolled": true
   },
   "outputs": [
    {
     "name": "stdout",
     "output_type": "stream",
     "text": [
      "export to optimization/models/seg_model.onnx\n"
     ]
    },
    {
     "name": "stderr",
     "output_type": "stream",
     "text": [
      "I rknn-toolkit2 version: 2.3.2\n"
     ]
    },
    {
     "name": "stdout",
     "output_type": "stream",
     "text": [
      "--> Config model\n",
      "is model pruning enabled:  False\n",
      "done\n",
      "--> Loading model\n"
     ]
    },
    {
     "name": "stderr",
     "output_type": "stream",
     "text": [
      "I Loading : 100%|███████████████████████████████████████████████| 70/70 [00:00<00:00, 154364.50it/s]\n",
      "\u001b[1;33mW\u001b[0m \u001b[1;33mload_onnx: The config.mean_values is None, zeros will be set for input 0!\u001b[0m\n",
      "\u001b[1;33mW\u001b[0m \u001b[1;33mload_onnx: The config.std_values is None, ones will be set for input 0!\u001b[0m\n"
     ]
    },
    {
     "name": "stdout",
     "output_type": "stream",
     "text": [
      "done\n",
      "--> Building model\n"
     ]
    },
    {
     "name": "stderr",
     "output_type": "stream",
     "text": [
      "I OpFusing 2 : 100%|█████████████████████████████████████████████| 100/100 [00:00<00:00, 397.91it/s]\n"
     ]
    },
    {
     "name": "stdout",
     "output_type": "stream",
     "text": [
      "\n",
      "\n"
     ]
    },
    {
     "name": "stderr",
     "output_type": "stream",
     "text": [
      "I GraphPreparing : 100%|██████████████████████████████████████████| 38/38 [00:00<00:00, 7229.92it/s]\n",
      "I Quantizating 1/4: 100%|███████████████████████████████████████████| 38/38 [00:09<00:00,  4.11it/s]\n",
      "I Quantizating 2/4: 100%|███████████████████████████████████████████| 38/38 [00:09<00:00,  3.90it/s]\n",
      "I Quantizating 3/4: 100%|███████████████████████████████████████████| 38/38 [00:08<00:00,  4.28it/s]\n",
      "I Quantizating 4/4: 100%|███████████████████████████████████████████| 38/38 [00:01<00:00, 27.45it/s]\n",
      "\u001b[1;33mW\u001b[0m \u001b[1;33mbuild: The default input dtype of 'input' is changed from 'float32' to 'int8' in rknn model for performance!\n",
      "                       Please take care of this change when deploy rknn model with Runtime API!\u001b[0m\n",
      "\u001b[1;33mW\u001b[0m \u001b[1;33mbuild: The default output dtype of 'output' is changed from 'float32' to 'int8' in rknn model for performance!\n",
      "                      Please take care of this change when deploy rknn model with Runtime API!\u001b[0m\n",
      "I rknn building ...\n",
      "I rknn building done.\n"
     ]
    },
    {
     "name": "stdout",
     "output_type": "stream",
     "text": [
      "done\n",
      "--> Export rknn model\n",
      "done\n"
     ]
    }
   ],
   "source": [
    "# 导出模型为ONNX格式\n",
    "pruned_model.to(\"cpu\")\n",
    "export_onnx([\"--export-path=optimization/models\",\n",
    "             \"--input-shape\", \"1\", \"7\", \"512\", \"512\", \"--model-type=seg\"],\n",
    "             pruned_model)\n",
    "pruned_model = pruned_model.to(\"cuda\")\n",
    "\n",
    "# 将 ONNX 转换成 RKNN，同时启用 INT8 + Normal 量化\n",
    "convert_main([\"--import-path=optimization/models/seg_model.onnx\",\n",
    "              \"--export-path=optimization/models\",\n",
    "              \"--model-type=seg\",\n",
    "              \"--platform=rk3588\",\n",
    "              \"--dtype=i8\",\n",
    "              \"--quantized-algorithm=normal\"\n",
    "              #\"--accuracy-analysis\"\n",
    "             ])"
   ]
  },
  {
   "cell_type": "code",
   "execution_count": 12,
   "id": "1b65dfed-6e92-45bb-8ced-311d80f3f7be",
   "metadata": {
    "scrolled": true
   },
   "outputs": [
    {
     "name": "stderr",
     "output_type": "stream",
     "text": [
      "I rknn-toolkit2 version: 2.3.2\n",
      "adb: unable to connect for root: closed\n",
      "I target set by user is: rk3588\n"
     ]
    },
    {
     "name": "stdout",
     "output_type": "stream",
     "text": [
      "--> Init runtime environment\n"
     ]
    },
    {
     "name": "stderr",
     "output_type": "stream",
     "text": [
      "I Get hardware info: target_platform = rk3588, os = Linux, aarch = aarch64\n",
      "I Check RK3588 board npu runtime version\n",
      "I Starting ntp or adb, target is RK3588\n",
      "I Start adb...\n",
      "I Connect to Device success!\n",
      "I Flag perf_debug has been set, it will affect the performance of inference!\n",
      "I Flag eval_mem has been set, it will affect the performance of inference!\n"
     ]
    },
    {
     "name": "stdout",
     "output_type": "stream",
     "text": [
      "I NPUTransfer(1936418): Starting NPU Transfer Client, Transfer version 2.2.2 (12abf2a@2024-09-02T03:22:41)\n",
      "I NPUTransfer(1936418): TransferBuffer: min aligned size: 1024\n",
      "D RKNNAPI: ==============================================\u001b[0m\n",
      "D RKNNAPI: RKNN VERSION:\u001b[0m\n",
      "D RKNNAPI:   API: 2.3.2 (1842325 build@2025-03-30T09:55:23)\u001b[0m\n",
      "D RKNNAPI:   DRV: rknn_server: 2.3.2 (1842325 build@2025-03-30T09:54:34)\u001b[0m\n",
      "D RKNNAPI:   DRV: rknnrt: 2.3.2 (429f97ae6b@2025-04-09T09:09:27)\u001b[0m\n",
      "D RKNNAPI: ==============================================\u001b[0m\n",
      "D RKNNAPI: Input tensors:\u001b[0m\n",
      "D RKNNAPI:   index=0, name=input, n_dims=4, dims=[1, 512, 512, 7], n_elems=1835008, size=1835008, w_stride = 0, size_with_stride = 0, fmt=NHWC, type=INT8, qnt_type=AFFINE, zp=0, scale=7.843137\u001b[0m\n",
      "D RKNNAPI: Output tensors:\u001b[0m\n",
      "D RKNNAPI:   index=0, name=output, n_dims=4, dims=[1, 1, 512, 512], n_elems=262144, size=262144, w_stride = 0, size_with_stride = 0, fmt=NCHW, type=INT8, qnt_type=AFFINE, zp=-128, scale=0.003922\u001b[0m\n",
      "done\n",
      "Model-optimization/models/seg_model.rknn is rknn model, starting val\n",
      "--> Eval perf\n",
      "CPU Current Frequency List:\n",
      "    - 1800000\n",
      "    - 2256000\n",
      "    - 2304000\n",
      "NPU Current Frequency List:\n",
      "    - 1000000000\n",
      "DDR Current Frequency List:\n",
      "    - 1560000000\n",
      "\n",
      "\u001b[1;33mWarning: The performance result is just for debugging, may worse than actual performance!\u001b[0m\n",
      "------------------------------------------------------------------------------------------------------------------------------------------------------------------------------------------------------------------------------\n",
      "                                                                          Network Layer Information Table                                                                                \n",
      "------------------------------------------------------------------------------------------------------------------------------------------------------------------------------------------------------------------------------\n",
      "ID   OpType             DataType Target InputShape                               OutputShape            Cycles(DDR/NPU/Total)    Time(us)     MacUsage(%)          WorkLoad(0/1/2)      RW(KB)       FullName        \n",
      "------------------------------------------------------------------------------------------------------------------------------------------------------------------------------------------------------------------------------\n",
      "1    InputOperator      INT8     CPU    \\                                        (1,7,512,512)          0/0/0                    4                                 0.0%/0.0%/0.0%       0            InputOperator:input\n",
      "2    BatchNormalization INT8     NPU    (1,7,512,512),(7),(7),(7),(7)            (1,7,512,512)          0/0/0                    802                               100.0%/0.0%/0.0%     4096         BatchNormalization:/input_batchnorm/BatchNormalization\n",
      "3    ConvRelu           INT8     NPU    (1,7,512,512),(8,7,3,3),(8)              (1,8,512,512)          480198/2359296/2359296   2717         4.75/0.00/0.00       100.0%/0.0%/0.0%     4097         Conv:/unet/down_path.0/block/block.0/Conv\n",
      "4    BatchNormalization INT8     NPU    (1,8,512,512),(8),(8),(8),(8)            (1,8,512,512)          0/0/0                    791                               100.0%/0.0%/0.0%     4096         BatchNormalization:/unet/down_path.0/block/block.2/BatchNormalization\n",
      "5    ConvRelu           INT8     NPU    (1,8,512,512),(8,8,3,3),(8)              (1,8,512,512)          480198/2359296/2359296   2717         5.43/0.00/0.00       100.0%/0.0%/0.0%     4097         Conv:/unet/down_path.0/block/block.3/Conv\n",
      "6    BatchNormalization INT8     NPU    (1,8,512,512),(8),(8),(8),(8)            (1,8,512,512)          0/0/0                    810                               100.0%/0.0%/0.0%     4096         BatchNormalization:/unet/down_path.0/block/block.5/BatchNormalization\n",
      "7    AveragePool        INT8     NPU    (1,8,512,512)                            (1,8,256,256)          0/0/0                    1119                              100.0%/0.0%/0.0%     4096         AveragePool:/unet/AveragePool\n",
      "8    ConvRelu           INT8     NPU    (1,8,256,256),(16,8,3,3),(16)            (1,16,256,256)         120176/589824/589824     673          10.96/0.00/0.00      100.0%/0.0%/0.0%     1026         Conv:/unet/down_path.1/block/block.0/Conv\n",
      "9    BatchNormalization INT8     NPU    (1,16,256,256),(16),(16),(16),(16)       (1,16,256,256)         0/0/0                    215                               100.0%/0.0%/0.0%     1024         BatchNormalization:/unet/down_path.1/block/block.2/BatchNormalization\n",
      "10   ConvRelu           INT8     NPU    (1,16,256,256),(16,16,3,3),(16)          (1,16,256,256)         120176/589824/589824     674          21.88/0.00/0.00      100.0%/0.0%/0.0%     1026         Conv:/unet/down_path.1/block/block.3/Conv\n",
      "11   BatchNormalization INT8     NPU    (1,16,256,256),(16),(16),(16),(16)       (1,16,256,256)         0/0/0                    215                               100.0%/0.0%/0.0%     1024         BatchNormalization:/unet/down_path.1/block/block.5/BatchNormalization\n",
      "12   AveragePool        INT8     NPU    (1,16,256,256)                           (1,16,128,128)         0/0/0                    319                               100.0%/0.0%/0.0%     1024         AveragePool:/unet/AveragePool_1\n",
      "13   ConvRelu           INT8     NPU    (1,16,128,128),(32,16,3,3),(32)          (1,32,128,128)         45290/147456/147456      179          41.19/0.00/0.00      100.0%/0.0%/0.0%     260          Conv:/unet/down_path.2/block/block.0/Conv\n",
      "14   BatchNormalization INT8     NPU    (1,32,128,128),(32),(32),(32),(32)       (1,32,128,128)         0/0/0                    113                               100.0%/0.0%/0.0%     512          BatchNormalization:/unet/down_path.2/block/block.2/BatchNormalization\n",
      "15   ConvRelu           INT8     NPU    (1,32,128,128),(32,32,3,3),(32)          (1,32,128,128)         60557/147456/147456      195          75.62/0.00/0.00      100.0%/0.0%/0.0%     521          Conv:/unet/down_path.2/block/block.3/Conv\n",
      "16   BatchNormalization INT8     NPU    (1,32,128,128),(32),(32),(32),(32)       (1,32,128,128)         0/0/0                    104                               100.0%/0.0%/0.0%     512          BatchNormalization:/unet/down_path.2/block/block.5/BatchNormalization\n",
      "17   ConvTranspose      INT8     NPU    (1,32,128,128),(32,16,2,2),(16)          (1,16,256,256)         90154/262144/262144      416          31.51/0.00/0.00      100.0%/0.0%/0.0%     514          ConvTranspose:/unet/up_path.0/up/ConvTranspose\n",
      "18   Concat             INT8     NPU    (1,16,256,256),(1,16,256,256)            (1,32,256,256)         0/0/0                    404                               100.0%/0.0%/0.0%     2048         Concat:/unet/up_path.0/Concat\n",
      "19   ConvRelu           INT8     NPU    (1,32,256,256),(16,32,3,3),(16)          (1,16,256,256)         180323/589824/589824     754          39.11/0.00/0.00      100.0%/0.0%/0.0%     2052         Conv:/unet/up_path.0/conv_block/block/block.0/Conv\n",
      "20   BatchNormalization INT8     NPU    (1,16,256,256),(16),(16),(16),(16)       (1,16,256,256)         0/0/0                    195                               100.0%/0.0%/0.0%     1024         BatchNormalization:/unet/up_path.0/conv_block/block/block.2/BatchNormalization\n",
      "21   ConvRelu           INT8     NPU    (1,16,256,256),(16,16,3,3),(16)          (1,16,256,256)         120176/589824/589824     674          21.88/0.00/0.00      100.0%/0.0%/0.0%     1026         Conv:/unet/up_path.0/conv_block/block/block.3/Conv\n",
      "22   BatchNormalization INT8     NPU    (1,16,256,256),(16),(16),(16),(16)       (1,16,256,256)         0/0/0                    195                               100.0%/0.0%/0.0%     1024         BatchNormalization:/unet/up_path.0/conv_block/block/block.5/BatchNormalization\n",
      "23   ConvTranspose      INT8     NPU    (1,16,256,256),(16,8,2,2),(8)            (1,8,512,512)          300118/1048576/1048576   1378         9.51/0.00/0.00       100.0%/0.0%/0.0%     1024         ConvTranspose:/unet/up_path.1/up/ConvTranspose\n",
      "24   Concat             INT8     NPU    (1,8,512,512),(1,8,512,512),...          (1,16,512,512)         0/0/0                    3424                              100.0%/0.0%/0.0%     8192         Concat:/unet/up_path.1/Concat\n",
      "25   ConvRelu           INT8     NPU    (1,16,512,512),(8,16,3,3),(8)            (1,8,512,512)          480198/2359296/2359296   2717         10.85/0.00/0.00      100.0%/0.0%/0.0%     4097         Conv:/unet/up_path.1/conv_block/block/block.0/Conv\n",
      "26   BatchNormalization INT8     NPU    (1,8,512,512),(8),(8),(8),(8)            (1,8,512,512)          0/0/0                    792                               100.0%/0.0%/0.0%     4096         BatchNormalization:/unet/up_path.1/conv_block/block/block.2/BatchNormalization\n",
      "27   ConvRelu           INT8     NPU    (1,8,512,512),(16,8,3,3),(16)            (1,16,512,512)         480264/2359296/2359296   2681         11.00/0.00/0.00      100.0%/0.0%/0.0%     4098         Conv:/unet/up_path.1/conv_block/block/block.3/Conv\n",
      "28   ConvSigmoid        INT8     NPU    (1,16,512,512),(1,16,1,1),(1)            (1,1,512,512)          720185/1048576/1048576   4470         0.09/0.00/0.00       100.0%/0.0%/0.0%     4096         Conv:/unet/last/Conv\n",
      "29   OutputOperator     INT8     CPU    (1,1,512,512)                            \\                      0/0/0                    124                               0.0%/0.0%/0.0%       8192         OutputOperator:output\n",
      "------------------------------------------------------------------------------------------------------------------------------------------------------------------------------------------------------------------------------\n",
      "Total Operator Elapsed Per Frame Time(us): 29871\n",
      "Total Memory Read/Write Per Frame Size(KB): 72998.39\n",
      "------------------------------------------------------------------------------------------------------------------------------------------------------------------------------------------------------------------------------\n",
      "---------------------------------------------------------------------------------------------------\n",
      "                                 Operator Time Consuming Ranking Table            \n",
      "---------------------------------------------------------------------------------------------------\n",
      "OpType             CallNumber   CPUTime(us)  GPUTime(us)  NPUTime(us)  TotalTime(us)  TimeRatio(%)  \n",
      "---------------------------------------------------------------------------------------------------\n",
      "ConvRelu           10           0            0            13981        13981          46.80%        \n",
      "ConvSigmoid        1            0            0            4470         4470           14.96%        \n",
      "BatchNormalization 10           0            0            4232         4232           14.17%        \n",
      "Concat             2            0            0            3828         3828           12.82%        \n",
      "ConvTranspose      2            0            0            1794         1794           6.01%         \n",
      "AveragePool        2            0            0            1438         1438           4.81%         \n",
      "OutputOperator     1            124          0            0            124            0.42%         \n",
      "InputOperator      1            4            0            0            4              0.01%         \n",
      "---------------------------------------------------------------------------------------------------\n",
      "Total                           128          0            29743        29871         \n",
      "---------------------------------------------------------------------------------------------------\n",
      "\n",
      "--> Eval memory\n",
      "======================================================\n",
      "            Memory Profile Info Dump                  \n",
      "======================================================\n",
      "NPU model memory detail(bytes):\n",
      "    Weight Memory: 40.81 KiB\n",
      "    Internal Tensor Memory: 31.00 MiB\n",
      "    Other Memory: 363.19 KiB\n",
      "    Total Memory: 31.39 MiB\n",
      "\n",
      "INFO: When evaluating memory usage, we need consider  \n",
      "the size of model, current model size is: 453.83 KiB       \n",
      "======================================================\n",
      "\n"
     ]
    }
   ],
   "source": [
    "# 评估性能和内存\n",
    "eval_perf_mem_on_rk3588(\"optimization/models/seg_model.rknn\")"
   ]
  },
  {
   "cell_type": "code",
   "execution_count": 13,
   "id": "d1852400-958a-48db-8609-658520249138",
   "metadata": {
    "scrolled": true
   },
   "outputs": [
    {
     "name": "stderr",
     "output_type": "stream",
     "text": [
      "I rknn-toolkit2 version: 2.3.2\n",
      "adb: unable to connect for root: closed\n",
      "I target set by user is: rk3588\n"
     ]
    },
    {
     "name": "stdout",
     "output_type": "stream",
     "text": [
      "--> Init runtime environment\n"
     ]
    },
    {
     "name": "stderr",
     "output_type": "stream",
     "text": [
      "I Get hardware info: target_platform = rk3588, os = Linux, aarch = aarch64\n",
      "I Check RK3588 board npu runtime version\n",
      "I Starting ntp or adb, target is RK3588\n",
      "I Start adb...\n",
      "I Connect to Device success!\n"
     ]
    },
    {
     "name": "stdout",
     "output_type": "stream",
     "text": [
      "I NPUTransfer(1936418): Starting NPU Transfer Client, Transfer version 2.2.2 (12abf2a@2024-09-02T03:22:41)\n",
      "I NPUTransfer(1936418): TransferBuffer: min aligned size: 1024\n",
      "D RKNNAPI: ==============================================\u001b[0m\n",
      "D RKNNAPI: RKNN VERSION:\u001b[0m\n",
      "D RKNNAPI:   API: 2.3.2 (1842325 build@2025-03-30T09:55:23)\u001b[0m\n",
      "D RKNNAPI:   DRV: rknn_server: 2.3.2 (1842325 build@2025-03-30T09:54:34)\u001b[0m\n",
      "D RKNNAPI:   DRV: rknnrt: 2.3.2 (429f97ae6b@2025-04-09T09:09:27)\u001b[0m\n",
      "D RKNNAPI: ==============================================\u001b[0m\n",
      "D RKNNAPI: Input tensors:\u001b[0m\n",
      "done\n",
      "Model-optimization/models/seg_model.rknn is rknn model, starting val\n",
      "D RKNNAPI:   index=0, name=input, n_dims=4, dims=[1, 512, 512, 7], n_elems=1835008, size=1835008, w_stride = 0, size_with_stride = 0, fmt=NHWC, type=INT8, qnt_type=AFFINE, zp=0, scale=7.843137\u001b[0m\n",
      "D RKNNAPI: Output tensors:\u001b[0m\n",
      "D RKNNAPI:   index=0, name=output, n_dims=4, dims=[1, 1, 512, 512], n_elems=262144, size=262144, w_stride = 0, size_with_stride = 0, fmt=NCHW, type=INT8, qnt_type=AFFINE, zp=-128, scale=0.003922\u001b[0m\n"
     ]
    },
    {
     "name": "stderr",
     "output_type": "stream",
     "text": [
      "2025-06-03 21:51:13,929 INFO     pid:1936418 app.infer.eval_seg:220:eval 1122 batches of size 1*1\n"
     ]
    },
    {
     "data": {
      "application/vnd.jupyter.widget-view+json": {
       "model_id": "2a237c81bd3a461c88413c0cfbc5d31f",
       "version_major": 2,
       "version_minor": 0
      },
      "text/plain": [
       "eval:   0%|          | 0/1122 [00:00<?, ?it/s]"
      ]
     },
     "metadata": {},
     "output_type": "display_data"
    },
    {
     "name": "stderr",
     "output_type": "stream",
     "text": [
      "2025-06-03 22:07:15,276 INFO     pid:1936418 app.infer.eval_seg:319:logMetrics E0 SegmentationTestingApp\n",
      "2025-06-03 22:07:15,277 INFO     pid:1936418 app.infer.eval_seg:349:logMetrics E0 val      0.8190 loss, 0.0804 precision, 0.6952 recall, 0.1442 f1 score\n",
      "2025-06-03 22:07:15,278 INFO     pid:1936418 app.infer.eval_seg:359:logMetrics E0 val_all  0.8190 loss,  69.5% tp,  30.5% fn,     794.6% fp\n"
     ]
    },
    {
     "data": {
      "text/plain": [
       "{'loss/all': 0.8190462,\n",
       " 'percent_all/tp': 69.51629519462585,\n",
       " 'percent_all/fn': 30.483701825141907,\n",
       " 'percent_all/fp': 794.5812225341797,\n",
       " 'pr/precision': 0.080449596,\n",
       " 'pr/recall': 0.69516295,\n",
       " 'pr/f1_score': 0.14421009329482404}"
      ]
     },
     "execution_count": 13,
     "metadata": {},
     "output_type": "execute_result"
    }
   ],
   "source": [
    "# 评估召回率\n",
    "evaluate(\"optimization/models/seg_model.rknn\", on_rk3588=True)"
   ]
  },
  {
   "cell_type": "markdown",
   "id": "82faa218-a1dc-42a3-be3d-b420ecc2307f",
   "metadata": {},
   "source": [
    "可以看到，单独剪枝(微调后)或者量化之后的模型的精度保持得很好，但是**剪枝+量化之后，模型精度下降得厉害**。\n",
    "\n",
    "主要是因为剪枝之后的模型，尽管已经微调恢复了精度，但相比原始模型，缺少冗余，更易受量化误差影响。\n",
    "\n",
    "||original|pruned|quantization|pruned + quantization|\n",
    "|-|-|-|-|-|\n",
    "|recall|76.7%|75.3%|79.6%|69.5%|\n",
    "|accuracy drop|/|**-1.4%**|**+2.9%**|**-7.2%**|\n",
    "|model size (KiB)|1005.18|514.05|561.83|453.83|\n",
    "|reduction ratio|/|**1.96x**|**1.79x**|**2.21x**|\n",
    "|latency (us)|49079|30171|31536|29710|\n",
    "|reduction ratio|/|**1.63x**|**1.56x**|**1.65x**|\n",
    "\n",
    "我们采用 **QAT** 来提供精度。（经实测，将量化算法改为 **MMSE** 之后，也可以提高精度，但是 QAT 的效果更好。）"
   ]
  },
  {
   "cell_type": "code",
   "execution_count": 14,
   "id": "a8790de4-529d-4d70-bd7d-02fd965e9668",
   "metadata": {},
   "outputs": [],
   "source": [
    "# 导入剪枝后的模型\n",
    "pruned_model = load_prunned_model(\"data/models/seg/seg-prunned-finetuned_2025-06-01_14.40.54_none.500000.state\", channel_pruning_ratio)\n",
    "pruned_model = pruned_model.to('cuda')\n",
    "# FX Mode 下的 QAT，将模型转为等待 QAT \n",
    "model_qat = prepare_model_qat_fx(pruned_model)"
   ]
  },
  {
   "cell_type": "code",
   "execution_count": 15,
   "id": "625b4d8e-a679-4d60-9e9f-fd1ca0e5dcee",
   "metadata": {},
   "outputs": [
    {
     "name": "stderr",
     "output_type": "stream",
     "text": [
      "2025-06-03 22:07:16,103 INFO     pid:1936418 app.train.training_seg:165:initModel Using CUDA; 1 devices.\n",
      "2025-06-03 22:07:17,322 INFO     pid:1936418 app.train.training_seg:229:main Starting SegmentationTrainingApp, Namespace(batch_size=16, num_workers=0, epochs=5, augmented=True, augment_flip=False, augment_offset=False, augment_scale=False, augment_rotate=False, augment_noise=False, tb_prefix='seg', comment='none', finetune=True)\n",
      "2025-06-03 22:07:18,513 INFO     pid:1936418 core.dsets_seg:283:__init__ <core.dsets_seg.TrainingLuna2dSegmentationDataset object at 0x7cb6ff051d90>: 799 training series, 8343 slices, 1028 nodules\n",
      "2025-06-03 22:07:18,647 INFO     pid:1936418 core.dsets_seg:283:__init__ <core.dsets_seg.Luna2dSegmentationDataset object at 0x7cb6a47ecac0>: 89 validation series, 1122 slices, 154 nodules\n",
      "2025-06-03 22:07:18,648 INFO     pid:1936418 app.train.training_seg:240:main Epoch 1 of 5, 6250/71 batches of size 16*1\n",
      "2025-06-03 22:07:18,883 WARNING  pid:1936418 util.util:221:enumerateWithEstimate E1 Training ----/6250, starting\n",
      "2025-06-03 22:07:20,896 INFO     pid:1936418 util.util:238:enumerateWithEstimate E1 Training    4/6250, done at 2025-06-03 22:49:13, 0:41:55\n",
      "2025-06-03 22:07:22,968 INFO     pid:1936418 util.util:238:enumerateWithEstimate E1 Training   16/6250, done at 2025-06-03 22:32:20, 0:25:01\n",
      "2025-06-03 22:07:30,612 INFO     pid:1936418 util.util:238:enumerateWithEstimate E1 Training   64/6250, done at 2025-06-03 22:26:06, 0:18:47\n",
      "2025-06-03 22:07:46,421 INFO     pid:1936418 util.util:238:enumerateWithEstimate E1 Training  256/6250, done at 2025-06-03 22:18:28, 0:11:09\n",
      "2025-06-03 22:08:50,473 INFO     pid:1936418 util.util:238:enumerateWithEstimate E1 Training 1024/6250, done at 2025-06-03 22:16:37, 0:09:18\n",
      "2025-06-03 22:13:11,622 INFO     pid:1936418 util.util:238:enumerateWithEstimate E1 Training 4096/6250, done at 2025-06-03 22:16:16, 0:08:58\n",
      "2025-06-03 22:16:19,556 WARNING  pid:1936418 util.util:251:enumerateWithEstimate E1 Training ----/6250, done at 2025-06-03 22:16:19\n",
      "2025-06-03 22:16:19,566 INFO     pid:1936418 app.train.training_seg:427:logMetrics E1 SegmentationTrainingApp\n",
      "2025-06-03 22:16:19,567 INFO     pid:1936418 app.train.training_seg:457:logMetrics E1 trn      0.2130 loss, 0.6689 precision, 0.8817 recall, 0.7607 f1 score\n",
      "2025-06-03 22:16:19,568 INFO     pid:1936418 app.train.training_seg:467:logMetrics E1 trn_all  0.2130 loss,  88.2% tp,  11.8% fn,      43.6% fp\n",
      "2025-06-03 22:16:19,570 WARNING  pid:1936418 util.util:221:enumerateWithEstimate E1 Validation  ----/71, starting\n",
      "2025-06-03 22:16:27,917 INFO     pid:1936418 util.util:238:enumerateWithEstimate E1 Validation     4/71, done at 2025-06-03 22:18:18, 0:01:58\n",
      "2025-06-03 22:16:31,790 INFO     pid:1936418 util.util:238:enumerateWithEstimate E1 Validation     8/71, done at 2025-06-03 22:17:55, 0:01:36\n",
      "2025-06-03 22:16:38,780 INFO     pid:1936418 util.util:238:enumerateWithEstimate E1 Validation    16/71, done at 2025-06-03 22:17:39, 0:01:20\n",
      "2025-06-03 22:16:54,898 INFO     pid:1936418 util.util:238:enumerateWithEstimate E1 Validation    32/71, done at 2025-06-03 22:17:35, 0:01:16\n",
      "2025-06-03 22:17:34,364 INFO     pid:1936418 util.util:238:enumerateWithEstimate E1 Validation    64/71, done at 2025-06-03 22:17:41, 0:01:21\n",
      "2025-06-03 22:17:41,000 WARNING  pid:1936418 util.util:251:enumerateWithEstimate E1 Validation  ----/71, done at 2025-06-03 22:17:41\n",
      "2025-06-03 22:17:41,006 INFO     pid:1936418 app.train.training_seg:427:logMetrics E1 SegmentationTrainingApp\n",
      "2025-06-03 22:17:41,015 INFO     pid:1936418 app.train.training_seg:457:logMetrics E1 val      0.8893 loss, 0.0456 precision, 0.7705 recall, 0.0860 f1 score\n",
      "2025-06-03 22:17:41,016 INFO     pid:1936418 app.train.training_seg:467:logMetrics E1 val_all  0.8893 loss,  77.1% tp,  22.9% fn,    1614.4% fp\n",
      "2025-06-03 22:17:41,147 INFO     pid:1936418 app.train.training_seg:545:saveModel Saved model params to data-unversioned/models/seg/seg-finetuned_2025-06-03_22.07.16_none.100000.state\n",
      "2025-06-03 22:17:41,151 INFO     pid:1936418 app.train.training_seg:557:saveModel SHA1: ad5af67fb9c49a8d800f45cdb8c65c25f1c92112\n",
      "2025-06-03 22:17:41,153 INFO     pid:1936418 app.train.training_seg:240:main Epoch 2 of 5, 6250/71 batches of size 16*1\n",
      "2025-06-03 22:17:41,443 WARNING  pid:1936418 util.util:221:enumerateWithEstimate E2 Training ----/6250, starting\n",
      "2025-06-03 22:17:42,535 INFO     pid:1936418 util.util:238:enumerateWithEstimate E2 Training    4/6250, done at 2025-06-03 22:40:26, 0:22:44\n",
      "2025-06-03 22:17:44,453 INFO     pid:1936418 util.util:238:enumerateWithEstimate E2 Training   16/6250, done at 2025-06-03 22:36:07, 0:18:26\n",
      "2025-06-03 22:17:51,328 INFO     pid:1936418 util.util:238:enumerateWithEstimate E2 Training   64/6250, done at 2025-06-03 22:33:31, 0:15:50\n",
      "2025-06-03 22:18:08,480 INFO     pid:1936418 util.util:238:enumerateWithEstimate E2 Training  256/6250, done at 2025-06-03 22:28:38, 0:10:57\n",
      "2025-06-03 22:19:15,934 INFO     pid:1936418 util.util:238:enumerateWithEstimate E2 Training 1024/6250, done at 2025-06-03 22:27:17, 0:09:36\n",
      "2025-06-03 22:23:47,368 INFO     pid:1936418 util.util:238:enumerateWithEstimate E2 Training 4096/6250, done at 2025-06-03 22:26:59, 0:09:18\n",
      "2025-06-03 22:26:51,712 WARNING  pid:1936418 util.util:251:enumerateWithEstimate E2 Training ----/6250, done at 2025-06-03 22:26:51\n",
      "2025-06-03 22:26:51,718 INFO     pid:1936418 app.train.training_seg:427:logMetrics E2 SegmentationTrainingApp\n",
      "2025-06-03 22:26:51,722 INFO     pid:1936418 app.train.training_seg:457:logMetrics E2 trn      0.2105 loss, 0.6769 precision, 0.8822 recall, 0.7660 f1 score\n",
      "2025-06-03 22:26:51,722 INFO     pid:1936418 app.train.training_seg:467:logMetrics E2 trn_all  0.2105 loss,  88.2% tp,  11.8% fn,      42.1% fp\n",
      "2025-06-03 22:26:51,724 WARNING  pid:1936418 util.util:221:enumerateWithEstimate E2 Validation  ----/71, starting\n",
      "2025-06-03 22:27:00,283 INFO     pid:1936418 util.util:238:enumerateWithEstimate E2 Validation     4/71, done at 2025-06-03 22:28:53, 0:02:01\n",
      "2025-06-03 22:27:04,367 INFO     pid:1936418 util.util:238:enumerateWithEstimate E2 Validation     8/71, done at 2025-06-03 22:28:31, 0:01:39\n",
      "2025-06-03 22:27:11,100 INFO     pid:1936418 util.util:238:enumerateWithEstimate E2 Validation    16/71, done at 2025-06-03 22:28:12, 0:01:20\n",
      "2025-06-03 22:27:28,621 INFO     pid:1936418 util.util:238:enumerateWithEstimate E2 Validation    32/71, done at 2025-06-03 22:28:11, 0:01:19\n",
      "2025-06-03 22:28:07,337 INFO     pid:1936418 util.util:238:enumerateWithEstimate E2 Validation    64/71, done at 2025-06-03 22:28:14, 0:01:22\n",
      "2025-06-03 22:28:14,274 WARNING  pid:1936418 util.util:251:enumerateWithEstimate E2 Validation  ----/71, done at 2025-06-03 22:28:14\n",
      "2025-06-03 22:28:14,280 INFO     pid:1936418 app.train.training_seg:427:logMetrics E2 SegmentationTrainingApp\n",
      "2025-06-03 22:28:14,281 INFO     pid:1936418 app.train.training_seg:457:logMetrics E2 val      0.8420 loss, 0.0662 precision, 0.7438 recall, 0.1215 f1 score\n",
      "2025-06-03 22:28:14,282 INFO     pid:1936418 app.train.training_seg:467:logMetrics E2 val_all  0.8420 loss,  74.4% tp,  25.6% fn,    1050.0% fp\n",
      "2025-06-03 22:28:14,400 INFO     pid:1936418 app.train.training_seg:545:saveModel Saved model params to data-unversioned/models/seg/seg-finetuned_2025-06-03_22.07.16_none.200000.state\n",
      "2025-06-03 22:28:14,404 INFO     pid:1936418 app.train.training_seg:557:saveModel SHA1: e6353b202e6d163458cc05cefd080015d1708821\n",
      "2025-06-03 22:28:14,405 INFO     pid:1936418 app.train.training_seg:240:main Epoch 3 of 5, 6250/71 batches of size 16*1\n",
      "2025-06-03 22:28:14,676 WARNING  pid:1936418 util.util:221:enumerateWithEstimate E3 Training ----/6250, starting\n",
      "2025-06-03 22:28:15,690 INFO     pid:1936418 util.util:238:enumerateWithEstimate E3 Training    4/6250, done at 2025-06-03 22:49:21, 0:21:06\n",
      "2025-06-03 22:28:17,475 INFO     pid:1936418 util.util:238:enumerateWithEstimate E3 Training   16/6250, done at 2025-06-03 22:45:23, 0:17:08\n",
      "2025-06-03 22:28:24,590 INFO     pid:1936418 util.util:238:enumerateWithEstimate E3 Training   64/6250, done at 2025-06-03 22:44:07, 0:15:53\n",
      "2025-06-03 22:28:43,115 INFO     pid:1936418 util.util:238:enumerateWithEstimate E3 Training  256/6250, done at 2025-06-03 22:39:46, 0:11:31\n",
      "2025-06-03 22:29:57,291 INFO     pid:1936418 util.util:238:enumerateWithEstimate E3 Training 1024/6250, done at 2025-06-03 22:38:40, 0:10:25\n",
      "2025-06-03 22:34:38,632 INFO     pid:1936418 util.util:238:enumerateWithEstimate E3 Training 4096/6250, done at 2025-06-03 22:38:00, 0:09:45\n",
      "2025-06-03 22:37:41,399 WARNING  pid:1936418 util.util:251:enumerateWithEstimate E3 Training ----/6250, done at 2025-06-03 22:37:41\n",
      "2025-06-03 22:37:41,406 INFO     pid:1936418 app.train.training_seg:427:logMetrics E3 SegmentationTrainingApp\n",
      "2025-06-03 22:37:41,408 INFO     pid:1936418 app.train.training_seg:457:logMetrics E3 trn      0.2071 loss, 0.6794 precision, 0.8845 recall, 0.7685 f1 score\n",
      "2025-06-03 22:37:41,409 INFO     pid:1936418 app.train.training_seg:467:logMetrics E3 trn_all  0.2071 loss,  88.5% tp,  11.5% fn,      41.7% fp\n",
      "2025-06-03 22:37:41,410 WARNING  pid:1936418 util.util:221:enumerateWithEstimate E3 Validation  ----/71, starting\n",
      "2025-06-03 22:37:48,681 INFO     pid:1936418 util.util:238:enumerateWithEstimate E3 Validation     4/71, done at 2025-06-03 22:39:24, 0:01:43\n",
      "2025-06-03 22:37:52,678 INFO     pid:1936418 util.util:238:enumerateWithEstimate E3 Validation     8/71, done at 2025-06-03 22:39:10, 0:01:28\n",
      "2025-06-03 22:37:58,513 INFO     pid:1936418 util.util:238:enumerateWithEstimate E3 Validation    16/71, done at 2025-06-03 22:38:52, 0:01:11\n",
      "2025-06-03 22:38:11,907 INFO     pid:1936418 util.util:238:enumerateWithEstimate E3 Validation    32/71, done at 2025-06-03 22:38:47, 0:01:05\n",
      "2025-06-03 22:38:39,067 INFO     pid:1936418 util.util:238:enumerateWithEstimate E3 Validation    64/71, done at 2025-06-03 22:38:44, 0:01:02\n",
      "2025-06-03 22:38:43,989 WARNING  pid:1936418 util.util:251:enumerateWithEstimate E3 Validation  ----/71, done at 2025-06-03 22:38:43\n",
      "2025-06-03 22:38:43,990 INFO     pid:1936418 app.train.training_seg:427:logMetrics E3 SegmentationTrainingApp\n",
      "2025-06-03 22:38:43,991 INFO     pid:1936418 app.train.training_seg:457:logMetrics E3 val      0.9106 loss, 0.0385 precision, 0.8008 recall, 0.0734 f1 score\n",
      "2025-06-03 22:38:43,992 INFO     pid:1936418 app.train.training_seg:467:logMetrics E3 val_all  0.9106 loss,  80.1% tp,  19.9% fn,    2001.3% fp\n",
      "2025-06-03 22:38:44,105 INFO     pid:1936418 app.train.training_seg:545:saveModel Saved model params to data-unversioned/models/seg/seg-finetuned_2025-06-03_22.07.16_none.300000.state\n",
      "2025-06-03 22:38:44,107 INFO     pid:1936418 app.train.training_seg:557:saveModel SHA1: 9dcdccd40db5309491de965e99505a2fc0f81a67\n",
      "2025-06-03 22:38:44,108 INFO     pid:1936418 app.train.training_seg:240:main Epoch 4 of 5, 6250/71 batches of size 16*1\n",
      "2025-06-03 22:38:44,386 WARNING  pid:1936418 util.util:221:enumerateWithEstimate E4 Training ----/6250, starting\n",
      "2025-06-03 22:38:44,855 INFO     pid:1936418 util.util:238:enumerateWithEstimate E4 Training    4/6250, done at 2025-06-03 22:48:29, 0:09:45\n",
      "2025-06-03 22:38:45,971 INFO     pid:1936418 util.util:238:enumerateWithEstimate E4 Training   16/6250, done at 2025-06-03 22:48:26, 0:09:42\n",
      "2025-06-03 22:38:50,618 INFO     pid:1936418 util.util:238:enumerateWithEstimate E4 Training   64/6250, done at 2025-06-03 22:48:43, 0:09:59\n",
      "2025-06-03 22:39:07,137 INFO     pid:1936418 util.util:238:enumerateWithEstimate E4 Training  256/6250, done at 2025-06-03 22:47:57, 0:09:13\n",
      "2025-06-03 22:40:12,278 INFO     pid:1936418 util.util:238:enumerateWithEstimate E4 Training 1024/6250, done at 2025-06-03 22:47:40, 0:08:55\n",
      "2025-06-03 22:44:37,827 INFO     pid:1936418 util.util:238:enumerateWithEstimate E4 Training 4096/6250, done at 2025-06-03 22:47:43, 0:08:59\n",
      "2025-06-03 22:47:39,920 WARNING  pid:1936418 util.util:251:enumerateWithEstimate E4 Training ----/6250, done at 2025-06-03 22:47:39\n",
      "2025-06-03 22:47:39,927 INFO     pid:1936418 app.train.training_seg:427:logMetrics E4 SegmentationTrainingApp\n",
      "2025-06-03 22:47:39,929 INFO     pid:1936418 app.train.training_seg:457:logMetrics E4 trn      0.2052 loss, 0.6813 precision, 0.8873 recall, 0.7708 f1 score\n",
      "2025-06-03 22:47:39,930 INFO     pid:1936418 app.train.training_seg:467:logMetrics E4 trn_all  0.2052 loss,  88.7% tp,  11.3% fn,      41.5% fp\n",
      "2025-06-03 22:47:39,931 WARNING  pid:1936418 util.util:221:enumerateWithEstimate E4 Validation  ----/71, starting\n",
      "2025-06-03 22:47:45,455 INFO     pid:1936418 util.util:238:enumerateWithEstimate E4 Validation     4/71, done at 2025-06-03 22:48:58, 0:01:18\n",
      "2025-06-03 22:47:49,112 INFO     pid:1936418 util.util:238:enumerateWithEstimate E4 Validation     8/71, done at 2025-06-03 22:48:52, 0:01:12\n",
      "2025-06-03 22:47:54,622 INFO     pid:1936418 util.util:238:enumerateWithEstimate E4 Validation    16/71, done at 2025-06-03 22:48:41, 0:01:01\n",
      "2025-06-03 22:48:06,970 INFO     pid:1936418 util.util:238:enumerateWithEstimate E4 Validation    32/71, done at 2025-06-03 22:48:38, 0:00:58\n",
      "2025-06-03 22:48:37,364 INFO     pid:1936418 util.util:238:enumerateWithEstimate E4 Validation    64/71, done at 2025-06-03 22:48:42, 0:01:02\n",
      "2025-06-03 22:48:42,732 WARNING  pid:1936418 util.util:251:enumerateWithEstimate E4 Validation  ----/71, done at 2025-06-03 22:48:42\n",
      "2025-06-03 22:48:42,738 INFO     pid:1936418 app.train.training_seg:427:logMetrics E4 SegmentationTrainingApp\n",
      "2025-06-03 22:48:42,739 INFO     pid:1936418 app.train.training_seg:457:logMetrics E4 val      0.8872 loss, 0.0503 precision, 0.7521 recall, 0.0943 f1 score\n",
      "2025-06-03 22:48:42,740 INFO     pid:1936418 app.train.training_seg:467:logMetrics E4 val_all  0.8872 loss,  75.2% tp,  24.8% fn,    1419.7% fp\n",
      "2025-06-03 22:48:42,878 INFO     pid:1936418 app.train.training_seg:545:saveModel Saved model params to data-unversioned/models/seg/seg-finetuned_2025-06-03_22.07.16_none.400000.state\n",
      "2025-06-03 22:48:42,881 INFO     pid:1936418 app.train.training_seg:557:saveModel SHA1: 67071ab00d3e7bb3ba0a764effee2dcee9b7d0a7\n",
      "2025-06-03 22:48:42,883 INFO     pid:1936418 app.train.training_seg:240:main Epoch 5 of 5, 6250/71 batches of size 16*1\n",
      "2025-06-03 22:48:43,150 WARNING  pid:1936418 util.util:221:enumerateWithEstimate E5 Training ----/6250, starting\n",
      "2025-06-03 22:48:43,900 INFO     pid:1936418 util.util:238:enumerateWithEstimate E5 Training    4/6250, done at 2025-06-03 23:04:20, 0:15:36\n",
      "2025-06-03 22:48:45,156 INFO     pid:1936418 util.util:238:enumerateWithEstimate E5 Training   16/6250, done at 2025-06-03 23:01:00, 0:12:17\n",
      "2025-06-03 22:48:49,910 INFO     pid:1936418 util.util:238:enumerateWithEstimate E5 Training   64/6250, done at 2025-06-03 22:59:33, 0:10:49\n",
      "2025-06-03 22:49:05,679 INFO     pid:1936418 util.util:238:enumerateWithEstimate E5 Training  256/6250, done at 2025-06-03 22:57:51, 0:09:07\n",
      "2025-06-03 22:50:08,931 INFO     pid:1936418 util.util:238:enumerateWithEstimate E5 Training 1024/6250, done at 2025-06-03 22:57:26, 0:08:43\n",
      "2025-06-03 22:54:26,404 INFO     pid:1936418 util.util:238:enumerateWithEstimate E5 Training 4096/6250, done at 2025-06-03 22:57:26, 0:08:43\n",
      "2025-06-03 22:57:28,943 WARNING  pid:1936418 util.util:251:enumerateWithEstimate E5 Training ----/6250, done at 2025-06-03 22:57:28\n",
      "2025-06-03 22:57:28,949 INFO     pid:1936418 app.train.training_seg:427:logMetrics E5 SegmentationTrainingApp\n",
      "2025-06-03 22:57:28,951 INFO     pid:1936418 app.train.training_seg:457:logMetrics E5 trn      0.2053 loss, 0.6827 precision, 0.8872 recall, 0.7716 f1 score\n",
      "2025-06-03 22:57:28,952 INFO     pid:1936418 app.train.training_seg:467:logMetrics E5 trn_all  0.2053 loss,  88.7% tp,  11.3% fn,      41.2% fp\n",
      "2025-06-03 22:57:28,953 WARNING  pid:1936418 util.util:221:enumerateWithEstimate E5 Validation  ----/71, starting\n",
      "2025-06-03 22:57:34,924 INFO     pid:1936418 util.util:238:enumerateWithEstimate E5 Validation     4/71, done at 2025-06-03 22:58:53, 0:01:24\n",
      "2025-06-03 22:57:39,176 INFO     pid:1936418 util.util:238:enumerateWithEstimate E5 Validation     8/71, done at 2025-06-03 22:58:49, 0:01:20\n",
      "2025-06-03 22:57:44,684 INFO     pid:1936418 util.util:238:enumerateWithEstimate E5 Validation    16/71, done at 2025-06-03 22:58:34, 0:01:05\n",
      "2025-06-03 22:57:58,385 INFO     pid:1936418 util.util:238:enumerateWithEstimate E5 Validation    32/71, done at 2025-06-03 22:58:32, 0:01:03\n",
      "2025-06-03 22:58:25,445 INFO     pid:1936418 util.util:238:enumerateWithEstimate E5 Validation    64/71, done at 2025-06-03 22:58:30, 0:01:01\n",
      "2025-06-03 22:58:29,783 WARNING  pid:1936418 util.util:251:enumerateWithEstimate E5 Validation  ----/71, done at 2025-06-03 22:58:29\n",
      "2025-06-03 22:58:29,784 INFO     pid:1936418 app.train.training_seg:427:logMetrics E5 SegmentationTrainingApp\n",
      "2025-06-03 22:58:29,785 INFO     pid:1936418 app.train.training_seg:457:logMetrics E5 val      0.9147 loss, 0.0350 precision, 0.7778 recall, 0.0670 f1 score\n",
      "2025-06-03 22:58:29,786 INFO     pid:1936418 app.train.training_seg:467:logMetrics E5 val_all  0.9147 loss,  77.8% tp,  22.2% fn,    2144.9% fp\n",
      "2025-06-03 22:58:29,941 INFO     pid:1936418 app.train.training_seg:545:saveModel Saved model params to data-unversioned/models/seg/seg-finetuned_2025-06-03_22.07.16_none.500000.state\n",
      "2025-06-03 22:58:29,943 INFO     pid:1936418 app.train.training_seg:557:saveModel SHA1: 208ea05fd6be3df451bd3d85326773fd7c8b092f\n"
     ]
    }
   ],
   "source": [
    "# QAT 微调模型\n",
    "model_qat = model_qat.to('cuda')\n",
    "finetuned_qat_models = train(model_qat, 5)"
   ]
  },
  {
   "cell_type": "code",
   "execution_count": 16,
   "id": "5d80d792-886a-421a-b3a1-91b92fdfe280",
   "metadata": {},
   "outputs": [
    {
     "data": {
      "application/vnd.jupyter.widget-view+json": {
       "model_id": "cb1010817d0446d29dc96cb0baa58ed9",
       "version_major": 2,
       "version_minor": 0
      },
      "text/plain": [
       "eval:   0%|          | 0/71 [00:00<?, ?it/s]"
      ]
     },
     "metadata": {},
     "output_type": "display_data"
    },
    {
     "data": {
      "text/plain": [
       "{'loss/all': 0.90030414,\n",
       " 'percent_all/tp': 77.38937735557556,\n",
       " 'percent_all/fn': 22.610625624656677,\n",
       " 'percent_all/fp': 1708.9195251464844,\n",
       " 'pr/precision': 0.043323625,\n",
       " 'pr/recall': 0.7738938,\n",
       " 'pr/f1_score': 0.08205376987335304}"
      ]
     },
     "execution_count": 16,
     "metadata": {},
     "output_type": "execute_result"
    }
   ],
   "source": [
    "# 手动选择一个效果最好的 best_epoch\n",
    "#best_epoch = 0\n",
    "#model_qat_finetuned = finetuned_qat_models[best_epoch]\n",
    "# 直接载入保存的效果最好的模型\n",
    "model_qat_finetuned = prepare_model_qat_fx(pruned_model, \"data/models/seg/seg-finetuned_2025-06-03_22.07.16_none.100000.state\")\n",
    "\n",
    "# 转换成量化后的模型\n",
    "model_qat_finetuned = convert_model_qat_fx(model_qat_finetuned)\n",
    "#print(model_qat_finetuned.graph)\n",
    "\n",
    "# 测试一下量化后的模型的效果\n",
    "model_qat_finetuned = model_qat_finetuned.to('cpu')\n",
    "evaluate(model_qat_finetuned)"
   ]
  },
  {
   "cell_type": "code",
   "execution_count": 17,
   "id": "3bc948a9-fba7-44ca-aadb-85ce86b36ae8",
   "metadata": {},
   "outputs": [],
   "source": [
    "# JIT 到处 TorchScript 模型\n",
    "example_input = torch.randn(1, 7, 512, 512)\n",
    "traced_model = torch.jit.trace(model_qat_finetuned, example_input)\n",
    "traced_model.save(\"optimization/models/seg_model.pt\")"
   ]
  },
  {
   "cell_type": "code",
   "execution_count": 18,
   "id": "a030bc72-46b1-4289-aaff-8ff57f75f222",
   "metadata": {},
   "outputs": [
    {
     "name": "stderr",
     "output_type": "stream",
     "text": [
      "I rknn-toolkit2 version: 2.3.2\n"
     ]
    },
    {
     "name": "stdout",
     "output_type": "stream",
     "text": [
      "--> Config model\n",
      "is model pruning enabled:  False\n",
      "done\n",
      "--> Loading model\n"
     ]
    },
    {
     "name": "stderr",
     "output_type": "stream",
     "text": [
      "\u001b[1;33mW\u001b[0m \u001b[1;33mload_pytorch: Unsupport floor_divide, force it to divide, may cause errors!!!\u001b[0m\n",
      "\u001b[1;33mW\u001b[0m \u001b[1;33mload_pytorch: Unsupport floor_divide, force it to divide, may cause errors!!!\u001b[0m\n",
      "\u001b[1;33mW\u001b[0m \u001b[1;33mload_pytorch: Unsupport floor_divide, force it to divide, may cause errors!!!\u001b[0m\n",
      "\u001b[1;33mW\u001b[0m \u001b[1;33mload_pytorch: Unsupport floor_divide, force it to divide, may cause errors!!!\u001b[0m\n",
      "I Loading : 100%|██████████████████████████████████████████████| 231/231 [00:00<00:00, 84360.84it/s]\n",
      "\u001b[1;33mW\u001b[0m \u001b[1;33mload_pytorch: The QAT model is loaded, but the config.optimization_level = 3, and some performance optimization passes will affect the accuracy.\n",
      "                              If you need more consistent accuracy, you can try changing config.optimization_level to 2.\u001b[0m\n",
      "\u001b[1;33mW\u001b[0m \u001b[1;33mload_pytorch: The config.mean_values is None, zeros will be set for input 0!\u001b[0m\n",
      "\u001b[1;33mW\u001b[0m \u001b[1;33mload_pytorch: The config.std_values is None, ones will be set for input 0!\u001b[0m\n",
      "\u001b[1;33mW\u001b[0m \u001b[1;33mbuild: The dataset='./calib_data/dataset.txt' is ignored because do_quantization = False!\u001b[0m\n"
     ]
    },
    {
     "name": "stdout",
     "output_type": "stream",
     "text": [
      "done\n",
      "--> Building model\n"
     ]
    },
    {
     "name": "stderr",
     "output_type": "stream",
     "text": [
      "I OpFusing 2 : 100%|███████████████████████████████████████████| 100/100 [00:00<00:00, 16504.56it/s]\n"
     ]
    },
    {
     "name": "stdout",
     "output_type": "stream",
     "text": [
      "\n",
      "\n"
     ]
    },
    {
     "name": "stderr",
     "output_type": "stream",
     "text": [
      "I OpFusing 2 : 100%|████████████████████████████████████████████| 100/100 [00:00<00:00, 8013.42it/s]\n"
     ]
    },
    {
     "name": "stdout",
     "output_type": "stream",
     "text": [
      "\n",
      "\n"
     ]
    },
    {
     "name": "stderr",
     "output_type": "stream",
     "text": [
      "I OpFusing 0:  42%|███████████████████▎                          | 42/100 [00:00<00:00, 1306.37it/s]\u001b[1;33mW\u001b[0m \u001b[1;33mbuild: For inference speedup, but may cause result driftting in QAT model.\n",
      "                        To disable this optimization, please set 'optimization_level = 2' in 'rknn.config'\u001b[0m\n",
      "I OpFusing 2 : 100%|█████████████████████████████████████████████| 100/100 [00:00<00:00, 800.11it/s]\n",
      "\u001b[1;33mW\u001b[0m \u001b[1;33mbuild: The default input dtype of 'input_batch.1' is changed from 'float32' to 'int8' in rknn model for performance!\n",
      "                       Please take care of this change when deploy rknn model with Runtime API!\u001b[0m\n",
      "\u001b[1;33mW\u001b[0m \u001b[1;33mbuild: The default output dtype of '482' is changed from 'float32' to 'int8' in rknn model for performance!\n",
      "                      Please take care of this change when deploy rknn model with Runtime API!\u001b[0m\n"
     ]
    },
    {
     "name": "stdout",
     "output_type": "stream",
     "text": [
      "\n",
      "\n"
     ]
    },
    {
     "name": "stderr",
     "output_type": "stream",
     "text": [
      "I rknn building ...\n",
      "I rknn building done.\n"
     ]
    },
    {
     "name": "stdout",
     "output_type": "stream",
     "text": [
      "done\n",
      "--> Export rknn model\n",
      "done\n"
     ]
    }
   ],
   "source": [
    "# 将 TorchScript 转换成 RKNN\n",
    "# ATTENTION!!! 这里已经是 QAT 后的模型，RKNN-Toolkit 不需要再次量化\n",
    "convert_main([\"--import-path=optimization/models/seg_model.pt\",\n",
    "              \"--export-path=optimization/models\",\n",
    "              \"--model-type=seg\",\n",
    "              \"--platform=rk3588\",\n",
    "              \"--dtype=fp\", # 这里 fp 表示不启用 SDK 的量化，实际已经是 QAT 的模型\n",
    "              #\"--quantized-algorithm=normal\"\n",
    "              #\"--accuracy-analysis\"\n",
    "             ])"
   ]
  },
  {
   "cell_type": "code",
   "execution_count": 19,
   "id": "a0934424-1828-4e5a-a98b-9e7074fa50e5",
   "metadata": {
    "scrolled": true
   },
   "outputs": [
    {
     "name": "stderr",
     "output_type": "stream",
     "text": [
      "I rknn-toolkit2 version: 2.3.2\n",
      "adb: unable to connect for root: closed\n",
      "I target set by user is: rk3588\n"
     ]
    },
    {
     "name": "stdout",
     "output_type": "stream",
     "text": [
      "--> Init runtime environment\n"
     ]
    },
    {
     "name": "stderr",
     "output_type": "stream",
     "text": [
      "I Get hardware info: target_platform = rk3588, os = Linux, aarch = aarch64\n",
      "I Check RK3588 board npu runtime version\n",
      "I Starting ntp or adb, target is RK3588\n",
      "I Start adb...\n",
      "I Connect to Device success!\n",
      "I Flag perf_debug has been set, it will affect the performance of inference!\n",
      "I Flag eval_mem has been set, it will affect the performance of inference!\n"
     ]
    },
    {
     "name": "stdout",
     "output_type": "stream",
     "text": [
      "I NPUTransfer(1936418): Starting NPU Transfer Client, Transfer version 2.2.2 (12abf2a@2024-09-02T03:22:41)\n",
      "I NPUTransfer(1936418): TransferBuffer: min aligned size: 1024\n",
      "D RKNNAPI: ==============================================\u001b[0m\n",
      "D RKNNAPI: RKNN VERSION:\u001b[0m\n",
      "D RKNNAPI:   API: 2.3.2 (1842325 build@2025-03-30T09:55:23)\u001b[0m\n",
      "D RKNNAPI:   DRV: rknn_server: 2.3.2 (1842325 build@2025-03-30T09:54:34)\u001b[0m\n",
      "D RKNNAPI:   DRV: rknnrt: 2.3.2 (429f97ae6b@2025-04-09T09:09:27)\u001b[0m\n",
      "D RKNNAPI: ==============================================\u001b[0m\n",
      "D RKNNAPI: Input tensors:\u001b[0m\n",
      "D RKNNAPI:   index=0, name=input_batch.1, n_dims=4, dims=[1, 512, 512, 7], n_elems=1835008, size=1835008, w_stride = 0, size_with_stride = 0, fmt=NHWC, type=INT8, qnt_type=AFFINE, zp=0, scale=8.136755\u001b[0m\n",
      "D RKNNAPI: Output tensors:\u001b[0m\n",
      "D RKNNAPI:   index=0, name=482, n_dims=4, dims=[1, 1, 512, 512], n_elems=262144, size=262144, w_stride = 0, size_with_stride = 0, fmt=NCHW, type=INT8, qnt_type=AFFINE, zp=-128, scale=0.003922\u001b[0m\n",
      "done\n",
      "Model-optimization/models/seg_model.rknn is rknn model, starting val\n",
      "--> Eval perf\n",
      "CPU Current Frequency List:\n",
      "    - 1800000\n",
      "    - 2256000\n",
      "    - 2304000\n",
      "NPU Current Frequency List:\n",
      "    - 1000000000\n",
      "DDR Current Frequency List:\n",
      "    - 1560000000\n",
      "\n",
      "\u001b[1;33mWarning: The performance result is just for debugging, may worse than actual performance!\u001b[0m\n",
      "------------------------------------------------------------------------------------------------------------------------------------------------------------------------------------------------------------------------------\n",
      "                                                                          Network Layer Information Table                                                                                \n",
      "------------------------------------------------------------------------------------------------------------------------------------------------------------------------------------------------------------------------------\n",
      "ID   OpType             DataType Target InputShape                               OutputShape            Cycles(DDR/NPU/Total)    Time(us)     MacUsage(%)          WorkLoad(0/1/2)      RW(KB)       FullName        \n",
      "------------------------------------------------------------------------------------------------------------------------------------------------------------------------------------------------------------------------------\n",
      "1    InputOperator      INT8     CPU    \\                                        (1,7,512,512)          0/0/0                    5                                 0.0%/0.0%/0.0%       0            InputOperator:input_batch.1\n",
      "2    BatchNormalization INT8     NPU    (1,7,512,512),(7),(7),(7),(7)            (1,7,512,512)          0/0/0                    803                               100.0%/0.0%/0.0%     4096         BatchNormalization:input.5_BatchNormalization\n",
      "3    ConvRelu           INT8     NPU    (1,7,512,512),(8,7,3,3),(8)              (1,8,512,512)          480198/2359296/2359296   2715         4.75/0.00/0.00       100.0%/0.0%/0.0%     4097         Conv:504_Conv   \n",
      "4    BatchNormalization INT8     NPU    (1,8,512,512),(8),(8),(8),(8)            (1,8,512,512)          0/0/0                    814                               100.0%/0.0%/0.0%     4096         BatchNormalization:input.7_BatchNormalization\n",
      "5    ConvRelu           INT8     NPU    (1,8,512,512),(8,8,3,3),(8)              (1,8,512,512)          480198/2359296/2359296   2716         5.43/0.00/0.00       100.0%/0.0%/0.0%     4097         Conv:516_Conv   \n",
      "6    BatchNormalization INT8     NPU    (1,8,512,512),(8),(8),(8),(8)            (1,8,512,512)          0/0/0                    825                               100.0%/0.0%/0.0%     4096         BatchNormalization:unet_down_path_0_block_5.1_BatchNormalization\n",
      "7    AveragePool        INT8     NPU    (1,8,512,512)                            (1,8,256,256)          0/0/0                    1119                              100.0%/0.0%/0.0%     4096         AveragePool:input.3_AveragePool\n",
      "8    ConvRelu           INT8     NPU    (1,8,256,256),(16,8,3,3),(16)            (1,16,256,256)         120176/589824/589824     714          10.33/0.00/0.00      100.0%/0.0%/0.0%     1026         Conv:528_Conv   \n",
      "9    BatchNormalization INT8     NPU    (1,16,256,256),(16),(16),(16),(16)       (1,16,256,256)         0/0/0                    255                               100.0%/0.0%/0.0%     1024         BatchNormalization:input.9_BatchNormalization\n",
      "10   ConvRelu           INT8     NPU    (1,16,256,256),(16,16,3,3),(16)          (1,16,256,256)         120176/589824/589824     715          20.62/0.00/0.00      100.0%/0.0%/0.0%     1026         Conv:540_Conv   \n",
      "11   BatchNormalization INT8     NPU    (1,16,256,256),(16),(16),(16),(16)       (1,16,256,256)         0/0/0                    254                               100.0%/0.0%/0.0%     1024         BatchNormalization:unet_down_path_1_block_5.1_BatchNormalization\n",
      "12   AveragePool        INT8     NPU    (1,16,256,256)                           (1,16,128,128)         0/0/0                    319                               100.0%/0.0%/0.0%     1024         AveragePool:input0.1_AveragePool\n",
      "13   ConvRelu           INT8     NPU    (1,16,128,128),(32,16,3,3),(32)          (1,32,128,128)         45290/147456/147456      178          41.42/0.00/0.00      100.0%/0.0%/0.0%     260          Conv:552_Conv   \n",
      "14   BatchNormalization INT8     NPU    (1,32,128,128),(32),(32),(32),(32)       (1,32,128,128)         0/0/0                    107                               100.0%/0.0%/0.0%     512          BatchNormalization:input.11_BatchNormalization\n",
      "15   ConvRelu           INT8     NPU    (1,32,128,128),(32,32,3,3),(32)          (1,32,128,128)         60557/147456/147456      195          75.62/0.00/0.00      100.0%/0.0%/0.0%     521          Conv:564_Conv   \n",
      "16   BatchNormalization INT8     NPU    (1,32,128,128),(32),(32),(32),(32)       (1,32,128,128)         0/0/0                    106                               100.0%/0.0%/0.0%     512          BatchNormalization:input.13_BatchNormalization\n",
      "17   ConvTranspose      INT8     NPU    (1,32,128,128),(32,16,2,2),(16)          (1,16,256,256)         90147/262144/262144      374          35.05/0.00/0.00      100.0%/0.0%/0.0%     514          ConvTranspose:unet_up_path_0_up.1_ConvTranspose\n",
      "18   Concat             INT8     NPU    (1,16,256,256),(1,16,256,256)            (1,32,256,256)         0/0/0                    415                               100.0%/0.0%/0.0%     2048         Concat:input1.1_Concat\n",
      "19   ConvRelu           INT8     NPU    (1,32,256,256),(16,32,3,3),(16)          (1,16,256,256)         180323/589824/589824     753          39.16/0.00/0.00      100.0%/0.0%/0.0%     2052         Conv:580_Conv   \n",
      "20   BatchNormalization INT8     NPU    (1,16,256,256),(16),(16),(16),(16)       (1,16,256,256)         0/0/0                    205                               100.0%/0.0%/0.0%     1024         BatchNormalization:input.15_BatchNormalization\n",
      "21   ConvRelu           INT8     NPU    (1,16,256,256),(16,16,3,3),(16)          (1,16,256,256)         120176/589824/589824     715          20.62/0.00/0.00      100.0%/0.0%/0.0%     1026         Conv:592_Conv   \n",
      "22   BatchNormalization INT8     NPU    (1,16,256,256),(16),(16),(16),(16)       (1,16,256,256)         0/0/0                    205                               100.0%/0.0%/0.0%     1024         BatchNormalization:input.17_BatchNormalization\n",
      "23   ConvTranspose      INT8     NPU    (1,16,256,256),(16,8,2,2),(8)            (1,8,512,512)          300110/1048576/1048576   1418         9.24/0.00/0.00       100.0%/0.0%/0.0%     1024         ConvTranspose:unet_up_path_1_up.1_ConvTranspose\n",
      "24   Concat             INT8     NPU    (1,8,512,512),(1,8,512,512),...          (1,16,512,512)         0/0/0                    3505                              100.0%/0.0%/0.0%     8192         Concat:input2.1_Concat\n",
      "25   ConvRelu           INT8     NPU    (1,16,512,512),(8,16,3,3),(8)            (1,8,512,512)          480198/2359296/2359296   2679         11.01/0.00/0.00      100.0%/0.0%/0.0%     4097         Conv:608_Conv   \n",
      "26   BatchNormalization INT8     NPU    (1,8,512,512),(8),(8),(8),(8)            (1,8,512,512)          0/0/0                    774                               100.0%/0.0%/0.0%     4096         BatchNormalization:input.19_BatchNormalization\n",
      "27   ConvRelu           INT8     NPU    (1,8,512,512),(16,8,3,3),(16)            (1,16,512,512)         480264/2359296/2359296   2717         10.85/0.00/0.00      100.0%/0.0%/0.0%     4098         Conv:620_Conv   \n",
      "28   ConvSigmoid        INT8     NPU    (1,16,512,512),(1,16,1,1),(1)            (1,1,512,512)          720185/1048576/1048576   4463         0.09/0.00/0.00       100.0%/0.0%/0.0%     4096         Conv:input.1_Conv\n",
      "29   OutputOperator     INT8     CPU    (1,1,512,512)                            \\                      0/0/0                    128                               0.0%/0.0%/0.0%       8192         OutputOperator:482\n",
      "------------------------------------------------------------------------------------------------------------------------------------------------------------------------------------------------------------------------------\n",
      "Total Operator Elapsed Per Frame Time(us): 30191\n",
      "Total Memory Read/Write Per Frame Size(KB): 72998.14\n",
      "------------------------------------------------------------------------------------------------------------------------------------------------------------------------------------------------------------------------------\n",
      "---------------------------------------------------------------------------------------------------\n",
      "                                 Operator Time Consuming Ranking Table            \n",
      "---------------------------------------------------------------------------------------------------\n",
      "OpType             CallNumber   CPUTime(us)  GPUTime(us)  NPUTime(us)  TotalTime(us)  TimeRatio(%)  \n",
      "---------------------------------------------------------------------------------------------------\n",
      "ConvRelu           10           0            0            14097        14097          46.69%        \n",
      "ConvSigmoid        1            0            0            4463         4463           14.78%        \n",
      "BatchNormalization 10           0            0            4348         4348           14.40%        \n",
      "Concat             2            0            0            3920         3920           12.98%        \n",
      "ConvTranspose      2            0            0            1792         1792           5.94%         \n",
      "AveragePool        2            0            0            1438         1438           4.76%         \n",
      "OutputOperator     1            128          0            0            128            0.42%         \n",
      "InputOperator      1            5            0            0            5              0.02%         \n",
      "---------------------------------------------------------------------------------------------------\n",
      "Total                           133          0            30058        30191         \n",
      "---------------------------------------------------------------------------------------------------\n",
      "\n",
      "--> Eval memory\n",
      "======================================================\n",
      "            Memory Profile Info Dump                  \n",
      "======================================================\n",
      "NPU model memory detail(bytes):\n",
      "    Weight Memory: 40.56 KiB\n",
      "    Internal Tensor Memory: 31.00 MiB\n",
      "    Other Memory: 359.44 KiB\n",
      "    Total Memory: 31.39 MiB\n",
      "\n",
      "INFO: When evaluating memory usage, we need consider  \n",
      "the size of model, current model size is: 451.78 KiB       \n",
      "======================================================\n",
      "\n"
     ]
    }
   ],
   "source": [
    "# 评估性能和内存\n",
    "eval_perf_mem_on_rk3588(\"optimization/models/seg_model.rknn\")"
   ]
  },
  {
   "cell_type": "code",
   "execution_count": 20,
   "id": "5d2a4a4e-e180-49f9-84cf-789ba90fb871",
   "metadata": {},
   "outputs": [
    {
     "name": "stderr",
     "output_type": "stream",
     "text": [
      "I rknn-toolkit2 version: 2.3.2\n"
     ]
    },
    {
     "name": "stdout",
     "output_type": "stream",
     "text": [
      "--> Init runtime environment\n"
     ]
    },
    {
     "name": "stderr",
     "output_type": "stream",
     "text": [
      "adb: unable to connect for root: closed\n",
      "I target set by user is: rk3588\n",
      "I Get hardware info: target_platform = rk3588, os = Linux, aarch = aarch64\n",
      "I Check RK3588 board npu runtime version\n",
      "I Starting ntp or adb, target is RK3588\n",
      "I Start adb...\n",
      "I Connect to Device success!\n"
     ]
    },
    {
     "name": "stdout",
     "output_type": "stream",
     "text": [
      "I NPUTransfer(1936418): Starting NPU Transfer Client, Transfer version 2.2.2 (12abf2a@2024-09-02T03:22:41)\n",
      "I NPUTransfer(1936418): TransferBuffer: min aligned size: 1024\n",
      "D RKNNAPI: ==============================================\u001b[0m\n",
      "D RKNNAPI: RKNN VERSION:\u001b[0m\n",
      "D RKNNAPI:   API: 2.3.2 (1842325 build@2025-03-30T09:55:23)\u001b[0m\n",
      "D RKNNAPI:   DRV: rknn_server: 2.3.2 (1842325 build@2025-03-30T09:54:34)\u001b[0m\n",
      "D RKNNAPI:   DRV: rknnrt: 2.3.2 (429f97ae6b@2025-04-09T09:09:27)\u001b[0m\n",
      "D RKNNAPI: ==============================================\u001b[0m\n"
     ]
    },
    {
     "name": "stderr",
     "output_type": "stream",
     "text": [
      "2025-06-03 23:41:20,563 INFO     pid:1936418 app.infer.eval_seg:220:eval 1122 batches of size 1*1\n"
     ]
    },
    {
     "name": "stdout",
     "output_type": "stream",
     "text": [
      "D RKNNAPI: Input tensors:\u001b[0m\n",
      "done\n",
      "Model-optimization/models/seg_model.rknn is rknn model, starting val\n",
      "D RKNNAPI:   index=0, name=input_batch.1, n_dims=4, dims=[1, 512, 512, 7], n_elems=1835008, size=1835008, w_stride = 0, size_with_stride = 0, fmt=NHWC, type=INT8, qnt_type=AFFINE, zp=0, scale=8.136755\u001b[0m\n",
      "D RKNNAPI: Output tensors:\u001b[0m\n",
      "D RKNNAPI:   index=0, name=482, n_dims=4, dims=[1, 1, 512, 512], n_elems=262144, size=262144, w_stride = 0, size_with_stride = 0, fmt=NCHW, type=INT8, qnt_type=AFFINE, zp=-128, scale=0.003922\u001b[0m\n"
     ]
    },
    {
     "data": {
      "application/vnd.jupyter.widget-view+json": {
       "model_id": "520d663fb79d429b9f6313dc81f8621d",
       "version_major": 2,
       "version_minor": 0
      },
      "text/plain": [
       "eval:   0%|          | 0/1122 [00:00<?, ?it/s]"
      ]
     },
     "metadata": {},
     "output_type": "display_data"
    },
    {
     "name": "stderr",
     "output_type": "stream",
     "text": [
      "2025-06-03 23:57:44,323 INFO     pid:1936418 app.infer.eval_seg:319:logMetrics E0 SegmentationTestingApp\n",
      "2025-06-03 23:57:44,324 INFO     pid:1936418 app.infer.eval_seg:349:logMetrics E0 val      0.8883 loss, 0.0451 precision, 0.7707 recall, 0.0852 f1 score\n",
      "2025-06-03 23:57:44,324 INFO     pid:1936418 app.infer.eval_seg:359:logMetrics E0 val_all  0.8883 loss,  77.1% tp,  22.9% fn,    1632.3% fp\n"
     ]
    },
    {
     "data": {
      "text/plain": [
       "{'loss/all': 0.88832694,\n",
       " 'percent_all/tp': 77.07344889640808,\n",
       " 'percent_all/fn': 22.9265496134758,\n",
       " 'percent_all/fp': 1632.265281677246,\n",
       " 'pr/precision': 0.04508963,\n",
       " 'pr/recall': 0.7707345,\n",
       " 'pr/f1_score': 0.08519515634140573}"
      ]
     },
     "execution_count": 20,
     "metadata": {},
     "output_type": "execute_result"
    }
   ],
   "source": [
    "# 评估召回率\n",
    "evaluate(\"optimization/models/seg_model.rknn\", on_rk3588=True)"
   ]
  },
  {
   "cell_type": "markdown",
   "id": "37e58f9d-1342-4af0-8acb-0fae77fe9cff",
   "metadata": {},
   "source": [
    "可以看到，经过 **QAT** 之后，对比 **PTQ** 的结果，模型的精度有了很大的提升。\n",
    "\n",
    "||original|pruned|quantization|pruned + PTQ|pruned + QAT|\n",
    "|-|-|-|-|-|-|\n",
    "|recall|76.7%|75.3%|79.6%|69.5%|77.1%|\n",
    "|accuracy drop|/|**-1.4%**|**+2.9%**|**-7.2%**|**+0.4%**|\n",
    "|model size (KiB)|1005.18|514.05|561.83|453.83|451.78|\n",
    "|reduction ratio|/|**1.96x**|**1.79x**|**2.21x**|**2.22x**|\n",
    "|latency (us)|49079|30171|31536|29710|30191|\n",
    "|reduction ratio|/|**1.63x**|**1.56x**|**1.65x**|**1.63x**|"
   ]
  },
  {
   "cell_type": "code",
   "execution_count": null,
   "id": "71661693-73cb-451c-999b-e683fc069d99",
   "metadata": {},
   "outputs": [],
   "source": []
  }
 ],
 "metadata": {
  "kernelspec": {
   "display_name": "Python 3 (ipykernel)",
   "language": "python",
   "name": "python3"
  },
  "language_info": {
   "codemirror_mode": {
    "name": "ipython",
    "version": 3
   },
   "file_extension": ".py",
   "mimetype": "text/x-python",
   "name": "python",
   "nbconvert_exporter": "python",
   "pygments_lexer": "ipython3",
   "version": "3.9.21"
  }
 },
 "nbformat": 4,
 "nbformat_minor": 5
}
