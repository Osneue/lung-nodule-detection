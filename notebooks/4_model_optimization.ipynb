{
 "cells": [
  {
   "cell_type": "markdown",
   "id": "678a1f8e-1780-45ed-a50c-2c8bc171f7c1",
   "metadata": {},
   "source": [
    "# **Lung-Nodule-Detection: Part-4 Model Optimization**"
   ]
  },
  {
   "cell_type": "markdown",
   "id": "f40b5a75-d2df-4959-a1a5-a79eecc4c161",
   "metadata": {},
   "source": [
    "## 目标\n",
    "\n",
    "在Part-4部分，应用 **剪枝** 和 **量化** 的模型优化方法，**统计并对比** 优化前后模型的相关参数。具体目标如下：\n",
    "\n",
    "- 深入理解 **剪枝** 的原理，实践中提高熟练度，尤其是 ***U-Net*** 的 **跳跃连接** 对剪枝带来的 **复杂度提升**\n",
    "- 通过统计参数，直观体会 **模型优化** 带来的 **巨大性能提升**，理解其 **重要性**"
   ]
  },
  {
   "cell_type": "markdown",
   "id": "c36ac425-135d-4321-8fbf-353eb7a1a061",
   "metadata": {},
   "source": [
    "## 内容\n",
    "\n",
    "本节主要由2部分组成\n",
    "\n",
    "- 对 ***U-Net*** 模型进行 **剪枝** 优化，在 ***PC*** 和 ***RK3588S*** 上分别进行部署测试，并统计相关参数。特别是与 **Rockchip** 的 ***SDK*** **自带剪枝算法** 的对比\n",
    "- 对 ***U-Net*** 模型进行 **量化** 优化，在 ***PC*** 和 ***RK3588S*** 上分别进行部署测试，并统计相关参数。特别是与 **Rockchip** 的 ***SDK*** **自带量化算法** 的对比"
   ]
  },
  {
   "cell_type": "markdown",
   "id": "ae051de3-ddd7-4dc2-a3ca-f8cddcad6cbb",
   "metadata": {},
   "source": [
    "## 设置\n",
    "**必须**先执行一次设置代码块"
   ]
  },
  {
   "cell_type": "code",
   "execution_count": 1,
   "id": "5ba323ef-b2f9-40f8-addc-d3c741c37a32",
   "metadata": {},
   "outputs": [
    {
     "name": "stderr",
     "output_type": "stream",
     "text": [
      "2025-05-26 22:18:31.936783: E external/local_xla/xla/stream_executor/cuda/cuda_dnn.cc:9261] Unable to register cuDNN factory: Attempting to register factory for plugin cuDNN when one has already been registered\n",
      "2025-05-26 22:18:31.936835: E external/local_xla/xla/stream_executor/cuda/cuda_fft.cc:607] Unable to register cuFFT factory: Attempting to register factory for plugin cuFFT when one has already been registered\n",
      "2025-05-26 22:18:31.937787: E external/local_xla/xla/stream_executor/cuda/cuda_blas.cc:1515] Unable to register cuBLAS factory: Attempting to register factory for plugin cuBLAS when one has already been registered\n",
      "2025-05-26 22:18:31.943754: I tensorflow/core/platform/cpu_feature_guard.cc:182] This TensorFlow binary is optimized to use available CPU instructions in performance-critical operations.\n",
      "To enable the following instructions: AVX2 FMA, in other operations, rebuild TensorFlow with the appropriate compiler flags.\n",
      "2025-05-26 22:18:32.680870: W tensorflow/compiler/tf2tensorrt/utils/py_utils.cc:38] TF-TRT Warning: Could not find TensorRT\n"
     ]
    }
   ],
   "source": [
    "import os\n",
    "import sys\n",
    "import torch\n",
    "import random\n",
    "import copy\n",
    "import time\n",
    "import numpy as np\n",
    "import matplotlib.pyplot as plt\n",
    "from typing import Union, List\n",
    "%matplotlib inline\n",
    "\n",
    "use_cuda = torch.cuda.is_available()\n",
    "device = torch.device(\"cuda\" if use_cuda else \"cpu\")\n",
    "\n",
    "# 获取当前工作目录\n",
    "current_path = os.getcwd()\n",
    "\n",
    "# 获取当前目录的最后一个字符串（即最后一个文件夹名）\n",
    "last_directory = os.path.basename(current_path)\n",
    "\n",
    "# 检查是否是 notebook\n",
    "if last_directory == 'notebooks':\n",
    "    # 切换到上一级目录\n",
    "    os.chdir('..')\n",
    "\n",
    "#print(f\"切换到目录: {os.getcwd()}\")\n",
    "\n",
    "sys.path.append('src')  # 将模块所在的路径添加到 sys.path\n",
    "\n",
    "from util.logconf import logging\n",
    "from util.profile import *\n",
    "from optimization.pruning import *\n",
    "from app.infer.eval_seg import SegmentationTestingApp\n",
    "from app.train.training_seg import SegmentationTrainingApp\n",
    "\n",
    "Byte = 8\n",
    "KiB = 1024 * Byte\n",
    "MiB = 1024 * KiB\n",
    "GiB = 1024 * MiB"
   ]
  },
  {
   "cell_type": "code",
   "execution_count": 6,
   "id": "605a48c8-f807-4ebd-9684-d8de5546922a",
   "metadata": {},
   "outputs": [],
   "source": [
    "def train(model):\n",
    "    seg_training_app = SegmentationTrainingApp([\"--epochs=1\", \"--num-workers=0\", '--augmented', '--finetune'], model)\n",
    "    return seg_training_app.main()"
   ]
  },
  {
   "cell_type": "code",
   "execution_count": 2,
   "id": "c18e7d2e-6a54-4b16-835b-74291744b2a0",
   "metadata": {},
   "outputs": [],
   "source": [
    "def evaluate(model):\n",
    "    seg_app = SegmentationTestingApp([\"--platform=pytorch\", \"--num-workers=0\"], model)\n",
    "    return seg_app.eval()"
   ]
  },
  {
   "cell_type": "markdown",
   "id": "770536ec-8649-4566-a18d-fb612d9c36e3",
   "metadata": {},
   "source": [
    "## U-Net 的剪枝优化"
   ]
  },
  {
   "cell_type": "markdown",
   "id": "cce34e71-f0d0-40f9-b689-de3876591e9b",
   "metadata": {},
   "source": [
    "首先"
   ]
  },
  {
   "cell_type": "code",
   "execution_count": 3,
   "id": "49616ed8-affa-4826-951e-d35ea26a1bb8",
   "metadata": {},
   "outputs": [
    {
     "name": "stdout",
     "output_type": "stream",
     "text": [
      "Before sorting...\n"
     ]
    },
    {
     "data": {
      "application/vnd.jupyter.widget-view+json": {
       "model_id": "0888c35c6e65487c830ae61143a27367",
       "version_major": 2,
       "version_minor": 0
      },
      "text/plain": [
       "eval:   0%|          | 0/7 [00:00<?, ?it/s]"
      ]
     },
     "metadata": {},
     "output_type": "display_data"
    },
    {
     "name": "stdout",
     "output_type": "stream",
     "text": [
      "{'loss/all': 0.8376829, 'percent_all/tp': 87.71207332611084, 'percent_all/fn': 12.28792518377304, 'percent_all/fp': 1152.8359413146973, 'pr/precision': 0.070704296, 'pr/recall': 0.87712073, 'pr/f1_score': 0.13086002805331323}\n",
      "After sorting...\n"
     ]
    },
    {
     "data": {
      "application/vnd.jupyter.widget-view+json": {
       "model_id": "0e1dd2a0e31f46989e22a2838abca622",
       "version_major": 2,
       "version_minor": 0
      },
      "text/plain": [
       "eval:   0%|          | 0/7 [00:00<?, ?it/s]"
      ]
     },
     "metadata": {},
     "output_type": "display_data"
    },
    {
     "name": "stdout",
     "output_type": "stream",
     "text": [
      "{'loss/all': 0.8376829, 'percent_all/tp': 87.71207332611084, 'percent_all/fn': 12.28792518377304, 'percent_all/fp': 1152.8359413146973, 'pr/precision': 0.070704296, 'pr/recall': 0.87712073, 'pr/f1_score': 0.13086002805331323}\n",
      "* Check passed.\n"
     ]
    }
   ],
   "source": [
    "print('Before sorting...')\n",
    "origin_model = load_model()\n",
    "dense_model_metrics = evaluate(origin_model)\n",
    "print(dense_model_metrics)\n",
    "\n",
    "print('After sorting...')\n",
    "sorted_model = apply_channel_sorting_with_skip(origin_model)\n",
    "sorted_model_metrics = evaluate(sorted_model)\n",
    "print(sorted_model_metrics)\n",
    "\n",
    "# make sure accuracy does not change after sorting, since it is\n",
    "# equivalent transform\n",
    "tp_diff = abs(dense_model_metrics['percent_all/tp'] - sorted_model_metrics['percent_all/tp'])\n",
    "fn_diff = abs(dense_model_metrics['percent_all/fn'] - sorted_model_metrics['percent_all/fn'])\n",
    "fp_diff = abs(dense_model_metrics['percent_all/fp'] - sorted_model_metrics['percent_all/fp'])\n",
    "assert tp_diff < 0.1 and fn_diff < 0.1 and fp_diff < 0.1\n",
    "print('* Check passed.')\n",
    "\n",
    "#TODO: 输出issues报告，UNet残差连接结构给channel pruning带来的挑战"
   ]
  },
  {
   "cell_type": "code",
   "execution_count": 4,
   "id": "b0183644-8407-4812-9b3c-074616887643",
   "metadata": {},
   "outputs": [
    {
     "name": "stdout",
     "output_type": "stream",
     "text": [
      "dense model has size=0.45 MiB\n",
      "pruned model has size=0.22 MiB\n"
     ]
    }
   ],
   "source": [
    "model = load_model()\n",
    "pruned_model = channel_prune(model, 0.3)\n",
    "\n",
    "dense_model_size = get_model_size(model)\n",
    "pruned_model_size = get_model_size(pruned_model)\n",
    "\n",
    "print(f\"dense model has size={dense_model_size/MiB:.2f} MiB\")\n",
    "print(f\"pruned model has size={pruned_model_size/MiB:.2f} MiB\")\n",
    "\n",
    "dumpy_input = torch.randn(1,7,512,512).to(device)\n",
    "dumpuy_output = pruned_model(dumpy_input)"
   ]
  },
  {
   "cell_type": "code",
   "execution_count": 5,
   "id": "c187ee1b-460e-4169-95c1-6369a9c83ac6",
   "metadata": {},
   "outputs": [
    {
     "data": {
      "application/vnd.jupyter.widget-view+json": {
       "model_id": "df45fa42c504423c9ee0ef79c4c455e9",
       "version_major": 2,
       "version_minor": 0
      },
      "text/plain": [
       "eval:   0%|          | 0/7 [00:00<?, ?it/s]"
      ]
     },
     "metadata": {},
     "output_type": "display_data"
    },
    {
     "name": "stdout",
     "output_type": "stream",
     "text": [
      "{'loss/all': 0.8376829, 'percent_all/tp': 87.71207332611084, 'percent_all/fn': 12.28792518377304, 'percent_all/fp': 1152.8359413146973, 'pr/precision': 0.070704296, 'pr/recall': 0.87712073, 'pr/f1_score': 0.13086002805331323}\n",
      " * Without sorting...\n"
     ]
    },
    {
     "data": {
      "application/vnd.jupyter.widget-view+json": {
       "model_id": "52638bbd03b545c098a847deb34df555",
       "version_major": 2,
       "version_minor": 0
      },
      "text/plain": [
       "eval:   0%|          | 0/7 [00:00<?, ?it/s]"
      ]
     },
     "metadata": {},
     "output_type": "display_data"
    },
    {
     "name": "stdout",
     "output_type": "stream",
     "text": [
      "{'loss/all': 0.9749099, 'percent_all/tp': 4.166962578892708, 'percent_all/fn': 95.83303928375244, 'percent_all/fp': 303.1447410583496, 'pr/precision': 0.0135594, 'pr/recall': 0.041669626, 'pr/f1_score': 0.02046080336022654}\n",
      " * With sorting...\n"
     ]
    },
    {
     "data": {
      "application/vnd.jupyter.widget-view+json": {
       "model_id": "c655c246fed04496bc04047e997a8633",
       "version_major": 2,
       "version_minor": 0
      },
      "text/plain": [
       "eval:   0%|          | 0/7 [00:00<?, ?it/s]"
      ]
     },
     "metadata": {},
     "output_type": "display_data"
    },
    {
     "name": "stdout",
     "output_type": "stream",
     "text": [
      "{'loss/all': 0.9823573, 'percent_all/tp': 0.0, 'percent_all/fn': 100.0, 'percent_all/fp': 0.0, 'pr/precision': 0.0, 'pr/recall': 0.0, 'pr/f1_score': 0.0}\n"
     ]
    }
   ],
   "source": [
    "channel_pruning_ratio = 0.3  # pruned-out ratio\n",
    "\n",
    "model = load_model()\n",
    "metrics_dict = evaluate(model)\n",
    "print(metrics_dict)\n",
    "\n",
    "print(\" * Without sorting...\")\n",
    "pruned_model = channel_prune(model, channel_pruning_ratio)\n",
    "metrics_dict = evaluate(pruned_model)\n",
    "print(metrics_dict)\n",
    "\n",
    "print(\" * With sorting...\")\n",
    "sorted_model = apply_channel_sorting_with_skip(model)\n",
    "pruned_model = channel_prune(sorted_model, channel_pruning_ratio)\n",
    "metrics_dict = evaluate(pruned_model)\n",
    "print(metrics_dict)"
   ]
  },
  {
   "cell_type": "code",
   "execution_count": 7,
   "id": "678bffcb-adbe-4b7e-b921-163ec310e408",
   "metadata": {},
   "outputs": [
    {
     "name": "stderr",
     "output_type": "stream",
     "text": [
      "2025-05-26 22:19:14,070 INFO     pid:1654916 app.train.training_seg:164:initModel Using CUDA; 1 devices.\n",
      "2025-05-26 22:19:15,733 INFO     pid:1654916 app.train.training_seg:228:main Starting SegmentationTrainingApp, Namespace(batch_size=16, num_workers=0, epochs=1, augmented=True, augment_flip=False, augment_offset=False, augment_scale=False, augment_rotate=False, augment_noise=False, tb_prefix='seg', comment='none', finetune=True)\n",
      "2025-05-26 22:19:16,959 INFO     pid:1654916 core.dsets_seg:281:__init__ <core.dsets_seg.TrainingLuna2dSegmentationDataset object at 0x7f42991f03a0>: 799 training series, 8343 slices, 1028 nodules\n",
      "2025-05-26 22:19:17,029 INFO     pid:1654916 core.dsets_seg:281:__init__ <core.dsets_seg.Luna2dSegmentationDataset object at 0x7f4299172880>: 89 validation series, 1122 slices, 154 nodules\n",
      "2025-05-26 22:19:17,030 INFO     pid:1654916 app.train.training_seg:239:main Epoch 1 of 1, 6250/7 batches of size 16*1\n",
      "2025-05-26 22:19:17,252 WARNING  pid:1654916 util.util:221:enumerateWithEstimate E1 Training ----/6250, starting\n",
      "2025-05-26 22:19:18,176 INFO     pid:1654916 util.util:238:enumerateWithEstimate E1 Training    4/6250, done at 2025-05-26 22:38:31, 0:19:14\n",
      "2025-05-26 22:19:19,387 INFO     pid:1654916 util.util:238:enumerateWithEstimate E1 Training   16/6250, done at 2025-05-26 22:32:22, 0:13:04\n",
      "2025-05-26 22:19:23,682 INFO     pid:1654916 util.util:238:enumerateWithEstimate E1 Training   64/6250, done at 2025-05-26 22:29:35, 0:10:18\n",
      "2025-05-26 22:19:26,815 INFO     pid:1654916 util.util:238:enumerateWithEstimate E1 Training  256/6250, done at 2025-05-26 22:23:09, 0:03:52\n",
      "2025-05-26 22:19:39,152 INFO     pid:1654916 util.util:238:enumerateWithEstimate E1 Training 1024/6250, done at 2025-05-26 22:21:30, 0:02:13\n",
      "2025-05-26 22:20:29,428 INFO     pid:1654916 util.util:238:enumerateWithEstimate E1 Training 4096/6250, done at 2025-05-26 22:21:07, 0:01:50\n",
      "2025-05-26 22:21:04,537 WARNING  pid:1654916 util.util:251:enumerateWithEstimate E1 Training ----/6250, done at 2025-05-26 22:21:04\n",
      "2025-05-26 22:21:04,541 INFO     pid:1654916 app.train.training_seg:422:logMetrics E1 SegmentationTrainingApp\n",
      "2025-05-26 22:21:04,542 INFO     pid:1654916 app.train.training_seg:452:logMetrics E1 trn      0.3191 loss, 0.4741 precision, 0.9373 recall, 0.6297 f1 score\n",
      "2025-05-26 22:21:04,543 INFO     pid:1654916 app.train.training_seg:462:logMetrics E1 trn_all  0.3191 loss,  93.7% tp,   6.3% fn,     104.0% fp\n",
      "2025-05-26 22:21:04,545 WARNING  pid:1654916 util.util:221:enumerateWithEstimate E1 Validation  ----/7, starting\n",
      "2025-05-26 22:21:07,572 INFO     pid:1654916 util.util:238:enumerateWithEstimate E1 Validation     4/7, done at 2025-05-26 22:21:08, 0:00:04\n",
      "2025-05-26 22:21:08,824 WARNING  pid:1654916 util.util:251:enumerateWithEstimate E1 Validation  ----/7, done at 2025-05-26 22:21:08\n",
      "2025-05-26 22:21:09,036 INFO     pid:1654916 app.train.training_seg:422:logMetrics E1 SegmentationTrainingApp\n",
      "2025-05-26 22:21:09,037 INFO     pid:1654916 app.train.training_seg:452:logMetrics E1 val      0.9068 loss, 0.0325 precision, 0.8660 recall, 0.0626 f1 score\n",
      "2025-05-26 22:21:09,037 INFO     pid:1654916 app.train.training_seg:462:logMetrics E1 val_all  0.9068 loss,  86.6% tp,  13.4% fn,    2581.7% fp\n"
     ]
    },
    {
     "data": {
      "application/vnd.jupyter.widget-view+json": {
       "model_id": "1668aad38ae6462aa1d78e9d34c78bbf",
       "version_major": 2,
       "version_minor": 0
      },
      "text/plain": [
       "eval:   0%|          | 0/7 [00:00<?, ?it/s]"
      ]
     },
     "metadata": {},
     "output_type": "display_data"
    },
    {
     "name": "stdout",
     "output_type": "stream",
     "text": [
      "{'loss/all': 0.90682787, 'percent_all/tp': 86.59757375717163, 'percent_all/fn': 13.402427732944489, 'percent_all/fp': 2581.6993713378906, 'pr/precision': 0.03245425, 'pr/recall': 0.86597574, 'pr/f1_score': 0.06256378890575921}\n"
     ]
    }
   ],
   "source": [
    "finetuned_pruned_model = train(pruned_model)\n",
    "metrics = evaluate(finetuned_pruned_model)\n",
    "print(metrics)"
   ]
  },
  {
   "cell_type": "code",
   "execution_count": 8,
   "id": "f1f94fbd-5d0f-4c30-ad77-df9ab8b0ff49",
   "metadata": {},
   "outputs": [],
   "source": [
    "# helper functions to measure latency of a regular PyTorch models.\n",
    "#   Unlike fine-grained pruning, channel pruning\n",
    "#   can directly leads to model size reduction and speed up.\n",
    "@torch.no_grad()\n",
    "def measure_latency(model, dummy_input, n_warmup=20, n_test=100):\n",
    "    model.eval()\n",
    "    # warmup\n",
    "    for _ in range(n_warmup):\n",
    "        _ = model(dummy_input)\n",
    "    # real test\n",
    "    t1 = time.time()\n",
    "    for _ in range(n_test):\n",
    "        _ = model(dummy_input)\n",
    "    t2 = time.time()\n",
    "    return (t2 - t1) / n_test  # average latency"
   ]
  },
  {
   "cell_type": "code",
   "execution_count": 11,
   "id": "5728e8e9-f833-4f34-a83a-a4a752011d79",
   "metadata": {},
   "outputs": [],
   "source": [
    "def show_perf_diff(model, pruned_model):\n",
    "    table_template = \"{:<15} {:<15} {:<15} {:<15}\"\n",
    "    print (table_template.format('', 'Original','Pruned','Reduction Ratio'))\n",
    "    \n",
    "    # 1. measure the latency of the original model and the pruned model on GPU\n",
    "    dummy_input = torch.randn(1, 7, 512, 512).to('cuda')\n",
    "    pruned_model = pruned_model.to('cuda')\n",
    "    model = model.to('cuda')\n",
    "    \n",
    "    pruned_latency = measure_latency(pruned_model, dummy_input)\n",
    "    original_latency = measure_latency(model, dummy_input)\n",
    "    print(table_template.format('Latency (ms)',\n",
    "                                round(original_latency * 1000, 1),\n",
    "                                round(pruned_latency * 1000, 1),\n",
    "                                round(original_latency / pruned_latency, 1)))\n",
    "    \n",
    "    # 2. measure the computation (MACs)\n",
    "    original_macs = get_model_macs(model, dummy_input)\n",
    "    pruned_macs = get_model_macs(pruned_model, dummy_input)\n",
    "    print(table_template.format('MACs (M)',\n",
    "                                round(original_macs / 1e6),\n",
    "                                round(pruned_macs / 1e6),\n",
    "                                round(original_macs / pruned_macs, 1)))\n",
    "    \n",
    "    # 3. measure the model size (params)\n",
    "    original_param = get_num_parameters(model)\n",
    "    pruned_param = get_num_parameters(pruned_model)\n",
    "    print(table_template.format('Param (M)',\n",
    "                                round(original_param / 1e6, 2),\n",
    "                                round(pruned_param / 1e6, 2),\n",
    "                                round(original_param / pruned_param, 1)))"
   ]
  },
  {
   "cell_type": "code",
   "execution_count": 14,
   "id": "2619913e-9322-4197-ba51-ec0937513778",
   "metadata": {},
   "outputs": [
    {
     "name": "stdout",
     "output_type": "stream",
     "text": [
      "                Original        Pruned          Reduction Ratio\n",
      "Latency (ms)    11.3            7.6             1.5            \n",
      "MACs (M)        7413            3723            2.0            \n",
      "Param (M)       0.12            0.06            2.0            \n"
     ]
    }
   ],
   "source": [
    "show_perf_diff(load_model(), finetuned_pruned_model)"
   ]
  },
  {
   "cell_type": "code",
   "execution_count": null,
   "id": "fe07c3e3-f914-4ad5-ab14-4f9cc9f08273",
   "metadata": {},
   "outputs": [],
   "source": []
  },
  {
   "cell_type": "code",
   "execution_count": 6,
   "id": "c6e52975-ed99-49e8-a895-6d98bf501068",
   "metadata": {},
   "outputs": [],
   "source": [
    "# finetune\n",
    "# 拿到最好的模型\n",
    "# 本机测试 latency params MACs\n",
    "# 部署到平台测试\n",
    "# 与SDK剪枝对比"
   ]
  },
  {
   "cell_type": "code",
   "execution_count": null,
   "id": "edef251a-e1c0-4450-b72a-370ea0d5fdf1",
   "metadata": {},
   "outputs": [],
   "source": []
  },
  {
   "cell_type": "code",
   "execution_count": null,
   "id": "acb2f6f6-6eeb-498b-a7e9-27de52bb0402",
   "metadata": {},
   "outputs": [],
   "source": []
  },
  {
   "cell_type": "code",
   "execution_count": null,
   "id": "d4e0f340-e50e-4bc7-8f5a-1cc4b4236c0e",
   "metadata": {},
   "outputs": [],
   "source": []
  },
  {
   "cell_type": "code",
   "execution_count": null,
   "id": "1cdc0760-0474-4275-9a5b-fec06e0f810f",
   "metadata": {},
   "outputs": [],
   "source": []
  },
  {
   "cell_type": "code",
   "execution_count": 1,
   "id": "5e3b9811-2f50-4240-9291-36e2a9addcbd",
   "metadata": {},
   "outputs": [
    {
     "ename": "NameError",
     "evalue": "name 'plot_weight_distribution' is not defined",
     "output_type": "error",
     "traceback": [
      "\u001b[0;31m---------------------------------------------------------------------------\u001b[0m",
      "\u001b[0;31mNameError\u001b[0m                                 Traceback (most recent call last)",
      "Cell \u001b[0;32mIn[1], line 1\u001b[0m\n\u001b[0;32m----> 1\u001b[0m \u001b[43mplot_weight_distribution\u001b[49m(model)\n",
      "\u001b[0;31mNameError\u001b[0m: name 'plot_weight_distribution' is not defined"
     ]
    }
   ],
   "source": [
    "plot_weight_distribution(model)"
   ]
  },
  {
   "cell_type": "code",
   "execution_count": 5,
   "id": "4a3572ee-709a-4e7d-be6a-4fd6541e8aa9",
   "metadata": {},
   "outputs": [
    {
     "data": {
      "image/png": "[encoded data removed]",
      "text/plain": [
       "<Figure size 1600x1000 with 1 Axes>"
      ]
     },
     "metadata": {},
     "output_type": "display_data"
    }
   ],
   "source": [
    "plot_num_parameters_distribution(model)"
   ]
  },
  {
   "cell_type": "code",
   "execution_count": null,
   "id": "f67bcf4e-39f5-486c-949b-72ae888e0c63",
   "metadata": {},
   "outputs": [],
   "source": []
  }
 ],
 "metadata": {
  "kernelspec": {
   "display_name": "Python 3 (ipykernel)",
   "language": "python",
   "name": "python3"
  },
  "language_info": {
   "codemirror_mode": {
    "name": "ipython",
    "version": 3
   },
   "file_extension": ".py",
   "mimetype": "text/x-python",
   "name": "python",
   "nbconvert_exporter": "python",
   "pygments_lexer": "ipython3",
   "version": "3.9.21"
  }
 },
 "nbformat": 4,
 "nbformat_minor": 5
}
