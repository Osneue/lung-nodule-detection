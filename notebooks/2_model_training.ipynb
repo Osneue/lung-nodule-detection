{
 "cells": [
  {
   "cell_type": "markdown",
   "id": "e0d791fb-fc92-48f9-8827-269bd0c6828f",
   "metadata": {},
   "source": [
    "# **Lung-Nodule-Detection: Part-2 Model Training**"
   ]
  },
  {
   "cell_type": "markdown",
   "id": "5a5448ee-6873-4dde-b97e-dc52660aced3",
   "metadata": {},
   "source": [
    "# 训练分割模型"
   ]
  },
  {
   "cell_type": "code",
   "execution_count": null,
   "id": "abd97d69-48ca-474b-b17d-a273a17394fe",
   "metadata": {},
   "outputs": [],
   "source": []
  },
  {
   "cell_type": "markdown",
   "id": "474b3cf6-7507-4dd9-b93c-2478220a7fae",
   "metadata": {},
   "source": [
    "# 训练分类模型"
   ]
  },
  {
   "cell_type": "code",
   "execution_count": null,
   "id": "e378632c-0fd5-4f78-bd55-c5a1dc1c4690",
   "metadata": {},
   "outputs": [],
   "source": []
  },
  {
   "cell_type": "markdown",
   "id": "6c100192-83f5-4d8e-82dc-676f24c3692a",
   "metadata": {},
   "source": [
    "# 集成各模型以实现端到端的结节检测"
   ]
  },
  {
   "cell_type": "code",
   "execution_count": null,
   "id": "48e80dbf-ae36-47c6-8430-e6893edd9e6d",
   "metadata": {},
   "outputs": [],
   "source": []
  }
 ],
 "metadata": {
  "kernelspec": {
   "display_name": "Python 3 (ipykernel)",
   "language": "python",
   "name": "python3"
  },
  "language_info": {
   "codemirror_mode": {
    "name": "ipython",
    "version": 3
   },
   "file_extension": ".py",
   "mimetype": "text/x-python",
   "name": "python",
   "nbconvert_exporter": "python",
   "pygments_lexer": "ipython3",
   "version": "3.9.21"
  }
 },
 "nbformat": 4,
 "nbformat_minor": 5
}
